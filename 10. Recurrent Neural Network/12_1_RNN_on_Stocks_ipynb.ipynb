{
  "nbformat": 4,
  "nbformat_minor": 0,
  "metadata": {
    "colab": {
      "name": "12-1. RNN_on_Stocks.ipynb의 사본",
      "provenance": [],
      "collapsed_sections": []
    },
    "kernelspec": {
      "name": "python3",
      "display_name": "Python 3"
    },
    "language_info": {
      "name": "python"
    },
    "accelerator": "GPU"
  },
  "cells": [
    {
      "cell_type": "markdown",
      "source": [
        "# 딥러닝 RNN 기반의 검색 빈도수를 이용한 주가예측\n",
        " - FCN 모델은 현재 시점만 보고 결정: 야 너 지금 가격 35500원인데 살래말래?\n",
        " - 반면 RNN은 어제, 그제, 그그제 가격이 42300, 41000, 37000원 이었거든? 살래말래?"
      ],
      "metadata": {
        "id": "iH_xs7RAv4n2",
        "pycharm": {
          "name": "#%% md\n"
        }
      }
    },
    {
      "cell_type": "markdown",
      "source": [
        "# 0. Install packages"
      ],
      "metadata": {
        "id": "_AIyyBNuv-9Z",
        "pycharm": {
          "name": "#%% md\n"
        }
      }
    },
    {
      "cell_type": "code",
      "source": [
        "!pip install finance-datareader\n",
        "!pip install -U finance-datareader # 업데이트"
      ],
      "metadata": {
        "id": "b5OtrBfkv3VS",
        "pycharm": {
          "name": "#%%\n"
        },
        "colab": {
          "base_uri": "https://localhost:8080/"
        },
        "outputId": "ea19e331-6766-422d-d8b9-3fc932605284"
      },
      "execution_count": 1,
      "outputs": [
        {
          "output_type": "stream",
          "name": "stdout",
          "text": [
            "Looking in indexes: https://pypi.org/simple, https://us-python.pkg.dev/colab-wheels/public/simple/\n",
            "Collecting finance-datareader\n",
            "  Downloading finance_datareader-0.9.33-py3-none-any.whl (48 kB)\n",
            "\u001b[K     |████████████████████████████████| 48 kB 2.3 MB/s \n",
            "\u001b[?25hRequirement already satisfied: requests>=2.3.0 in /usr/local/lib/python3.7/dist-packages (from finance-datareader) (2.23.0)\n",
            "Requirement already satisfied: lxml in /usr/local/lib/python3.7/dist-packages (from finance-datareader) (4.2.6)\n",
            "Requirement already satisfied: pandas>=0.19.2 in /usr/local/lib/python3.7/dist-packages (from finance-datareader) (1.3.5)\n",
            "Collecting requests-file\n",
            "  Downloading requests_file-1.5.1-py2.py3-none-any.whl (3.7 kB)\n",
            "Requirement already satisfied: tqdm in /usr/local/lib/python3.7/dist-packages (from finance-datareader) (4.64.0)\n",
            "Requirement already satisfied: pytz>=2017.3 in /usr/local/lib/python3.7/dist-packages (from pandas>=0.19.2->finance-datareader) (2022.1)\n",
            "Requirement already satisfied: python-dateutil>=2.7.3 in /usr/local/lib/python3.7/dist-packages (from pandas>=0.19.2->finance-datareader) (2.8.2)\n",
            "Requirement already satisfied: numpy>=1.17.3 in /usr/local/lib/python3.7/dist-packages (from pandas>=0.19.2->finance-datareader) (1.21.6)\n",
            "Requirement already satisfied: six>=1.5 in /usr/local/lib/python3.7/dist-packages (from python-dateutil>=2.7.3->pandas>=0.19.2->finance-datareader) (1.15.0)\n",
            "Requirement already satisfied: idna<3,>=2.5 in /usr/local/lib/python3.7/dist-packages (from requests>=2.3.0->finance-datareader) (2.10)\n",
            "Requirement already satisfied: certifi>=2017.4.17 in /usr/local/lib/python3.7/dist-packages (from requests>=2.3.0->finance-datareader) (2022.5.18.1)\n",
            "Requirement already satisfied: chardet<4,>=3.0.2 in /usr/local/lib/python3.7/dist-packages (from requests>=2.3.0->finance-datareader) (3.0.4)\n",
            "Requirement already satisfied: urllib3!=1.25.0,!=1.25.1,<1.26,>=1.21.1 in /usr/local/lib/python3.7/dist-packages (from requests>=2.3.0->finance-datareader) (1.24.3)\n",
            "Installing collected packages: requests-file, finance-datareader\n",
            "Successfully installed finance-datareader-0.9.33 requests-file-1.5.1\n",
            "Looking in indexes: https://pypi.org/simple, https://us-python.pkg.dev/colab-wheels/public/simple/\n",
            "Requirement already satisfied: finance-datareader in /usr/local/lib/python3.7/dist-packages (0.9.33)\n",
            "Requirement already satisfied: requests>=2.3.0 in /usr/local/lib/python3.7/dist-packages (from finance-datareader) (2.23.0)\n",
            "Requirement already satisfied: requests-file in /usr/local/lib/python3.7/dist-packages (from finance-datareader) (1.5.1)\n",
            "Requirement already satisfied: lxml in /usr/local/lib/python3.7/dist-packages (from finance-datareader) (4.2.6)\n",
            "Requirement already satisfied: tqdm in /usr/local/lib/python3.7/dist-packages (from finance-datareader) (4.64.0)\n",
            "Requirement already satisfied: pandas>=0.19.2 in /usr/local/lib/python3.7/dist-packages (from finance-datareader) (1.3.5)\n",
            "Requirement already satisfied: numpy>=1.17.3 in /usr/local/lib/python3.7/dist-packages (from pandas>=0.19.2->finance-datareader) (1.21.6)\n",
            "Requirement already satisfied: python-dateutil>=2.7.3 in /usr/local/lib/python3.7/dist-packages (from pandas>=0.19.2->finance-datareader) (2.8.2)\n",
            "Requirement already satisfied: pytz>=2017.3 in /usr/local/lib/python3.7/dist-packages (from pandas>=0.19.2->finance-datareader) (2022.1)\n",
            "Requirement already satisfied: six>=1.5 in /usr/local/lib/python3.7/dist-packages (from python-dateutil>=2.7.3->pandas>=0.19.2->finance-datareader) (1.15.0)\n",
            "Requirement already satisfied: certifi>=2017.4.17 in /usr/local/lib/python3.7/dist-packages (from requests>=2.3.0->finance-datareader) (2022.5.18.1)\n",
            "Requirement already satisfied: idna<3,>=2.5 in /usr/local/lib/python3.7/dist-packages (from requests>=2.3.0->finance-datareader) (2.10)\n",
            "Requirement already satisfied: chardet<4,>=3.0.2 in /usr/local/lib/python3.7/dist-packages (from requests>=2.3.0->finance-datareader) (3.0.4)\n",
            "Requirement already satisfied: urllib3!=1.25.0,!=1.25.1,<1.26,>=1.21.1 in /usr/local/lib/python3.7/dist-packages (from requests>=2.3.0->finance-datareader) (1.24.3)\n"
          ]
        }
      ]
    },
    {
      "cell_type": "code",
      "source": [
        "import torch\n",
        "import torch.optim as optim\n",
        "import numpy as np\n",
        "import pandas as pd\n",
        "import matplotlib.pyplot as plt\n",
        "import urllib.request\n",
        "import json\n",
        "import re"
      ],
      "metadata": {
        "id": "CmhLKqq13fUE",
        "pycharm": {
          "name": "#%%\n"
        }
      },
      "execution_count": 2,
      "outputs": []
    },
    {
      "cell_type": "markdown",
      "source": [
        "# 1. Prepare datasests"
      ],
      "metadata": {
        "id": "ruoJovvcwD32",
        "pycharm": {
          "name": "#%% md\n"
        }
      }
    },
    {
      "cell_type": "markdown",
      "source": [
        "## 1-1. 주가 데이터 불러오기"
      ],
      "metadata": {
        "id": "YumVDrMY6eCu",
        "pycharm": {
          "name": "#%% md\n"
        }
      }
    },
    {
      "cell_type": "code",
      "execution_count": 3,
      "metadata": {
        "id": "sJa9ai4wv2pD",
        "pycharm": {
          "name": "#%%\n"
        },
        "colab": {
          "base_uri": "https://localhost:8080/",
          "height": 206
        },
        "outputId": "44cd77e6-527b-4d66-ed6b-5e1966eb1c01"
      },
      "outputs": [
        {
          "output_type": "execute_result",
          "data": {
            "text/plain": [
              "   Symbol  Market    Name           Sector             Industry ListingDate  \\\n",
              "0  060310  KOSDAQ      3S         전자부품 제조업          반도체 웨이퍼 캐리어  2002-04-23   \n",
              "1  095570   KOSPI  AJ네트웍스  산업용 기계 및 장비 임대업  렌탈(파렛트, OA장비, 건설장비)  2015-08-21   \n",
              "2  006840   KOSPI   AK홀딩스           기타 금융업                 지주사업  1999-08-11   \n",
              "3  054620  KOSDAQ  APS홀딩스           기타 금융업          인터넷 트래픽 솔루션  2001-12-04   \n",
              "4  265520  KOSDAQ   AP시스템    특수 목적용 기계 제조업          디스플레이 제조 장비  2017-04-07   \n",
              "\n",
              "  SettleMonth     Representative                       HomePage Region  \n",
              "0         03월                김세완           http://www.3sref.com  서울특별시  \n",
              "1         12월           박대현, 손삼달         http://www.ajnet.co.kr  서울특별시  \n",
              "2         12월  채형석, 이석주(각자 대표이사)  http://www.aekyunggroup.co.kr  서울특별시  \n",
              "3         12월                정기로   http://www.apsholdings.co.kr    경기도  \n",
              "4         12월                김영주     http://www.apsystems.co.kr    경기도  "
            ],
            "text/html": [
              "\n",
              "  <div id=\"df-50c9724d-c031-48a7-81fa-97e732d7c884\">\n",
              "    <div class=\"colab-df-container\">\n",
              "      <div>\n",
              "<style scoped>\n",
              "    .dataframe tbody tr th:only-of-type {\n",
              "        vertical-align: middle;\n",
              "    }\n",
              "\n",
              "    .dataframe tbody tr th {\n",
              "        vertical-align: top;\n",
              "    }\n",
              "\n",
              "    .dataframe thead th {\n",
              "        text-align: right;\n",
              "    }\n",
              "</style>\n",
              "<table border=\"1\" class=\"dataframe\">\n",
              "  <thead>\n",
              "    <tr style=\"text-align: right;\">\n",
              "      <th></th>\n",
              "      <th>Symbol</th>\n",
              "      <th>Market</th>\n",
              "      <th>Name</th>\n",
              "      <th>Sector</th>\n",
              "      <th>Industry</th>\n",
              "      <th>ListingDate</th>\n",
              "      <th>SettleMonth</th>\n",
              "      <th>Representative</th>\n",
              "      <th>HomePage</th>\n",
              "      <th>Region</th>\n",
              "    </tr>\n",
              "  </thead>\n",
              "  <tbody>\n",
              "    <tr>\n",
              "      <th>0</th>\n",
              "      <td>060310</td>\n",
              "      <td>KOSDAQ</td>\n",
              "      <td>3S</td>\n",
              "      <td>전자부품 제조업</td>\n",
              "      <td>반도체 웨이퍼 캐리어</td>\n",
              "      <td>2002-04-23</td>\n",
              "      <td>03월</td>\n",
              "      <td>김세완</td>\n",
              "      <td>http://www.3sref.com</td>\n",
              "      <td>서울특별시</td>\n",
              "    </tr>\n",
              "    <tr>\n",
              "      <th>1</th>\n",
              "      <td>095570</td>\n",
              "      <td>KOSPI</td>\n",
              "      <td>AJ네트웍스</td>\n",
              "      <td>산업용 기계 및 장비 임대업</td>\n",
              "      <td>렌탈(파렛트, OA장비, 건설장비)</td>\n",
              "      <td>2015-08-21</td>\n",
              "      <td>12월</td>\n",
              "      <td>박대현, 손삼달</td>\n",
              "      <td>http://www.ajnet.co.kr</td>\n",
              "      <td>서울특별시</td>\n",
              "    </tr>\n",
              "    <tr>\n",
              "      <th>2</th>\n",
              "      <td>006840</td>\n",
              "      <td>KOSPI</td>\n",
              "      <td>AK홀딩스</td>\n",
              "      <td>기타 금융업</td>\n",
              "      <td>지주사업</td>\n",
              "      <td>1999-08-11</td>\n",
              "      <td>12월</td>\n",
              "      <td>채형석, 이석주(각자 대표이사)</td>\n",
              "      <td>http://www.aekyunggroup.co.kr</td>\n",
              "      <td>서울특별시</td>\n",
              "    </tr>\n",
              "    <tr>\n",
              "      <th>3</th>\n",
              "      <td>054620</td>\n",
              "      <td>KOSDAQ</td>\n",
              "      <td>APS홀딩스</td>\n",
              "      <td>기타 금융업</td>\n",
              "      <td>인터넷 트래픽 솔루션</td>\n",
              "      <td>2001-12-04</td>\n",
              "      <td>12월</td>\n",
              "      <td>정기로</td>\n",
              "      <td>http://www.apsholdings.co.kr</td>\n",
              "      <td>경기도</td>\n",
              "    </tr>\n",
              "    <tr>\n",
              "      <th>4</th>\n",
              "      <td>265520</td>\n",
              "      <td>KOSDAQ</td>\n",
              "      <td>AP시스템</td>\n",
              "      <td>특수 목적용 기계 제조업</td>\n",
              "      <td>디스플레이 제조 장비</td>\n",
              "      <td>2017-04-07</td>\n",
              "      <td>12월</td>\n",
              "      <td>김영주</td>\n",
              "      <td>http://www.apsystems.co.kr</td>\n",
              "      <td>경기도</td>\n",
              "    </tr>\n",
              "  </tbody>\n",
              "</table>\n",
              "</div>\n",
              "      <button class=\"colab-df-convert\" onclick=\"convertToInteractive('df-50c9724d-c031-48a7-81fa-97e732d7c884')\"\n",
              "              title=\"Convert this dataframe to an interactive table.\"\n",
              "              style=\"display:none;\">\n",
              "        \n",
              "  <svg xmlns=\"http://www.w3.org/2000/svg\" height=\"24px\"viewBox=\"0 0 24 24\"\n",
              "       width=\"24px\">\n",
              "    <path d=\"M0 0h24v24H0V0z\" fill=\"none\"/>\n",
              "    <path d=\"M18.56 5.44l.94 2.06.94-2.06 2.06-.94-2.06-.94-.94-2.06-.94 2.06-2.06.94zm-11 1L8.5 8.5l.94-2.06 2.06-.94-2.06-.94L8.5 2.5l-.94 2.06-2.06.94zm10 10l.94 2.06.94-2.06 2.06-.94-2.06-.94-.94-2.06-.94 2.06-2.06.94z\"/><path d=\"M17.41 7.96l-1.37-1.37c-.4-.4-.92-.59-1.43-.59-.52 0-1.04.2-1.43.59L10.3 9.45l-7.72 7.72c-.78.78-.78 2.05 0 2.83L4 21.41c.39.39.9.59 1.41.59.51 0 1.02-.2 1.41-.59l7.78-7.78 2.81-2.81c.8-.78.8-2.07 0-2.86zM5.41 20L4 18.59l7.72-7.72 1.47 1.35L5.41 20z\"/>\n",
              "  </svg>\n",
              "      </button>\n",
              "      \n",
              "  <style>\n",
              "    .colab-df-container {\n",
              "      display:flex;\n",
              "      flex-wrap:wrap;\n",
              "      gap: 12px;\n",
              "    }\n",
              "\n",
              "    .colab-df-convert {\n",
              "      background-color: #E8F0FE;\n",
              "      border: none;\n",
              "      border-radius: 50%;\n",
              "      cursor: pointer;\n",
              "      display: none;\n",
              "      fill: #1967D2;\n",
              "      height: 32px;\n",
              "      padding: 0 0 0 0;\n",
              "      width: 32px;\n",
              "    }\n",
              "\n",
              "    .colab-df-convert:hover {\n",
              "      background-color: #E2EBFA;\n",
              "      box-shadow: 0px 1px 2px rgba(60, 64, 67, 0.3), 0px 1px 3px 1px rgba(60, 64, 67, 0.15);\n",
              "      fill: #174EA6;\n",
              "    }\n",
              "\n",
              "    [theme=dark] .colab-df-convert {\n",
              "      background-color: #3B4455;\n",
              "      fill: #D2E3FC;\n",
              "    }\n",
              "\n",
              "    [theme=dark] .colab-df-convert:hover {\n",
              "      background-color: #434B5C;\n",
              "      box-shadow: 0px 1px 3px 1px rgba(0, 0, 0, 0.15);\n",
              "      filter: drop-shadow(0px 1px 2px rgba(0, 0, 0, 0.3));\n",
              "      fill: #FFFFFF;\n",
              "    }\n",
              "  </style>\n",
              "\n",
              "      <script>\n",
              "        const buttonEl =\n",
              "          document.querySelector('#df-50c9724d-c031-48a7-81fa-97e732d7c884 button.colab-df-convert');\n",
              "        buttonEl.style.display =\n",
              "          google.colab.kernel.accessAllowed ? 'block' : 'none';\n",
              "\n",
              "        async function convertToInteractive(key) {\n",
              "          const element = document.querySelector('#df-50c9724d-c031-48a7-81fa-97e732d7c884');\n",
              "          const dataTable =\n",
              "            await google.colab.kernel.invokeFunction('convertToInteractive',\n",
              "                                                     [key], {});\n",
              "          if (!dataTable) return;\n",
              "\n",
              "          const docLinkHtml = 'Like what you see? Visit the ' +\n",
              "            '<a target=\"_blank\" href=https://colab.research.google.com/notebooks/data_table.ipynb>data table notebook</a>'\n",
              "            + ' to learn more about interactive tables.';\n",
              "          element.innerHTML = '';\n",
              "          dataTable['output_type'] = 'display_data';\n",
              "          await google.colab.output.renderOutput(dataTable, element);\n",
              "          const docLink = document.createElement('div');\n",
              "          docLink.innerHTML = docLinkHtml;\n",
              "          element.appendChild(docLink);\n",
              "        }\n",
              "      </script>\n",
              "    </div>\n",
              "  </div>\n",
              "  "
            ]
          },
          "metadata": {},
          "execution_count": 3
        }
      ],
      "source": [
        "# Random seed to make results deterministic and reproducible\n",
        "torch.manual_seed(0)\n",
        "\n",
        "# 한국거래소에 상장된 모든 종목 리스트 가져오기\n",
        "import FinanceDataReader as fdr\n",
        "df_krx = fdr.StockListing('KRX')\n",
        "df_krx.head()"
      ]
    },
    {
      "cell_type": "code",
      "source": [
        "df = fdr.DataReader('036570','2020-01-01', '2022-04-12') # NCsoft 주가를 2020년부터 현시점까지 가져온다"
      ],
      "metadata": {
        "id": "hRD8JZyy1kSq",
        "pycharm": {
          "name": "#%%\n"
        }
      },
      "execution_count": 4,
      "outputs": []
    },
    {
      "cell_type": "code",
      "source": [
        "df"
      ],
      "metadata": {
        "id": "9yar11nd3Qy0",
        "pycharm": {
          "name": "#%%\n"
        },
        "colab": {
          "base_uri": "https://localhost:8080/",
          "height": 455
        },
        "outputId": "e6440c64-e392-46fd-bdda-52bba622e20c"
      },
      "execution_count": 5,
      "outputs": [
        {
          "output_type": "execute_result",
          "data": {
            "text/plain": [
              "              Open    High     Low   Close  Volume    Change\n",
              "Date                                                        \n",
              "2020-01-02  542000  545000  539000  541000   40246  0.000000\n",
              "2020-01-03  547000  568000  542000  565000  112404  0.044362\n",
              "2020-01-06  562000  587000  562000  579000  107006  0.024779\n",
              "2020-01-07  583000  596000  574000  594000   84378  0.025907\n",
              "2020-01-08  587000  604000  584000  604000  109267  0.016835\n",
              "...            ...     ...     ...     ...     ...       ...\n",
              "2022-04-06  475000  483500  469000  474000   96750 -0.012500\n",
              "2022-04-07  469000  471500  462000  462000  103079 -0.025316\n",
              "2022-04-08  462500  466500  453500  458000   87055 -0.008658\n",
              "2022-04-11  450500  459000  449000  453500   59322 -0.009825\n",
              "2022-04-12  452000  461500  446500  458000  100684  0.009923\n",
              "\n",
              "[563 rows x 6 columns]"
            ],
            "text/html": [
              "\n",
              "  <div id=\"df-c7f9185b-6846-43d8-bcf8-ed097ec30bc2\">\n",
              "    <div class=\"colab-df-container\">\n",
              "      <div>\n",
              "<style scoped>\n",
              "    .dataframe tbody tr th:only-of-type {\n",
              "        vertical-align: middle;\n",
              "    }\n",
              "\n",
              "    .dataframe tbody tr th {\n",
              "        vertical-align: top;\n",
              "    }\n",
              "\n",
              "    .dataframe thead th {\n",
              "        text-align: right;\n",
              "    }\n",
              "</style>\n",
              "<table border=\"1\" class=\"dataframe\">\n",
              "  <thead>\n",
              "    <tr style=\"text-align: right;\">\n",
              "      <th></th>\n",
              "      <th>Open</th>\n",
              "      <th>High</th>\n",
              "      <th>Low</th>\n",
              "      <th>Close</th>\n",
              "      <th>Volume</th>\n",
              "      <th>Change</th>\n",
              "    </tr>\n",
              "    <tr>\n",
              "      <th>Date</th>\n",
              "      <th></th>\n",
              "      <th></th>\n",
              "      <th></th>\n",
              "      <th></th>\n",
              "      <th></th>\n",
              "      <th></th>\n",
              "    </tr>\n",
              "  </thead>\n",
              "  <tbody>\n",
              "    <tr>\n",
              "      <th>2020-01-02</th>\n",
              "      <td>542000</td>\n",
              "      <td>545000</td>\n",
              "      <td>539000</td>\n",
              "      <td>541000</td>\n",
              "      <td>40246</td>\n",
              "      <td>0.000000</td>\n",
              "    </tr>\n",
              "    <tr>\n",
              "      <th>2020-01-03</th>\n",
              "      <td>547000</td>\n",
              "      <td>568000</td>\n",
              "      <td>542000</td>\n",
              "      <td>565000</td>\n",
              "      <td>112404</td>\n",
              "      <td>0.044362</td>\n",
              "    </tr>\n",
              "    <tr>\n",
              "      <th>2020-01-06</th>\n",
              "      <td>562000</td>\n",
              "      <td>587000</td>\n",
              "      <td>562000</td>\n",
              "      <td>579000</td>\n",
              "      <td>107006</td>\n",
              "      <td>0.024779</td>\n",
              "    </tr>\n",
              "    <tr>\n",
              "      <th>2020-01-07</th>\n",
              "      <td>583000</td>\n",
              "      <td>596000</td>\n",
              "      <td>574000</td>\n",
              "      <td>594000</td>\n",
              "      <td>84378</td>\n",
              "      <td>0.025907</td>\n",
              "    </tr>\n",
              "    <tr>\n",
              "      <th>2020-01-08</th>\n",
              "      <td>587000</td>\n",
              "      <td>604000</td>\n",
              "      <td>584000</td>\n",
              "      <td>604000</td>\n",
              "      <td>109267</td>\n",
              "      <td>0.016835</td>\n",
              "    </tr>\n",
              "    <tr>\n",
              "      <th>...</th>\n",
              "      <td>...</td>\n",
              "      <td>...</td>\n",
              "      <td>...</td>\n",
              "      <td>...</td>\n",
              "      <td>...</td>\n",
              "      <td>...</td>\n",
              "    </tr>\n",
              "    <tr>\n",
              "      <th>2022-04-06</th>\n",
              "      <td>475000</td>\n",
              "      <td>483500</td>\n",
              "      <td>469000</td>\n",
              "      <td>474000</td>\n",
              "      <td>96750</td>\n",
              "      <td>-0.012500</td>\n",
              "    </tr>\n",
              "    <tr>\n",
              "      <th>2022-04-07</th>\n",
              "      <td>469000</td>\n",
              "      <td>471500</td>\n",
              "      <td>462000</td>\n",
              "      <td>462000</td>\n",
              "      <td>103079</td>\n",
              "      <td>-0.025316</td>\n",
              "    </tr>\n",
              "    <tr>\n",
              "      <th>2022-04-08</th>\n",
              "      <td>462500</td>\n",
              "      <td>466500</td>\n",
              "      <td>453500</td>\n",
              "      <td>458000</td>\n",
              "      <td>87055</td>\n",
              "      <td>-0.008658</td>\n",
              "    </tr>\n",
              "    <tr>\n",
              "      <th>2022-04-11</th>\n",
              "      <td>450500</td>\n",
              "      <td>459000</td>\n",
              "      <td>449000</td>\n",
              "      <td>453500</td>\n",
              "      <td>59322</td>\n",
              "      <td>-0.009825</td>\n",
              "    </tr>\n",
              "    <tr>\n",
              "      <th>2022-04-12</th>\n",
              "      <td>452000</td>\n",
              "      <td>461500</td>\n",
              "      <td>446500</td>\n",
              "      <td>458000</td>\n",
              "      <td>100684</td>\n",
              "      <td>0.009923</td>\n",
              "    </tr>\n",
              "  </tbody>\n",
              "</table>\n",
              "<p>563 rows × 6 columns</p>\n",
              "</div>\n",
              "      <button class=\"colab-df-convert\" onclick=\"convertToInteractive('df-c7f9185b-6846-43d8-bcf8-ed097ec30bc2')\"\n",
              "              title=\"Convert this dataframe to an interactive table.\"\n",
              "              style=\"display:none;\">\n",
              "        \n",
              "  <svg xmlns=\"http://www.w3.org/2000/svg\" height=\"24px\"viewBox=\"0 0 24 24\"\n",
              "       width=\"24px\">\n",
              "    <path d=\"M0 0h24v24H0V0z\" fill=\"none\"/>\n",
              "    <path d=\"M18.56 5.44l.94 2.06.94-2.06 2.06-.94-2.06-.94-.94-2.06-.94 2.06-2.06.94zm-11 1L8.5 8.5l.94-2.06 2.06-.94-2.06-.94L8.5 2.5l-.94 2.06-2.06.94zm10 10l.94 2.06.94-2.06 2.06-.94-2.06-.94-.94-2.06-.94 2.06-2.06.94z\"/><path d=\"M17.41 7.96l-1.37-1.37c-.4-.4-.92-.59-1.43-.59-.52 0-1.04.2-1.43.59L10.3 9.45l-7.72 7.72c-.78.78-.78 2.05 0 2.83L4 21.41c.39.39.9.59 1.41.59.51 0 1.02-.2 1.41-.59l7.78-7.78 2.81-2.81c.8-.78.8-2.07 0-2.86zM5.41 20L4 18.59l7.72-7.72 1.47 1.35L5.41 20z\"/>\n",
              "  </svg>\n",
              "      </button>\n",
              "      \n",
              "  <style>\n",
              "    .colab-df-container {\n",
              "      display:flex;\n",
              "      flex-wrap:wrap;\n",
              "      gap: 12px;\n",
              "    }\n",
              "\n",
              "    .colab-df-convert {\n",
              "      background-color: #E8F0FE;\n",
              "      border: none;\n",
              "      border-radius: 50%;\n",
              "      cursor: pointer;\n",
              "      display: none;\n",
              "      fill: #1967D2;\n",
              "      height: 32px;\n",
              "      padding: 0 0 0 0;\n",
              "      width: 32px;\n",
              "    }\n",
              "\n",
              "    .colab-df-convert:hover {\n",
              "      background-color: #E2EBFA;\n",
              "      box-shadow: 0px 1px 2px rgba(60, 64, 67, 0.3), 0px 1px 3px 1px rgba(60, 64, 67, 0.15);\n",
              "      fill: #174EA6;\n",
              "    }\n",
              "\n",
              "    [theme=dark] .colab-df-convert {\n",
              "      background-color: #3B4455;\n",
              "      fill: #D2E3FC;\n",
              "    }\n",
              "\n",
              "    [theme=dark] .colab-df-convert:hover {\n",
              "      background-color: #434B5C;\n",
              "      box-shadow: 0px 1px 3px 1px rgba(0, 0, 0, 0.15);\n",
              "      filter: drop-shadow(0px 1px 2px rgba(0, 0, 0, 0.3));\n",
              "      fill: #FFFFFF;\n",
              "    }\n",
              "  </style>\n",
              "\n",
              "      <script>\n",
              "        const buttonEl =\n",
              "          document.querySelector('#df-c7f9185b-6846-43d8-bcf8-ed097ec30bc2 button.colab-df-convert');\n",
              "        buttonEl.style.display =\n",
              "          google.colab.kernel.accessAllowed ? 'block' : 'none';\n",
              "\n",
              "        async function convertToInteractive(key) {\n",
              "          const element = document.querySelector('#df-c7f9185b-6846-43d8-bcf8-ed097ec30bc2');\n",
              "          const dataTable =\n",
              "            await google.colab.kernel.invokeFunction('convertToInteractive',\n",
              "                                                     [key], {});\n",
              "          if (!dataTable) return;\n",
              "\n",
              "          const docLinkHtml = 'Like what you see? Visit the ' +\n",
              "            '<a target=\"_blank\" href=https://colab.research.google.com/notebooks/data_table.ipynb>data table notebook</a>'\n",
              "            + ' to learn more about interactive tables.';\n",
              "          element.innerHTML = '';\n",
              "          dataTable['output_type'] = 'display_data';\n",
              "          await google.colab.output.renderOutput(dataTable, element);\n",
              "          const docLink = document.createElement('div');\n",
              "          docLink.innerHTML = docLinkHtml;\n",
              "          element.appendChild(docLink);\n",
              "        }\n",
              "      </script>\n",
              "    </div>\n",
              "  </div>\n",
              "  "
            ]
          },
          "metadata": {},
          "execution_count": 5
        }
      ]
    },
    {
      "cell_type": "code",
      "source": [
        "df = df.fillna(0)"
      ],
      "metadata": {
        "id": "4EG7lm7M3TP3",
        "pycharm": {
          "name": "#%%\n"
        }
      },
      "execution_count": 6,
      "outputs": []
    },
    {
      "cell_type": "code",
      "source": [
        "plt.plot(df['Close'], 'bo-')\n",
        "plt.xticks(rotation=45)"
      ],
      "metadata": {
        "id": "Cxp628qL3wVT",
        "pycharm": {
          "name": "#%%\n"
        },
        "colab": {
          "base_uri": "https://localhost:8080/",
          "height": 357
        },
        "outputId": "5a535fb1-c23a-4b4b-b4e6-347de1c4fdd1"
      },
      "execution_count": 7,
      "outputs": [
        {
          "output_type": "execute_result",
          "data": {
            "text/plain": [
              "(array([737425., 737516., 737607., 737699., 737791., 737881., 737972.,\n",
              "        738064., 738156., 738246.]),\n",
              " <a list of 10 Text major ticklabel objects>)"
            ]
          },
          "metadata": {},
          "execution_count": 7
        },
        {
          "output_type": "display_data",
          "data": {
            "text/plain": [
              "<Figure size 432x288 with 1 Axes>"
            ],
            "image/png": "[encoded data removed]"
          },
          "metadata": {
            "needs_background": "light"
          }
        }
      ]
    },
    {
      "cell_type": "markdown",
      "source": [
        "## 1-2. Naver API 키워드 검색 데이터 불러오기"
      ],
      "metadata": {
        "id": "L16p9sjj6jHB",
        "pycharm": {
          "name": "#%% md\n"
        }
      }
    },
    {
      "cell_type": "code",
      "source": [
        "import os\n",
        "import sys\n",
        "import urllib.request\n",
        "client_id = \"8sAydq_QSOxKcICuD2Og\"\n",
        "client_secret = \"OruQjbmaXF\"\n",
        "url = \"https://openapi.naver.com/v1/datalab/search\";\n",
        "body = \"{\\\"startDate\\\":\\\"2020-01-01\\\",\\\"endDate\\\":\\\"2022-04-12\\\",\\\"timeUnit\\\":\\\"date\\\",\\\"keywordGroups\\\":[{\\\"groupName\\\":\\\"NCSoft_N\\\",\\\"keywords\\\":[\\\"NCSoft\\\",\\\"환불\\\",\\\"사건\\\"]}, {\\\"groupName\\\":\\\"NCSoft_P\\\",\\\"keywords\\\":[\\\"리니지\\\",\\\"업데이트\\\"]}]}\";\n",
        "\n",
        "request = urllib.request.Request(url)\n",
        "request.add_header(\"X-Naver-Client-Id\",client_id)\n",
        "request.add_header(\"X-Naver-Client-Secret\",client_secret)\n",
        "request.add_header(\"Content-Type\",\"application/json\")\n",
        "response = urllib.request.urlopen(request, data=body.encode(\"utf-8\"))\n",
        "rescode = response.getcode()\n",
        "if(rescode==200):\n",
        "    response_body = response.read()\n",
        "    #print(response_body.decode('utf-8'))\n",
        "    search_count = response_body.decode('utf-8')\n",
        "else:\n",
        "    print(\"Error Code:\" + rescode)"
      ],
      "metadata": {
        "id": "sNK97GaS6okU",
        "pycharm": {
          "name": "#%%\n"
        }
      },
      "execution_count": 8,
      "outputs": []
    },
    {
      "cell_type": "code",
      "source": [
        "search_count_json = json.loads(search_count)"
      ],
      "metadata": {
        "id": "LtYJfefd8M1b",
        "pycharm": {
          "name": "#%%\n"
        }
      },
      "execution_count": 9,
      "outputs": []
    },
    {
      "cell_type": "markdown",
      "source": [
        "## 1-3. 데이터 전처리 및 Merge하기"
      ],
      "metadata": {
        "id": "nYnUNmB-JjXP",
        "pycharm": {
          "name": "#%% md\n"
        }
      }
    },
    {
      "cell_type": "code",
      "source": [
        "for idx in range(len(search_count_json[\"results\"])):\n",
        "  \n",
        "  df_json = pd.DataFrame(search_count_json[\"results\"][idx][\"data\"])\n",
        "  column_name = 'Key_Count'+str(idx)\n",
        "  df_json.columns = ['Date', column_name]\n",
        "  df_json['Date'] = pd.to_datetime(df_json['Date'])\n",
        "  df_json.reset_index(drop=True)\n",
        "  df_json.set_index(\"Date\")\n",
        "  #Please refer to the section of \"Merging asof\" in https://pandas.pydata.org/docs/user_guide/merging.html\n",
        "  df = pd.merge_asof(df, df_json, on=\"Date\", by=\"Date\")"
      ],
      "metadata": {
        "id": "qWrzE61AHwLY",
        "pycharm": {
          "name": "#%%\n"
        }
      },
      "execution_count": 10,
      "outputs": []
    },
    {
      "cell_type": "code",
      "source": [
        "df_all = df"
      ],
      "metadata": {
        "id": "16PpbyrlGZ7l",
        "pycharm": {
          "name": "#%%\n"
        }
      },
      "execution_count": 11,
      "outputs": []
    },
    {
      "cell_type": "code",
      "source": [
        "df_all[\"Change\"].sum() # 전체 주가의 변동폭은 2020년부터 현재까지 증가일까 감소일까? 최종 주가는 빠졌는데 놀랍게도 증가함.. 이는 복리의 함정"
      ],
      "metadata": {
        "id": "tZNTBN3f9cSC",
        "pycharm": {
          "name": "#%%\n"
        },
        "colab": {
          "base_uri": "https://localhost:8080/"
        },
        "outputId": "9890a358-39f4-4f22-f319-c5c86add6a6e"
      },
      "execution_count": 12,
      "outputs": [
        {
          "output_type": "execute_result",
          "data": {
            "text/plain": [
              "0.07053067344563524"
            ]
          },
          "metadata": {},
          "execution_count": 12
        }
      ]
    },
    {
      "cell_type": "code",
      "source": [
        "df_all[df_all[\"Date\"] > '2022-01-01'][\"Change\"].sum() #조금 더 범위를 좁혀 그러면 2022년 전체 주가 변동폭만 검색해보자, 역시 폭락중 불쌍한 임교수"
      ],
      "metadata": {
        "id": "TYLSgWit-B4L",
        "pycharm": {
          "name": "#%%\n"
        },
        "colab": {
          "base_uri": "https://localhost:8080/"
        },
        "outputId": "ecf39848-3448-43d2-81bd-73aa28673666"
      },
      "execution_count": 13,
      "outputs": [
        {
          "output_type": "execute_result",
          "data": {
            "text/plain": [
              "-0.3216858919029978"
            ]
          },
          "metadata": {},
          "execution_count": 13
        }
      ]
    },
    {
      "cell_type": "code",
      "source": [
        "#df_all[df_all[\"Count\"].notnull()][\"Change\"].sum() # 그렇다면 해당 키워드가 검색된 날만 뽑아 주가가 상승했는지 하락인지 살펴보자."
      ],
      "metadata": {
        "id": "rvgJXeGc2I2Y",
        "pycharm": {
          "name": "#%%\n"
        }
      },
      "execution_count": 14,
      "outputs": []
    },
    {
      "cell_type": "code",
      "source": [
        "# Fill nan as 0\n",
        "df_all = df_all.fillna(0)\n",
        "df_all.any().isnull()"
      ],
      "metadata": {
        "id": "Prgeak9_mw6L",
        "pycharm": {
          "name": "#%%\n"
        },
        "colab": {
          "base_uri": "https://localhost:8080/"
        },
        "outputId": "346ee9bf-a9b8-4dde-be49-fc1b267e8298"
      },
      "execution_count": 15,
      "outputs": [
        {
          "output_type": "execute_result",
          "data": {
            "text/plain": [
              "Date          False\n",
              "Open          False\n",
              "High          False\n",
              "Low           False\n",
              "Close         False\n",
              "Volume        False\n",
              "Change        False\n",
              "Key_Count0    False\n",
              "Key_Count1    False\n",
              "dtype: bool"
            ]
          },
          "metadata": {},
          "execution_count": 15
        }
      ]
    },
    {
      "cell_type": "code",
      "source": [
        "df_all"
      ],
      "metadata": {
        "id": "dlW0D2SeHpuA",
        "pycharm": {
          "name": "#%%\n"
        },
        "colab": {
          "base_uri": "https://localhost:8080/",
          "height": 423
        },
        "outputId": "e641cd4d-e325-4214-8647-3754162ad4d9"
      },
      "execution_count": 16,
      "outputs": [
        {
          "output_type": "execute_result",
          "data": {
            "text/plain": [
              "          Date    Open    High     Low   Close  Volume    Change  Key_Count0  \\\n",
              "0   2020-01-02  542000  545000  539000  541000   40246  0.000000     3.18808   \n",
              "1   2020-01-03  547000  568000  542000  565000  112404  0.044362     3.20088   \n",
              "2   2020-01-06  562000  587000  562000  579000  107006  0.024779     3.59352   \n",
              "3   2020-01-07  583000  596000  574000  594000   84378  0.025907     3.55511   \n",
              "4   2020-01-08  587000  604000  584000  604000  109267  0.016835     3.90508   \n",
              "..         ...     ...     ...     ...     ...     ...       ...         ...   \n",
              "558 2022-04-06  475000  483500  469000  474000   96750 -0.012500     3.46976   \n",
              "559 2022-04-07  469000  471500  462000  462000  103079 -0.025316     3.69595   \n",
              "560 2022-04-08  462500  466500  453500  458000   87055 -0.008658     3.39720   \n",
              "561 2022-04-11  450500  459000  449000  453500   59322 -0.009825     3.57645   \n",
              "562 2022-04-12  452000  461500  446500  458000  100684  0.009923     3.76424   \n",
              "\n",
              "     Key_Count1  \n",
              "0      41.62007  \n",
              "1      30.74559  \n",
              "2      30.28893  \n",
              "3      32.89232  \n",
              "4      51.45320  \n",
              "..          ...  \n",
              "558    16.67875  \n",
              "559    13.18765  \n",
              "560    12.20178  \n",
              "561    11.35674  \n",
              "562    12.36823  \n",
              "\n",
              "[563 rows x 9 columns]"
            ],
            "text/html": [
              "\n",
              "  <div id=\"df-e380c6a2-57b1-422b-bbe4-1dabbfdc8cfe\">\n",
              "    <div class=\"colab-df-container\">\n",
              "      <div>\n",
              "<style scoped>\n",
              "    .dataframe tbody tr th:only-of-type {\n",
              "        vertical-align: middle;\n",
              "    }\n",
              "\n",
              "    .dataframe tbody tr th {\n",
              "        vertical-align: top;\n",
              "    }\n",
              "\n",
              "    .dataframe thead th {\n",
              "        text-align: right;\n",
              "    }\n",
              "</style>\n",
              "<table border=\"1\" class=\"dataframe\">\n",
              "  <thead>\n",
              "    <tr style=\"text-align: right;\">\n",
              "      <th></th>\n",
              "      <th>Date</th>\n",
              "      <th>Open</th>\n",
              "      <th>High</th>\n",
              "      <th>Low</th>\n",
              "      <th>Close</th>\n",
              "      <th>Volume</th>\n",
              "      <th>Change</th>\n",
              "      <th>Key_Count0</th>\n",
              "      <th>Key_Count1</th>\n",
              "    </tr>\n",
              "  </thead>\n",
              "  <tbody>\n",
              "    <tr>\n",
              "      <th>0</th>\n",
              "      <td>2020-01-02</td>\n",
              "      <td>542000</td>\n",
              "      <td>545000</td>\n",
              "      <td>539000</td>\n",
              "      <td>541000</td>\n",
              "      <td>40246</td>\n",
              "      <td>0.000000</td>\n",
              "      <td>3.18808</td>\n",
              "      <td>41.62007</td>\n",
              "    </tr>\n",
              "    <tr>\n",
              "      <th>1</th>\n",
              "      <td>2020-01-03</td>\n",
              "      <td>547000</td>\n",
              "      <td>568000</td>\n",
              "      <td>542000</td>\n",
              "      <td>565000</td>\n",
              "      <td>112404</td>\n",
              "      <td>0.044362</td>\n",
              "      <td>3.20088</td>\n",
              "      <td>30.74559</td>\n",
              "    </tr>\n",
              "    <tr>\n",
              "      <th>2</th>\n",
              "      <td>2020-01-06</td>\n",
              "      <td>562000</td>\n",
              "      <td>587000</td>\n",
              "      <td>562000</td>\n",
              "      <td>579000</td>\n",
              "      <td>107006</td>\n",
              "      <td>0.024779</td>\n",
              "      <td>3.59352</td>\n",
              "      <td>30.28893</td>\n",
              "    </tr>\n",
              "    <tr>\n",
              "      <th>3</th>\n",
              "      <td>2020-01-07</td>\n",
              "      <td>583000</td>\n",
              "      <td>596000</td>\n",
              "      <td>574000</td>\n",
              "      <td>594000</td>\n",
              "      <td>84378</td>\n",
              "      <td>0.025907</td>\n",
              "      <td>3.55511</td>\n",
              "      <td>32.89232</td>\n",
              "    </tr>\n",
              "    <tr>\n",
              "      <th>4</th>\n",
              "      <td>2020-01-08</td>\n",
              "      <td>587000</td>\n",
              "      <td>604000</td>\n",
              "      <td>584000</td>\n",
              "      <td>604000</td>\n",
              "      <td>109267</td>\n",
              "      <td>0.016835</td>\n",
              "      <td>3.90508</td>\n",
              "      <td>51.45320</td>\n",
              "    </tr>\n",
              "    <tr>\n",
              "      <th>...</th>\n",
              "      <td>...</td>\n",
              "      <td>...</td>\n",
              "      <td>...</td>\n",
              "      <td>...</td>\n",
              "      <td>...</td>\n",
              "      <td>...</td>\n",
              "      <td>...</td>\n",
              "      <td>...</td>\n",
              "      <td>...</td>\n",
              "    </tr>\n",
              "    <tr>\n",
              "      <th>558</th>\n",
              "      <td>2022-04-06</td>\n",
              "      <td>475000</td>\n",
              "      <td>483500</td>\n",
              "      <td>469000</td>\n",
              "      <td>474000</td>\n",
              "      <td>96750</td>\n",
              "      <td>-0.012500</td>\n",
              "      <td>3.46976</td>\n",
              "      <td>16.67875</td>\n",
              "    </tr>\n",
              "    <tr>\n",
              "      <th>559</th>\n",
              "      <td>2022-04-07</td>\n",
              "      <td>469000</td>\n",
              "      <td>471500</td>\n",
              "      <td>462000</td>\n",
              "      <td>462000</td>\n",
              "      <td>103079</td>\n",
              "      <td>-0.025316</td>\n",
              "      <td>3.69595</td>\n",
              "      <td>13.18765</td>\n",
              "    </tr>\n",
              "    <tr>\n",
              "      <th>560</th>\n",
              "      <td>2022-04-08</td>\n",
              "      <td>462500</td>\n",
              "      <td>466500</td>\n",
              "      <td>453500</td>\n",
              "      <td>458000</td>\n",
              "      <td>87055</td>\n",
              "      <td>-0.008658</td>\n",
              "      <td>3.39720</td>\n",
              "      <td>12.20178</td>\n",
              "    </tr>\n",
              "    <tr>\n",
              "      <th>561</th>\n",
              "      <td>2022-04-11</td>\n",
              "      <td>450500</td>\n",
              "      <td>459000</td>\n",
              "      <td>449000</td>\n",
              "      <td>453500</td>\n",
              "      <td>59322</td>\n",
              "      <td>-0.009825</td>\n",
              "      <td>3.57645</td>\n",
              "      <td>11.35674</td>\n",
              "    </tr>\n",
              "    <tr>\n",
              "      <th>562</th>\n",
              "      <td>2022-04-12</td>\n",
              "      <td>452000</td>\n",
              "      <td>461500</td>\n",
              "      <td>446500</td>\n",
              "      <td>458000</td>\n",
              "      <td>100684</td>\n",
              "      <td>0.009923</td>\n",
              "      <td>3.76424</td>\n",
              "      <td>12.36823</td>\n",
              "    </tr>\n",
              "  </tbody>\n",
              "</table>\n",
              "<p>563 rows × 9 columns</p>\n",
              "</div>\n",
              "      <button class=\"colab-df-convert\" onclick=\"convertToInteractive('df-e380c6a2-57b1-422b-bbe4-1dabbfdc8cfe')\"\n",
              "              title=\"Convert this dataframe to an interactive table.\"\n",
              "              style=\"display:none;\">\n",
              "        \n",
              "  <svg xmlns=\"http://www.w3.org/2000/svg\" height=\"24px\"viewBox=\"0 0 24 24\"\n",
              "       width=\"24px\">\n",
              "    <path d=\"M0 0h24v24H0V0z\" fill=\"none\"/>\n",
              "    <path d=\"M18.56 5.44l.94 2.06.94-2.06 2.06-.94-2.06-.94-.94-2.06-.94 2.06-2.06.94zm-11 1L8.5 8.5l.94-2.06 2.06-.94-2.06-.94L8.5 2.5l-.94 2.06-2.06.94zm10 10l.94 2.06.94-2.06 2.06-.94-2.06-.94-.94-2.06-.94 2.06-2.06.94z\"/><path d=\"M17.41 7.96l-1.37-1.37c-.4-.4-.92-.59-1.43-.59-.52 0-1.04.2-1.43.59L10.3 9.45l-7.72 7.72c-.78.78-.78 2.05 0 2.83L4 21.41c.39.39.9.59 1.41.59.51 0 1.02-.2 1.41-.59l7.78-7.78 2.81-2.81c.8-.78.8-2.07 0-2.86zM5.41 20L4 18.59l7.72-7.72 1.47 1.35L5.41 20z\"/>\n",
              "  </svg>\n",
              "      </button>\n",
              "      \n",
              "  <style>\n",
              "    .colab-df-container {\n",
              "      display:flex;\n",
              "      flex-wrap:wrap;\n",
              "      gap: 12px;\n",
              "    }\n",
              "\n",
              "    .colab-df-convert {\n",
              "      background-color: #E8F0FE;\n",
              "      border: none;\n",
              "      border-radius: 50%;\n",
              "      cursor: pointer;\n",
              "      display: none;\n",
              "      fill: #1967D2;\n",
              "      height: 32px;\n",
              "      padding: 0 0 0 0;\n",
              "      width: 32px;\n",
              "    }\n",
              "\n",
              "    .colab-df-convert:hover {\n",
              "      background-color: #E2EBFA;\n",
              "      box-shadow: 0px 1px 2px rgba(60, 64, 67, 0.3), 0px 1px 3px 1px rgba(60, 64, 67, 0.15);\n",
              "      fill: #174EA6;\n",
              "    }\n",
              "\n",
              "    [theme=dark] .colab-df-convert {\n",
              "      background-color: #3B4455;\n",
              "      fill: #D2E3FC;\n",
              "    }\n",
              "\n",
              "    [theme=dark] .colab-df-convert:hover {\n",
              "      background-color: #434B5C;\n",
              "      box-shadow: 0px 1px 3px 1px rgba(0, 0, 0, 0.15);\n",
              "      filter: drop-shadow(0px 1px 2px rgba(0, 0, 0, 0.3));\n",
              "      fill: #FFFFFF;\n",
              "    }\n",
              "  </style>\n",
              "\n",
              "      <script>\n",
              "        const buttonEl =\n",
              "          document.querySelector('#df-e380c6a2-57b1-422b-bbe4-1dabbfdc8cfe button.colab-df-convert');\n",
              "        buttonEl.style.display =\n",
              "          google.colab.kernel.accessAllowed ? 'block' : 'none';\n",
              "\n",
              "        async function convertToInteractive(key) {\n",
              "          const element = document.querySelector('#df-e380c6a2-57b1-422b-bbe4-1dabbfdc8cfe');\n",
              "          const dataTable =\n",
              "            await google.colab.kernel.invokeFunction('convertToInteractive',\n",
              "                                                     [key], {});\n",
              "          if (!dataTable) return;\n",
              "\n",
              "          const docLinkHtml = 'Like what you see? Visit the ' +\n",
              "            '<a target=\"_blank\" href=https://colab.research.google.com/notebooks/data_table.ipynb>data table notebook</a>'\n",
              "            + ' to learn more about interactive tables.';\n",
              "          element.innerHTML = '';\n",
              "          dataTable['output_type'] = 'display_data';\n",
              "          await google.colab.output.renderOutput(dataTable, element);\n",
              "          const docLink = document.createElement('div');\n",
              "          docLink.innerHTML = docLinkHtml;\n",
              "          element.appendChild(docLink);\n",
              "        }\n",
              "      </script>\n",
              "    </div>\n",
              "  </div>\n",
              "  "
            ]
          },
          "metadata": {},
          "execution_count": 16
        }
      ]
    },
    {
      "cell_type": "markdown",
      "source": [
        "## 1-4. Feature Selection"
      ],
      "metadata": {
        "id": "Uba_J4denfKP",
        "pycharm": {
          "name": "#%% md\n"
        }
      }
    },
    {
      "cell_type": "code",
      "source": [
        "## You need to visualized a relational graph\n",
        "fig = plt.figure(figsize=(10,5))\n",
        "ax1 = fig.add_subplot(121)\n",
        "ax2 = fig.add_subplot(122)\n",
        "\n",
        "ax1.scatter(df_all[\"Key_Count0\"], df_all[\"Change\"])\n",
        "ax2.scatter(df_all[\"Key_Count1\"], df_all[\"Change\"])\n"
      ],
      "metadata": {
        "id": "MN6CLgl1KwPz",
        "pycharm": {
          "name": "#%%\n"
        },
        "colab": {
          "base_uri": "https://localhost:8080/",
          "height": 338
        },
        "outputId": "35cb2fc3-57df-451c-c102-b4c61c806f04"
      },
      "execution_count": 17,
      "outputs": [
        {
          "output_type": "execute_result",
          "data": {
            "text/plain": [
              "<matplotlib.collections.PathCollection at 0x7f08e705bfd0>"
            ]
          },
          "metadata": {},
          "execution_count": 17
        },
        {
          "output_type": "display_data",
          "data": {
            "text/plain": [
              "<Figure size 720x360 with 2 Axes>"
            ],
            "image/png": "[encoded data removed]"
          },
          "metadata": {
            "needs_background": "light"
          }
        }
      ]
    },
    {
      "cell_type": "markdown",
      "source": [
        "# 2. Define Model"
      ],
      "metadata": {
        "id": "TNMOttK54rBV",
        "pycharm": {
          "name": "#%% md\n"
        }
      }
    },
    {
      "cell_type": "code",
      "source": [
        "#https://pytorch.org/docs/stable/generated/torch.nn.RNN.html\n",
        "#rnn 예제를 보고 일단 한번 돌려봅시다\n",
        "rnn = torch.nn.RNN(2, 100, 1, batch_first=True)     # rn = torch.nn.RNN(input_size, hidden_size)\n",
        "input = torch.randn(1, 5, 2)                        # input.size() (b, s, input_size)\n",
        "h0 = torch.randn(1, 1, 100)                         \n",
        "output, hn = rnn(input, h0)                         # output.size() (b, s, hidden_size)"
      ],
      "metadata": {
        "id": "O1RvjKOYVh_1",
        "pycharm": {
          "name": "#%%\n"
        }
      },
      "execution_count": 18,
      "outputs": []
    },
    {
      "cell_type": "code",
      "source": [
        "input_size = 2          # x0의 dimension 즉, feature의 개수 == 2\n",
        "batch_size = 1          # 마음대로 정할 수 있음\n",
        "sequence_size = 5       \n",
        "hidden_size = 100\n",
        "layer_size = 1\n",
        "batch_first = True\n",
        "rnn = torch.nn.RNN(input_size, hidden_size, layer_size, batch_first=batch_first)\n",
        "input = torch.randn(batch_size, sequence_size, input_size)\n",
        "h0 = torch.randn(1*layer_size, batch_size, hidden_size)\n",
        "output, hn = rnn(input, h0) #(모든 sequence에 대한 hidden 값, 맨마지막 seq에 대한 hidden 값)"
      ],
      "metadata": {
        "id": "krK6UzzZVi_r",
        "pycharm": {
          "name": "#%%\n"
        }
      },
      "execution_count": 19,
      "outputs": []
    },
    {
      "cell_type": "code",
      "source": [
        "class RNNModel(torch.nn.Module):\n",
        "    def __init__(self, input_dim, hidden_dim, output_dim, num_layer=1, batch_first=True):\n",
        "        super(RNNModel, self).__init__()\n",
        "        self.rnn = torch.nn.LSTM(input_size=input_dim, hidden_size=hidden_dim, num_layers=num_layer, batch_first=batch_first)\n",
        "        self.relu = torch.nn.ReLU()\n",
        "        self.linear_classifier = torch.nn.Linear(hidden_dim, output_dim, bias=True)\n",
        "\n",
        "    def forward(self, x):\n",
        "\n",
        "        all_hidden, last_hidden = self.rnn(x.unsqueeze(0))\n",
        "        #x = self.relu(last_hidden)\n",
        "        x = self.linear_classifier(all_hidden[:, -1])\n",
        "        return x"
      ],
      "metadata": {
        "id": "gSpqndTU4Hcf",
        "pycharm": {
          "name": "#%%\n"
        }
      },
      "execution_count": 20,
      "outputs": []
    },
    {
      "cell_type": "markdown",
      "source": [
        "# 3. Define the loss function and the optimizer"
      ],
      "metadata": {
        "id": "oixYOm_SJR0A",
        "pycharm": {
          "name": "#%% md\n"
        }
      }
    },
    {
      "cell_type": "code",
      "source": [
        "input_size = 2\n",
        "hidden_size = 10\n",
        "sequence_size = 5\n",
        "output_size = 1\n",
        "layer_size = 1\n",
        "\n",
        "learning_rate = 0.001\n",
        "model = RNNModel(input_size, hidden_size, output_size)\n",
        "\n",
        "optimizer = torch.optim.Adam(model.parameters(), lr=learning_rate)\n",
        "loss_function = torch.nn.MSELoss()"
      ],
      "metadata": {
        "id": "fDMsIJ6r5Pfv",
        "pycharm": {
          "name": "#%%\n"
        }
      },
      "execution_count": 21,
      "outputs": []
    },
    {
      "cell_type": "markdown",
      "source": [
        "# 4. Define train function"
      ],
      "metadata": {
        "id": "qoe4rEnxL7BY",
        "pycharm": {
          "name": "#%% md\n"
        }
      }
    },
    {
      "cell_type": "code",
      "source": [
        "def train(train_x, train_y, loss_function, optimizer, model):\n",
        "  total_loss = []\n",
        "\n",
        "  for idx in range(len(train_x)):\n",
        "    model.train()\n",
        "    optimizer.zero_grad()\n",
        "    train_x_tensor = torch.tensor(train_x[idx]).float() #convert numpy to torch tensor\n",
        "    train_y_tensor = torch.tensor(train_y[idx]).float()\n",
        "    logit = model(train_x_tensor)\n",
        "    loss = loss_function(logit, train_y_tensor)\n",
        "    total_loss.append(loss.item())\n",
        "\n",
        "    loss.backward()\n",
        "    optimizer.step()\n",
        "\n",
        "  return total_loss"
      ],
      "metadata": {
        "id": "7Cq43_T9KKgM",
        "pycharm": {
          "name": "#%%\n"
        }
      },
      "execution_count": 22,
      "outputs": []
    },
    {
      "cell_type": "markdown",
      "source": [
        "# 5. Training "
      ],
      "metadata": {
        "id": "vSBoqT4TL4r8",
        "pycharm": {
          "name": "#%% md\n"
        }
      }
    },
    {
      "cell_type": "code",
      "source": [
        "from sklearn.model_selection import train_test_split\n",
        "from sklearn.preprocessing import MinMaxScaler\n",
        "\n",
        "scaler = MinMaxScaler()\n",
        "df[['Scaled_Key_Count0','Scaled_Key_Count1']] = scaler.fit_transform(df[['Key_Count0','Key_Count1']])"
      ],
      "metadata": {
        "id": "c8O-TLezJnNZ",
        "pycharm": {
          "name": "#%%\n"
        }
      },
      "execution_count": 23,
      "outputs": []
    },
    {
      "cell_type": "code",
      "source": [
        "df_all = df"
      ],
      "metadata": {
        "id": "3FBzfa1xNYD7",
        "pycharm": {
          "name": "#%%\n"
        }
      },
      "execution_count": 24,
      "outputs": []
    },
    {
      "cell_type": "code",
      "source": [
        "'''\n",
        "s_idx, e_idx, date_interval, num_days = 0, len(df_all), 1, 4\n",
        "for idx in range(s_idx, e_idx-s_idx, date_interval):\n",
        "  print(df_all.loc[idx:idx+num_days])\n",
        "'''"
      ],
      "metadata": {
        "id": "HB3pGNhrhTAT",
        "pycharm": {
          "name": "#%%\n"
        },
        "colab": {
          "base_uri": "https://localhost:8080/",
          "height": 35
        },
        "outputId": "6457c4bb-5d8b-4bec-e6e1-43448954ee3b"
      },
      "execution_count": 25,
      "outputs": [
        {
          "output_type": "execute_result",
          "data": {
            "text/plain": [
              "'\\ns_idx, e_idx, date_interval, num_days = 0, len(df_all), 1, 4\\nfor idx in range(s_idx, e_idx-s_idx, date_interval):\\n  print(df_all.loc[idx:idx+num_days])\\n'"
            ],
            "application/vnd.google.colaboratory.intrinsic+json": {
              "type": "string"
            }
          },
          "metadata": {},
          "execution_count": 25
        }
      ]
    },
    {
      "cell_type": "code",
      "source": [
        "seq_x = []\n",
        "seq_y = []\n",
        "feature_list = ['Scaled_Key_Count0','Scaled_Key_Count1']\n",
        "s_idx, e_idx, date_interval, num_days = 0, len(df_all), 1, 4\n",
        "for idx in range(s_idx, e_idx-s_idx, date_interval):\n",
        "  x = df_all.loc[idx:idx+num_days][feature_list].to_numpy().tolist()\n",
        "  y = df_all.loc[idx:idx+num_days][\"Change\"].sum().tolist()\n",
        "  seq_x.append(x) if len(x) == 5 else None\n",
        "  seq_y.append(y) if len(x) == 5 else None\n",
        "\n",
        "train_x, test_x, train_y, test_y = train_test_split(seq_x, seq_y, test_size=0.2)"
      ],
      "metadata": {
        "id": "NAB9TuhoMBxa",
        "pycharm": {
          "name": "#%%\n"
        }
      },
      "execution_count": 26,
      "outputs": []
    },
    {
      "cell_type": "code",
      "source": [
        "best_model = None\n",
        "num_epoch = 500\n",
        "loss_epoch = []\n",
        "\n",
        "for epoch in range(num_epoch):\n",
        "  loss_list = train(train_x, train_y, loss_function, optimizer, model)\n",
        "  loss_epoch.append(sum(loss_list)/len(train_x))"
      ],
      "metadata": {
        "id": "oq7Hr22FMWd7",
        "pycharm": {
          "name": "#%%\n"
        },
        "colab": {
          "base_uri": "https://localhost:8080/"
        },
        "outputId": "301d2e7f-1c3d-4639-dffa-a9cf244d9a9f"
      },
      "execution_count": 27,
      "outputs": [
        {
          "output_type": "stream",
          "name": "stderr",
          "text": [
            "/usr/local/lib/python3.7/dist-packages/torch/nn/modules/loss.py:529: UserWarning: Using a target size (torch.Size([])) that is different to the input size (torch.Size([1, 1])). This will likely lead to incorrect results due to broadcasting. Please ensure they have the same size.\n",
            "  return F.mse_loss(input, target, reduction=self.reduction)\n"
          ]
        }
      ]
    },
    {
      "cell_type": "code",
      "source": [
        "## You need to visualized a relational graph\n",
        "fig = plt.figure(figsize=(10,5))\n",
        "ax1 = fig.add_subplot(121)\n",
        "\n",
        "ax1.bar(range(num_epoch), loss_epoch)"
      ],
      "metadata": {
        "id": "hBGe9xxjXGOv",
        "pycharm": {
          "name": "#%%\n"
        },
        "colab": {
          "base_uri": "https://localhost:8080/",
          "height": 338
        },
        "outputId": "1e56b330-a329-4d63-b6d4-a8ead244e9c9"
      },
      "execution_count": 28,
      "outputs": [
        {
          "output_type": "execute_result",
          "data": {
            "text/plain": [
              "<BarContainer object of 500 artists>"
            ]
          },
          "metadata": {},
          "execution_count": 28
        },
        {
          "output_type": "display_data",
          "data": {
            "text/plain": [
              "<Figure size 720x360 with 1 Axes>"
            ],
            "image/png": "[encoded data removed]"
          },
          "metadata": {
            "needs_background": "light"
          }
        }
      ]
    },
    {
      "cell_type": "markdown",
      "source": [
        "# 7. Evaluation"
      ],
      "metadata": {
        "id": "lhoHKKW-tpix",
        "pycharm": {
          "name": "#%% md\n"
        }
      }
    },
    {
      "cell_type": "code",
      "source": [
        "x_predicted = []\n",
        "for idx in range(len(train_x)):\n",
        "  predicted = model(torch.tensor(train_x[idx]).float())\n",
        "  x_predicted.append(predicted.detach())\n",
        "x_pred_np = np.array(x_predicted)"
      ],
      "metadata": {
        "id": "sB-uSQCIsXiP",
        "pycharm": {
          "name": "#%%\n"
        },
        "colab": {
          "base_uri": "https://localhost:8080/"
        },
        "outputId": "ee81b445-2da4-4142-89e5-18d94a0023b9"
      },
      "execution_count": 29,
      "outputs": [
        {
          "output_type": "stream",
          "name": "stderr",
          "text": [
            "/usr/local/lib/python3.7/dist-packages/ipykernel_launcher.py:5: FutureWarning: The input object of type 'Tensor' is an array-like implementing one of the corresponding protocols (`__array__`, `__array_interface__` or `__array_struct__`); but not a sequence (or 0-D). In the future, this object will be coerced as if it was first converted using `np.array(obj)`. To retain the old behaviour, you have to either modify the type 'Tensor', or assign to an empty array created with `np.empty(correct_shape, dtype=object)`.\n",
            "  \"\"\"\n",
            "/usr/local/lib/python3.7/dist-packages/ipykernel_launcher.py:5: VisibleDeprecationWarning: Creating an ndarray from ragged nested sequences (which is a list-or-tuple of lists-or-tuples-or ndarrays with different lengths or shapes) is deprecated. If you meant to do this, you must specify 'dtype=object' when creating the ndarray.\n",
            "  \"\"\"\n"
          ]
        }
      ]
    },
    {
      "cell_type": "code",
      "source": [
        "plt.plot(train_y)\n",
        "plt.plot(x_pred_np)\n",
        "plt.legend(['original', 'prediction'])\n",
        "plt.show()"
      ],
      "metadata": {
        "id": "kQD1eY-rgIfJ",
        "pycharm": {
          "name": "#%%\n"
        },
        "colab": {
          "base_uri": "https://localhost:8080/",
          "height": 265
        },
        "outputId": "d6282b2b-c47d-4a67-f519-bfb320115933"
      },
      "execution_count": 30,
      "outputs": [
        {
          "output_type": "display_data",
          "data": {
            "text/plain": [
              "<Figure size 432x288 with 1 Axes>"
            ],
            "image/png": "[encoded data removed]"
          },
          "metadata": {
            "needs_background": "light"
          }
        }
      ]
    },
    {
      "cell_type": "markdown",
      "source": [
        "# 6. Prediction"
      ],
      "metadata": {
        "id": "4dcxR6HENDED",
        "pycharm": {
          "name": "#%% md\n"
        }
      }
    },
    {
      "cell_type": "code",
      "source": [
        "def predict(key_count, model):\n",
        "  model.eval()\n",
        "  logit = model(key_count)\n",
        "  return logit"
      ],
      "metadata": {
        "id": "tpeTGbdENCOr",
        "pycharm": {
          "name": "#%%\n"
        }
      },
      "execution_count": 31,
      "outputs": []
    },
    {
      "cell_type": "code",
      "source": [
        "raw_input = [[3,30],[2,25],[5.5,19],[3.2,29],[3.3,29]]\n",
        "scaled_input = []\n",
        "for a_day in raw_input:\n",
        "  key_count = np.array(a_day)\n",
        "  scaled = scaler.transform(key_count.reshape(1,-1)).tolist()[0]\n",
        "  scaled_input.append(scaled)"
      ],
      "metadata": {
        "id": "xERZPzOuMXRG",
        "pycharm": {
          "name": "#%%\n"
        },
        "colab": {
          "base_uri": "https://localhost:8080/"
        },
        "outputId": "40212286-0963-4b81-b3b2-d0c97329f736"
      },
      "execution_count": 32,
      "outputs": [
        {
          "output_type": "stream",
          "name": "stderr",
          "text": [
            "/usr/local/lib/python3.7/dist-packages/sklearn/base.py:451: UserWarning: X does not have valid feature names, but MinMaxScaler was fitted with feature names\n",
            "  \"X does not have valid feature names, but\"\n",
            "/usr/local/lib/python3.7/dist-packages/sklearn/base.py:451: UserWarning: X does not have valid feature names, but MinMaxScaler was fitted with feature names\n",
            "  \"X does not have valid feature names, but\"\n",
            "/usr/local/lib/python3.7/dist-packages/sklearn/base.py:451: UserWarning: X does not have valid feature names, but MinMaxScaler was fitted with feature names\n",
            "  \"X does not have valid feature names, but\"\n",
            "/usr/local/lib/python3.7/dist-packages/sklearn/base.py:451: UserWarning: X does not have valid feature names, but MinMaxScaler was fitted with feature names\n",
            "  \"X does not have valid feature names, but\"\n",
            "/usr/local/lib/python3.7/dist-packages/sklearn/base.py:451: UserWarning: X does not have valid feature names, but MinMaxScaler was fitted with feature names\n",
            "  \"X does not have valid feature names, but\"\n"
          ]
        }
      ]
    },
    {
      "cell_type": "code",
      "source": [
        "scaled_input"
      ],
      "metadata": {
        "id": "XIlxM867jo9Y",
        "pycharm": {
          "name": "#%%\n"
        },
        "colab": {
          "base_uri": "https://localhost:8080/"
        },
        "outputId": "639d69c6-4533-4cbd-b427-eb1a36f6d89a"
      },
      "execution_count": 33,
      "outputs": [
        {
          "output_type": "execute_result",
          "data": {
            "text/plain": [
              "[[0.004288664517281021, 0.21031785157720959],\n",
              " [-0.07993491202005193, 0.15391198383272456],\n",
              " [0.21484760586061333, 0.08622494253934254],\n",
              " [0.021133379824747583, 0.19903667802831262],\n",
              " [0.029555737478480865, 0.19903667802831262]]"
            ]
          },
          "metadata": {},
          "execution_count": 33
        }
      ]
    },
    {
      "cell_type": "code",
      "source": [
        "df_all.max()\n",
        "predicted = predict(torch.FloatTensor(scaled_input), model)"
      ],
      "metadata": {
        "id": "9iunoWaXwXuL",
        "pycharm": {
          "name": "#%%\n"
        }
      },
      "execution_count": 34,
      "outputs": []
    },
    {
      "cell_type": "code",
      "source": [
        "print(\"검색량이\"+str(raw_input)+\"일때 주가는\", str(predicted.item()*100) )"
      ],
      "metadata": {
        "id": "MD8b4C3aw35E",
        "pycharm": {
          "name": "#%%\n"
        },
        "colab": {
          "base_uri": "https://localhost:8080/"
        },
        "outputId": "59fab4a0-e3ae-4959-9339-c6ac6c2b466d"
      },
      "execution_count": 35,
      "outputs": [
        {
          "output_type": "stream",
          "name": "stdout",
          "text": [
            "검색량이[[3, 30], [2, 25], [5.5, 19], [3.2, 29], [3.3, 29]]일때 주가는 -1.5154904685914516\n"
          ]
        }
      ]
    },
    {
      "cell_type": "code",
      "source": [
        ""
      ],
      "metadata": {
        "id": "h6DoPrBcUBMw",
        "pycharm": {
          "name": "#%%\n"
        }
      },
      "execution_count": 35,
      "outputs": []
    }
  ]
}