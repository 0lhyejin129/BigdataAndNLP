{
  "nbformat": 4,
  "nbformat_minor": 0,
  "metadata": {
    "kernelspec": {
      "display_name": "Python 3",
      "language": "python",
      "name": "python3"
    },
    "language_info": {
      "codemirror_mode": {
        "name": "ipython",
        "version": 3
      },
      "file_extension": ".py",
      "mimetype": "text/x-python",
      "name": "python",
      "nbconvert_exporter": "python",
      "pygments_lexer": "ipython3",
      "version": "3.7.4"
    },
    "toc": {
      "nav_menu": {},
      "number_sections": true,
      "sideBar": true,
      "skip_h1_title": false,
      "toc_cell": false,
      "toc_position": {},
      "toc_section_display": "block",
      "toc_window_display": false
    },
    "varInspector": {
      "cols": {
        "lenName": 16,
        "lenType": 16,
        "lenVar": 40
      },
      "kernels_config": {
        "python": {
          "delete_cmd_postfix": "",
          "delete_cmd_prefix": "del ",
          "library": "var_list.py",
          "varRefreshCmd": "print(var_dic_list())"
        },
        "r": {
          "delete_cmd_postfix": ") ",
          "delete_cmd_prefix": "rm(",
          "library": "var_list.r",
          "varRefreshCmd": "cat(var_dic_list()) "
        }
      },
      "types_to_exclude": [
        "module",
        "function",
        "builtin_function_or_method",
        "instance",
        "_Feature"
      ],
      "window_display": false
    },
    "colab": {
      "name": "chap02.ipynb",
      "provenance": []
    }
  },
  "cells": [
    {
      "cell_type": "markdown",
      "metadata": {
        "id": "ItoDxN06tGbK"
      },
      "source": [
        "# 1차원 데이터의 정리"
      ]
    },
    {
      "cell_type": "markdown",
      "metadata": {
        "id": "kWf2jETBtGbP"
      },
      "source": [
        "## 2.1 데이터 중심의 지표\n",
        "1) 평균값<br>\n",
        "2) 중앙값<br>\n",
        "3) 최빈값"
      ]
    },
    {
      "cell_type": "markdown",
      "source": [
        "### 0) 데이터 준비"
      ],
      "metadata": {
        "id": "5sKtHpS_CL1Z"
      }
    },
    {
      "cell_type": "code",
      "metadata": {
        "ExecuteTime": {
          "end_time": "2018-08-14T06:43:30.149227Z",
          "start_time": "2018-08-14T06:43:29.960007Z"
        },
        "id": "ubkSb58HtGbQ"
      },
      "source": [
        "import numpy as np\n",
        "import pandas as pd\n",
        "\n",
        "# Jupyter Notebook의 출력을 소수점 이하 3자리로 제한\n",
        "%precision 3\n",
        "# Dataframe의 출력을 소수점 이하 3자리로 제한\n",
        "pd.set_option('precision', 3)"
      ],
      "execution_count": 1,
      "outputs": []
    },
    {
      "cell_type": "code",
      "metadata": {
        "id": "3_NAZtoft589",
        "colab": {
          "base_uri": "https://localhost:8080/"
        },
        "outputId": "a2965e10-649b-4942-dfc9-87d6ac4a1bc0"
      },
      "source": [
        "!ls ./sample_data"
      ],
      "execution_count": 2,
      "outputs": [
        {
          "output_type": "stream",
          "name": "stdout",
          "text": [
            "anscombe.json\t\t      ch2_scores_em.csv      README.md\n",
            "california_housing_test.csv   mnist_test.csv\n",
            "california_housing_train.csv  mnist_train_small.csv\n"
          ]
        }
      ]
    },
    {
      "cell_type": "code",
      "metadata": {
        "ExecuteTime": {
          "end_time": "2018-08-14T06:43:30.160598Z",
          "start_time": "2018-08-14T06:43:30.150458Z"
        },
        "colab": {
          "base_uri": "https://localhost:8080/",
          "height": 237
        },
        "id": "MlfyWkigtGbR",
        "outputId": "7e192293-633c-4198-a13b-d508fd14359b"
      },
      "source": [
        "df = pd.read_csv('./sample_data/ch2_scores_em.csv',\n",
        "                 index_col='student number')\n",
        "# df의 처음 5행을 표시\n",
        "df.head()"
      ],
      "execution_count": 3,
      "outputs": [
        {
          "output_type": "execute_result",
          "data": {
            "text/plain": [
              "                english  mathematics\n",
              "student number                      \n",
              "1                    42           65\n",
              "2                    69           80\n",
              "3                    56           63\n",
              "4                    41           63\n",
              "5                    57           76"
            ],
            "text/html": [
              "\n",
              "  <div id=\"df-0ca4c978-f02a-4e78-869f-13b1b5124df3\">\n",
              "    <div class=\"colab-df-container\">\n",
              "      <div>\n",
              "<style scoped>\n",
              "    .dataframe tbody tr th:only-of-type {\n",
              "        vertical-align: middle;\n",
              "    }\n",
              "\n",
              "    .dataframe tbody tr th {\n",
              "        vertical-align: top;\n",
              "    }\n",
              "\n",
              "    .dataframe thead th {\n",
              "        text-align: right;\n",
              "    }\n",
              "</style>\n",
              "<table border=\"1\" class=\"dataframe\">\n",
              "  <thead>\n",
              "    <tr style=\"text-align: right;\">\n",
              "      <th></th>\n",
              "      <th>english</th>\n",
              "      <th>mathematics</th>\n",
              "    </tr>\n",
              "    <tr>\n",
              "      <th>student number</th>\n",
              "      <th></th>\n",
              "      <th></th>\n",
              "    </tr>\n",
              "  </thead>\n",
              "  <tbody>\n",
              "    <tr>\n",
              "      <th>1</th>\n",
              "      <td>42</td>\n",
              "      <td>65</td>\n",
              "    </tr>\n",
              "    <tr>\n",
              "      <th>2</th>\n",
              "      <td>69</td>\n",
              "      <td>80</td>\n",
              "    </tr>\n",
              "    <tr>\n",
              "      <th>3</th>\n",
              "      <td>56</td>\n",
              "      <td>63</td>\n",
              "    </tr>\n",
              "    <tr>\n",
              "      <th>4</th>\n",
              "      <td>41</td>\n",
              "      <td>63</td>\n",
              "    </tr>\n",
              "    <tr>\n",
              "      <th>5</th>\n",
              "      <td>57</td>\n",
              "      <td>76</td>\n",
              "    </tr>\n",
              "  </tbody>\n",
              "</table>\n",
              "</div>\n",
              "      <button class=\"colab-df-convert\" onclick=\"convertToInteractive('df-0ca4c978-f02a-4e78-869f-13b1b5124df3')\"\n",
              "              title=\"Convert this dataframe to an interactive table.\"\n",
              "              style=\"display:none;\">\n",
              "        \n",
              "  <svg xmlns=\"http://www.w3.org/2000/svg\" height=\"24px\"viewBox=\"0 0 24 24\"\n",
              "       width=\"24px\">\n",
              "    <path d=\"M0 0h24v24H0V0z\" fill=\"none\"/>\n",
              "    <path d=\"M18.56 5.44l.94 2.06.94-2.06 2.06-.94-2.06-.94-.94-2.06-.94 2.06-2.06.94zm-11 1L8.5 8.5l.94-2.06 2.06-.94-2.06-.94L8.5 2.5l-.94 2.06-2.06.94zm10 10l.94 2.06.94-2.06 2.06-.94-2.06-.94-.94-2.06-.94 2.06-2.06.94z\"/><path d=\"M17.41 7.96l-1.37-1.37c-.4-.4-.92-.59-1.43-.59-.52 0-1.04.2-1.43.59L10.3 9.45l-7.72 7.72c-.78.78-.78 2.05 0 2.83L4 21.41c.39.39.9.59 1.41.59.51 0 1.02-.2 1.41-.59l7.78-7.78 2.81-2.81c.8-.78.8-2.07 0-2.86zM5.41 20L4 18.59l7.72-7.72 1.47 1.35L5.41 20z\"/>\n",
              "  </svg>\n",
              "      </button>\n",
              "      \n",
              "  <style>\n",
              "    .colab-df-container {\n",
              "      display:flex;\n",
              "      flex-wrap:wrap;\n",
              "      gap: 12px;\n",
              "    }\n",
              "\n",
              "    .colab-df-convert {\n",
              "      background-color: #E8F0FE;\n",
              "      border: none;\n",
              "      border-radius: 50%;\n",
              "      cursor: pointer;\n",
              "      display: none;\n",
              "      fill: #1967D2;\n",
              "      height: 32px;\n",
              "      padding: 0 0 0 0;\n",
              "      width: 32px;\n",
              "    }\n",
              "\n",
              "    .colab-df-convert:hover {\n",
              "      background-color: #E2EBFA;\n",
              "      box-shadow: 0px 1px 2px rgba(60, 64, 67, 0.3), 0px 1px 3px 1px rgba(60, 64, 67, 0.15);\n",
              "      fill: #174EA6;\n",
              "    }\n",
              "\n",
              "    [theme=dark] .colab-df-convert {\n",
              "      background-color: #3B4455;\n",
              "      fill: #D2E3FC;\n",
              "    }\n",
              "\n",
              "    [theme=dark] .colab-df-convert:hover {\n",
              "      background-color: #434B5C;\n",
              "      box-shadow: 0px 1px 3px 1px rgba(0, 0, 0, 0.15);\n",
              "      filter: drop-shadow(0px 1px 2px rgba(0, 0, 0, 0.3));\n",
              "      fill: #FFFFFF;\n",
              "    }\n",
              "  </style>\n",
              "\n",
              "      <script>\n",
              "        const buttonEl =\n",
              "          document.querySelector('#df-0ca4c978-f02a-4e78-869f-13b1b5124df3 button.colab-df-convert');\n",
              "        buttonEl.style.display =\n",
              "          google.colab.kernel.accessAllowed ? 'block' : 'none';\n",
              "\n",
              "        async function convertToInteractive(key) {\n",
              "          const element = document.querySelector('#df-0ca4c978-f02a-4e78-869f-13b1b5124df3');\n",
              "          const dataTable =\n",
              "            await google.colab.kernel.invokeFunction('convertToInteractive',\n",
              "                                                     [key], {});\n",
              "          if (!dataTable) return;\n",
              "\n",
              "          const docLinkHtml = 'Like what you see? Visit the ' +\n",
              "            '<a target=\"_blank\" href=https://colab.research.google.com/notebooks/data_table.ipynb>data table notebook</a>'\n",
              "            + ' to learn more about interactive tables.';\n",
              "          element.innerHTML = '';\n",
              "          dataTable['output_type'] = 'display_data';\n",
              "          await google.colab.output.renderOutput(dataTable, element);\n",
              "          const docLink = document.createElement('div');\n",
              "          docLink.innerHTML = docLinkHtml;\n",
              "          element.appendChild(docLink);\n",
              "        }\n",
              "      </script>\n",
              "    </div>\n",
              "  </div>\n",
              "  "
            ]
          },
          "metadata": {},
          "execution_count": 3
        }
      ]
    },
    {
      "cell_type": "code",
      "metadata": {
        "ExecuteTime": {
          "end_time": "2018-08-14T06:43:30.164864Z",
          "start_time": "2018-08-14T06:43:30.161951Z"
        },
        "id": "GGJl5rmdtGbR",
        "colab": {
          "base_uri": "https://localhost:8080/"
        },
        "outputId": "765778db-b23f-4297-9596-f21a36785fec"
      },
      "source": [
        "# 10명의 영어 점수를 array 데이터 구조 scores에 저장\n",
        "scores = np.array(df['english'])[:10]\n",
        "scores"
      ],
      "execution_count": 7,
      "outputs": [
        {
          "output_type": "execute_result",
          "data": {
            "text/plain": [
              "array([42, 69, 56, 41, 57, 48, 65, 49, 65, 58])"
            ]
          },
          "metadata": {},
          "execution_count": 7
        }
      ]
    },
    {
      "cell_type": "code",
      "metadata": {
        "ExecuteTime": {
          "end_time": "2018-08-14T06:43:30.171540Z",
          "start_time": "2018-08-14T06:43:30.166060Z"
        },
        "id": "Nju_Mbl8tGbS",
        "colab": {
          "base_uri": "https://localhost:8080/",
          "height": 394
        },
        "outputId": "10f91291-c62a-4f42-8f0f-d193de37c11f"
      },
      "source": [
        "# 데이터프레임 scores_df 작성\n",
        "scores_df = pd.DataFrame({'score':scores}, # column:실제값\n",
        "                         index=pd.Index(['A', 'B', 'C', 'D', 'E', # 인덱스 할당(default:숫자)\n",
        "                                         'F', 'G', 'H', 'I', 'J'],\n",
        "                                        name='student'))\n",
        "scores_df"
      ],
      "execution_count": 15,
      "outputs": [
        {
          "output_type": "execute_result",
          "data": {
            "text/plain": [
              "         score\n",
              "student       \n",
              "A           42\n",
              "B           69\n",
              "C           56\n",
              "D           41\n",
              "E           57\n",
              "F           48\n",
              "G           65\n",
              "H           49\n",
              "I           65\n",
              "J           58"
            ],
            "text/html": [
              "\n",
              "  <div id=\"df-a2784bd8-caf2-4cfa-9990-de946bfc3691\">\n",
              "    <div class=\"colab-df-container\">\n",
              "      <div>\n",
              "<style scoped>\n",
              "    .dataframe tbody tr th:only-of-type {\n",
              "        vertical-align: middle;\n",
              "    }\n",
              "\n",
              "    .dataframe tbody tr th {\n",
              "        vertical-align: top;\n",
              "    }\n",
              "\n",
              "    .dataframe thead th {\n",
              "        text-align: right;\n",
              "    }\n",
              "</style>\n",
              "<table border=\"1\" class=\"dataframe\">\n",
              "  <thead>\n",
              "    <tr style=\"text-align: right;\">\n",
              "      <th></th>\n",
              "      <th>score</th>\n",
              "    </tr>\n",
              "    <tr>\n",
              "      <th>student</th>\n",
              "      <th></th>\n",
              "    </tr>\n",
              "  </thead>\n",
              "  <tbody>\n",
              "    <tr>\n",
              "      <th>A</th>\n",
              "      <td>42</td>\n",
              "    </tr>\n",
              "    <tr>\n",
              "      <th>B</th>\n",
              "      <td>69</td>\n",
              "    </tr>\n",
              "    <tr>\n",
              "      <th>C</th>\n",
              "      <td>56</td>\n",
              "    </tr>\n",
              "    <tr>\n",
              "      <th>D</th>\n",
              "      <td>41</td>\n",
              "    </tr>\n",
              "    <tr>\n",
              "      <th>E</th>\n",
              "      <td>57</td>\n",
              "    </tr>\n",
              "    <tr>\n",
              "      <th>F</th>\n",
              "      <td>48</td>\n",
              "    </tr>\n",
              "    <tr>\n",
              "      <th>G</th>\n",
              "      <td>65</td>\n",
              "    </tr>\n",
              "    <tr>\n",
              "      <th>H</th>\n",
              "      <td>49</td>\n",
              "    </tr>\n",
              "    <tr>\n",
              "      <th>I</th>\n",
              "      <td>65</td>\n",
              "    </tr>\n",
              "    <tr>\n",
              "      <th>J</th>\n",
              "      <td>58</td>\n",
              "    </tr>\n",
              "  </tbody>\n",
              "</table>\n",
              "</div>\n",
              "      <button class=\"colab-df-convert\" onclick=\"convertToInteractive('df-a2784bd8-caf2-4cfa-9990-de946bfc3691')\"\n",
              "              title=\"Convert this dataframe to an interactive table.\"\n",
              "              style=\"display:none;\">\n",
              "        \n",
              "  <svg xmlns=\"http://www.w3.org/2000/svg\" height=\"24px\"viewBox=\"0 0 24 24\"\n",
              "       width=\"24px\">\n",
              "    <path d=\"M0 0h24v24H0V0z\" fill=\"none\"/>\n",
              "    <path d=\"M18.56 5.44l.94 2.06.94-2.06 2.06-.94-2.06-.94-.94-2.06-.94 2.06-2.06.94zm-11 1L8.5 8.5l.94-2.06 2.06-.94-2.06-.94L8.5 2.5l-.94 2.06-2.06.94zm10 10l.94 2.06.94-2.06 2.06-.94-2.06-.94-.94-2.06-.94 2.06-2.06.94z\"/><path d=\"M17.41 7.96l-1.37-1.37c-.4-.4-.92-.59-1.43-.59-.52 0-1.04.2-1.43.59L10.3 9.45l-7.72 7.72c-.78.78-.78 2.05 0 2.83L4 21.41c.39.39.9.59 1.41.59.51 0 1.02-.2 1.41-.59l7.78-7.78 2.81-2.81c.8-.78.8-2.07 0-2.86zM5.41 20L4 18.59l7.72-7.72 1.47 1.35L5.41 20z\"/>\n",
              "  </svg>\n",
              "      </button>\n",
              "      \n",
              "  <style>\n",
              "    .colab-df-container {\n",
              "      display:flex;\n",
              "      flex-wrap:wrap;\n",
              "      gap: 12px;\n",
              "    }\n",
              "\n",
              "    .colab-df-convert {\n",
              "      background-color: #E8F0FE;\n",
              "      border: none;\n",
              "      border-radius: 50%;\n",
              "      cursor: pointer;\n",
              "      display: none;\n",
              "      fill: #1967D2;\n",
              "      height: 32px;\n",
              "      padding: 0 0 0 0;\n",
              "      width: 32px;\n",
              "    }\n",
              "\n",
              "    .colab-df-convert:hover {\n",
              "      background-color: #E2EBFA;\n",
              "      box-shadow: 0px 1px 2px rgba(60, 64, 67, 0.3), 0px 1px 3px 1px rgba(60, 64, 67, 0.15);\n",
              "      fill: #174EA6;\n",
              "    }\n",
              "\n",
              "    [theme=dark] .colab-df-convert {\n",
              "      background-color: #3B4455;\n",
              "      fill: #D2E3FC;\n",
              "    }\n",
              "\n",
              "    [theme=dark] .colab-df-convert:hover {\n",
              "      background-color: #434B5C;\n",
              "      box-shadow: 0px 1px 3px 1px rgba(0, 0, 0, 0.15);\n",
              "      filter: drop-shadow(0px 1px 2px rgba(0, 0, 0, 0.3));\n",
              "      fill: #FFFFFF;\n",
              "    }\n",
              "  </style>\n",
              "\n",
              "      <script>\n",
              "        const buttonEl =\n",
              "          document.querySelector('#df-a2784bd8-caf2-4cfa-9990-de946bfc3691 button.colab-df-convert');\n",
              "        buttonEl.style.display =\n",
              "          google.colab.kernel.accessAllowed ? 'block' : 'none';\n",
              "\n",
              "        async function convertToInteractive(key) {\n",
              "          const element = document.querySelector('#df-a2784bd8-caf2-4cfa-9990-de946bfc3691');\n",
              "          const dataTable =\n",
              "            await google.colab.kernel.invokeFunction('convertToInteractive',\n",
              "                                                     [key], {});\n",
              "          if (!dataTable) return;\n",
              "\n",
              "          const docLinkHtml = 'Like what you see? Visit the ' +\n",
              "            '<a target=\"_blank\" href=https://colab.research.google.com/notebooks/data_table.ipynb>data table notebook</a>'\n",
              "            + ' to learn more about interactive tables.';\n",
              "          element.innerHTML = '';\n",
              "          dataTable['output_type'] = 'display_data';\n",
              "          await google.colab.output.renderOutput(dataTable, element);\n",
              "          const docLink = document.createElement('div');\n",
              "          docLink.innerHTML = docLinkHtml;\n",
              "          element.appendChild(docLink);\n",
              "        }\n",
              "      </script>\n",
              "    </div>\n",
              "  </div>\n",
              "  "
            ]
          },
          "metadata": {},
          "execution_count": 15
        }
      ]
    },
    {
      "cell_type": "markdown",
      "metadata": {
        "id": "C_IrkwNBtGbS"
      },
      "source": [
        "### 1) 평균값\n",
        "예) scores의 평균값\n",
        "1. sum(scores)/len(scores)\n",
        "2. np.mean(scores)\n",
        "3. scores_df.mean()"
      ]
    },
    {
      "cell_type": "code",
      "metadata": {
        "ExecuteTime": {
          "end_time": "2018-08-14T06:43:30.176173Z",
          "start_time": "2018-08-14T06:43:30.173034Z"
        },
        "id": "-VmzZpU1tGbS",
        "colab": {
          "base_uri": "https://localhost:8080/"
        },
        "outputId": "920c8249-73b4-40c7-d01d-5045fa23200d"
      },
      "source": [
        "#1 평균값 : sum(data) / len(data)\n",
        "\n",
        "sum(scores) / len(scores)"
      ],
      "execution_count": 16,
      "outputs": [
        {
          "output_type": "execute_result",
          "data": {
            "text/plain": [
              "55.000"
            ]
          },
          "metadata": {},
          "execution_count": 16
        }
      ]
    },
    {
      "cell_type": "code",
      "metadata": {
        "ExecuteTime": {
          "end_time": "2018-08-14T06:43:30.180268Z",
          "start_time": "2018-08-14T06:43:30.177216Z"
        },
        "id": "N6zO69CctGbT",
        "colab": {
          "base_uri": "https://localhost:8080/"
        },
        "outputId": "64d708ba-cecd-465d-ec75-d4595b971d2f"
      },
      "source": [
        "#2 평균값 : np.mean(data)\n",
        "\n",
        "np.mean(scores)"
      ],
      "execution_count": 17,
      "outputs": [
        {
          "output_type": "execute_result",
          "data": {
            "text/plain": [
              "55.000"
            ]
          },
          "metadata": {},
          "execution_count": 17
        }
      ]
    },
    {
      "cell_type": "code",
      "metadata": {
        "ExecuteTime": {
          "end_time": "2018-08-14T06:43:30.185269Z",
          "start_time": "2018-08-14T06:43:30.181389Z"
        },
        "id": "A_jP8peGtGbT",
        "colab": {
          "base_uri": "https://localhost:8080/"
        },
        "outputId": "f1bb428d-ec94-4787-ce57-0ae5b44102b9"
      },
      "source": [
        "#3 평균값 : data.mean()\n",
        "\n",
        "scores_df.mean()"
      ],
      "execution_count": 18,
      "outputs": [
        {
          "output_type": "execute_result",
          "data": {
            "text/plain": [
              "score    55.0\n",
              "dtype: float64"
            ]
          },
          "metadata": {},
          "execution_count": 18
        }
      ]
    },
    {
      "cell_type": "markdown",
      "metadata": {
        "id": "tKnWEFdytGbT"
      },
      "source": [
        "### 2) 중앙값\n",
        "크기 순서대로 나열할 때 중앙에 위치한 값, 이상값 영향을 덜 받음<br>\n",
        "예) scores의 중앙값\n",
        "1. 정렬<br>\n",
        "sorted_scores = np.sort(scores)\n",
        "2. 짝수 개면 n/2, n/2 + 1의 평균, 홀수 개면 (n+1)/2 <br>\n",
        "if n%2 == 0: median = (sorted_scores[n//2-1] + sorted_scores[n//2]) / 2 <br>\n",
        "else median = sorted_scores((n+1)//2 - 1)"
      ]
    },
    {
      "cell_type": "code",
      "metadata": {
        "ExecuteTime": {
          "end_time": "2018-08-14T06:43:30.189618Z",
          "start_time": "2018-08-14T06:43:30.186212Z"
        },
        "id": "fVmyksDKtGbU",
        "colab": {
          "base_uri": "https://localhost:8080/"
        },
        "outputId": "90b0418a-36f8-45e5-8c9a-f02b2326340a"
      },
      "source": [
        "#4 정렬 : np.sort(data)\n",
        "\n",
        "sorted_scores = np.sort(scores)\n",
        "sorted_scores"
      ],
      "execution_count": 26,
      "outputs": [
        {
          "output_type": "execute_result",
          "data": {
            "text/plain": [
              "array([41, 42, 48, 49, 56, 57, 58, 65, 65, 69])"
            ]
          },
          "metadata": {},
          "execution_count": 26
        }
      ]
    },
    {
      "cell_type": "code",
      "metadata": {
        "ExecuteTime": {
          "end_time": "2018-08-14T06:43:30.195944Z",
          "start_time": "2018-08-14T06:43:30.191005Z"
        },
        "id": "biA7OMrgtGbU",
        "colab": {
          "base_uri": "https://localhost:8080/"
        },
        "outputId": "ddf42c62-0fc1-473b-ca6b-c3b91e291507"
      },
      "source": [
        "#5 중앙값 : len(data)가 짝수이면 median=(data[n//2-1] + data[n//2])/2 , 홀수이면 median=data[(n+1)/2-1]\n",
        "\n",
        "n = len(sorted_scores)\n",
        "if n % 2 == 0: # 데이터의 개수가 짝수 개이면\n",
        "    m0 = sorted_scores[n//2 - 1] # 인덱스 0부터 시작하니까 1 빼기\n",
        "    m1 = sorted_scores[n//2]\n",
        "    median = (m0 + m1) / 2\n",
        "else:          # 데이터의 개수가 홀수 개이면\n",
        "    median = sorted_scores[(n+1)//2 - 1]\n",
        "median"
      ],
      "execution_count": 27,
      "outputs": [
        {
          "output_type": "execute_result",
          "data": {
            "text/plain": [
              "56.500"
            ]
          },
          "metadata": {},
          "execution_count": 27
        }
      ]
    },
    {
      "cell_type": "code",
      "metadata": {
        "ExecuteTime": {
          "end_time": "2018-08-14T06:43:30.201176Z",
          "start_time": "2018-08-14T06:43:30.197149Z"
        },
        "id": "dvFUcKXMtGbU",
        "colab": {
          "base_uri": "https://localhost:8080/"
        },
        "outputId": "8552ec2b-0ad1-4e1e-e61f-e76c7e881985"
      },
      "source": [
        "#6 중앙값 : np.median(data)\n",
        "\n",
        "np.median(scores)"
      ],
      "execution_count": 28,
      "outputs": [
        {
          "output_type": "execute_result",
          "data": {
            "text/plain": [
              "56.500"
            ]
          },
          "metadata": {},
          "execution_count": 28
        }
      ]
    },
    {
      "cell_type": "code",
      "metadata": {
        "ExecuteTime": {
          "end_time": "2018-08-14T06:43:30.205400Z",
          "start_time": "2018-08-14T06:43:30.202130Z"
        },
        "id": "IupCcnWEtGbU",
        "colab": {
          "base_uri": "https://localhost:8080/"
        },
        "outputId": "f66ee1fc-9776-4020-818e-e53e012b647e"
      },
      "source": [
        "#7 중앙값 : data.median()\n",
        "\n",
        "scores_df.median()"
      ],
      "execution_count": 29,
      "outputs": [
        {
          "output_type": "execute_result",
          "data": {
            "text/plain": [
              "score    56.5\n",
              "dtype: float64"
            ]
          },
          "metadata": {},
          "execution_count": 29
        }
      ]
    },
    {
      "cell_type": "code",
      "source": [
        "# 참고 - 절사평균\n",
        "\n",
        "# 10% 절사평균\n",
        "# 예) 20개의 자료 중 양쪽에서 하나씩 모두 2개를 제거한 뒤 18개의 평균\n",
        "datas = [1, 2, 3, 4, 5, 6, 7, 8, 9, 10, 11, 12, 13, 14, 15, 16, 17, 18, 19, 20]\n",
        "ten_percent_datas = datas[1:19]\n",
        "ten_percent_mean = np.mean(ten_percent_datas)\n",
        "print('10% 절사평균', ten_percent_mean)\n",
        "\n",
        "# 20% 절사평균\n",
        "# 예) 20개의 자료 중에서 양쪽에서 두개씩 모두 4개를 제거한 뒤 16개의 평균\n",
        "twenty_percent_datas = datas[2:18]\n",
        "twenty_percent_mean = np.mean(twenty_percent_datas)\n",
        "print('20% 절사평균', twenty_percent_mean)\n",
        "\n",
        "# 다이빙 점수\n",
        "# 7명의 심판 중 최고점과 최저점을 제외하고 5명의 평균에 난이도를 고려해서 계산\n",
        "diving_scores = [18, 16, 19, 15, 13, 15, 17]\n",
        "sorted_diving_scores = np.sort(diving_scores)\n",
        "sorted_diving_mean = np.mean(sorted_diving_scores[1:6]) # 1번 인덱스부터 5번 인덱스까지의 평균\n",
        "print('다이빙 점수', sorted_diving_mean)"
      ],
      "metadata": {
        "colab": {
          "base_uri": "https://localhost:8080/"
        },
        "id": "SOSMwAeBqPuM",
        "outputId": "2142c703-40ec-4681-a900-e670396ad679"
      },
      "execution_count": 40,
      "outputs": [
        {
          "output_type": "stream",
          "name": "stdout",
          "text": [
            "10% 절사평균 10.5\n",
            "20% 절사평균 10.5\n",
            "다이빙 점수 16.2\n"
          ]
        }
      ]
    },
    {
      "cell_type": "markdown",
      "metadata": {
        "id": "U80RnetntGbV"
      },
      "source": [
        "### 3) 최빈값\n",
        "데이터에서 가장 많이 나타내는 값<br>\n",
        "DataFrame, Series의 mode 메소드\n",
        "예) scores의 최빈값\n",
        "1. pd.Series(scores).mode()"
      ]
    },
    {
      "cell_type": "code",
      "metadata": {
        "ExecuteTime": {
          "end_time": "2018-08-14T06:43:30.210888Z",
          "start_time": "2018-08-14T06:43:30.206386Z"
        },
        "id": "S3B2h6ANtGbV",
        "colab": {
          "base_uri": "https://localhost:8080/"
        },
        "outputId": "f36804a5-7c1e-465d-827b-45f7ded71e2b"
      },
      "source": [
        "#8 최빈값 : data.mode()\n",
        "\n",
        "pd.Series([1, 1, 1, 2, 2, 3]).mode() # 결과는 index - value 쌍으로 출력"
      ],
      "execution_count": 53,
      "outputs": [
        {
          "output_type": "execute_result",
          "data": {
            "text/plain": [
              "0    1\n",
              "dtype: int64"
            ]
          },
          "metadata": {},
          "execution_count": 53
        }
      ]
    },
    {
      "cell_type": "code",
      "metadata": {
        "ExecuteTime": {
          "end_time": "2018-08-14T06:43:30.215653Z",
          "start_time": "2018-08-14T06:43:30.211883Z"
        },
        "id": "9cyyEzwetGbV",
        "colab": {
          "base_uri": "https://localhost:8080/"
        },
        "outputId": "5307d8ef-3ecd-4537-9b05-5ff58389e50b"
      },
      "source": [
        "pd.Series([1, 2, 3, 4, 5]).mode()"
      ],
      "execution_count": 54,
      "outputs": [
        {
          "output_type": "execute_result",
          "data": {
            "text/plain": [
              "0    1\n",
              "1    2\n",
              "2    3\n",
              "3    4\n",
              "4    5\n",
              "dtype: int64"
            ]
          },
          "metadata": {},
          "execution_count": 54
        }
      ]
    },
    {
      "cell_type": "markdown",
      "metadata": {
        "id": "Lrj7UpIUtGbV"
      },
      "source": [
        "## 2.2 데이터의 산포도 지표\n",
        "분산과 표준편차, 범위와 사분위 범위, 데이터의 지표 정리"
      ]
    },
    {
      "cell_type": "markdown",
      "metadata": {
        "id": "JS3qzsUYtGbV"
      },
      "source": [
        "### 1) 분산과 표준편차"
      ]
    },
    {
      "cell_type": "markdown",
      "metadata": {
        "id": "eXWvUOIdtGbV"
      },
      "source": [
        "#### 편차\n",
        "'데이터'가 '평균'으로부터 떨어져 있는 정도\n"
      ]
    },
    {
      "cell_type": "code",
      "metadata": {
        "ExecuteTime": {
          "end_time": "2018-08-14T06:43:30.220233Z",
          "start_time": "2018-08-14T06:43:30.216601Z"
        },
        "colab": {
          "base_uri": "https://localhost:8080/"
        },
        "id": "wY2RYE8htGbW",
        "outputId": "18bfb784-fc63-4ddc-8e7f-88fed3c6e327"
      },
      "source": [
        "#11 편차 = 데이터 - 평균\n",
        "#   deviation = data - np.mean(data)\n",
        "\n",
        "mean = np.mean(scores)                  # 평균 구하기\n",
        "deviation = scores - mean               # 편차 구하기(데이터 - 평균)\n",
        "deviation"
      ],
      "execution_count": 55,
      "outputs": [
        {
          "output_type": "execute_result",
          "data": {
            "text/plain": [
              "array([-13.,  14.,   1., -14.,   2.,  -7.,  10.,  -6.,  10.,   3.])"
            ]
          },
          "metadata": {},
          "execution_count": 55
        }
      ]
    },
    {
      "cell_type": "code",
      "metadata": {
        "ExecuteTime": {
          "end_time": "2018-08-14T06:43:30.225383Z",
          "start_time": "2018-08-14T06:43:30.221236Z"
        },
        "colab": {
          "base_uri": "https://localhost:8080/"
        },
        "id": "HICKKy3TtGbW",
        "outputId": "85cc0cad-b877-485c-9f96-5f8f1d48d7eb"
      },
      "source": [
        "another_scores = [50, 60, 58, 54, 51, 56, 57, 53, 52, 59]\n",
        "another_mean = np.mean(another_scores)              # 평균 구하기\n",
        "another_deviation = another_scores - another_mean   # 편차 구하기\n",
        "another_deviation"
      ],
      "execution_count": 57,
      "outputs": [
        {
          "output_type": "execute_result",
          "data": {
            "text/plain": [
              "array([-5.,  5.,  3., -1., -4.,  1.,  2., -2., -3.,  4.])"
            ]
          },
          "metadata": {},
          "execution_count": 57
        }
      ]
    },
    {
      "cell_type": "code",
      "source": [
        "# 해석\n",
        "print('scores의 평균: ', mean)\n",
        "print('another_scores의 평균: ', another_mean)\n",
        "# scores와 another_scores의 평균은 같다\n",
        "\n",
        "print('scores의 편차: ', deviation)\n",
        "print('another_scores의 편차: ', another_deviation)\n",
        "# scores와 another_scores 중 another_scores의 편차가 작다"
      ],
      "metadata": {
        "colab": {
          "base_uri": "https://localhost:8080/"
        },
        "id": "JVLKDQFPuO5K",
        "outputId": "acdba2a7-af01-4814-b67c-6ab900db3b3c"
      },
      "execution_count": 58,
      "outputs": [
        {
          "output_type": "stream",
          "name": "stdout",
          "text": [
            "scores의 평균:  55.0\n",
            "another_scores의 평균:  55.0\n",
            "scores의 편차:  [-13.  14.   1. -14.   2.  -7.  10.  -6.  10.   3.]\n",
            "another_scores의 편차:  [-5.  5.  3. -1. -4.  1.  2. -2. -3.  4.]\n"
          ]
        }
      ]
    },
    {
      "cell_type": "code",
      "metadata": {
        "ExecuteTime": {
          "end_time": "2018-08-14T06:43:30.229494Z",
          "start_time": "2018-08-14T06:43:30.226428Z"
        },
        "id": "4Dux4VMwtGbW",
        "colab": {
          "base_uri": "https://localhost:8080/"
        },
        "outputId": "0f141c33-af30-4a96-8382-85dbaf87b04c"
      },
      "source": [
        "#12 편차의 평균 = 0\n",
        "\n",
        "np.mean(deviation)"
      ],
      "execution_count": 59,
      "outputs": [
        {
          "output_type": "execute_result",
          "data": {
            "text/plain": [
              "0.000"
            ]
          },
          "metadata": {},
          "execution_count": 59
        }
      ]
    },
    {
      "cell_type": "code",
      "metadata": {
        "ExecuteTime": {
          "end_time": "2018-08-14T06:43:30.233510Z",
          "start_time": "2018-08-14T06:43:30.230373Z"
        },
        "id": "WVhFwQz_tGbW",
        "colab": {
          "base_uri": "https://localhost:8080/"
        },
        "outputId": "d7606fbc-a694-4da9-ca84-1d1a5d48f3d5"
      },
      "source": [
        "np.mean(another_deviation)"
      ],
      "execution_count": 60,
      "outputs": [
        {
          "output_type": "execute_result",
          "data": {
            "text/plain": [
              "0.000"
            ]
          },
          "metadata": {},
          "execution_count": 60
        }
      ]
    },
    {
      "cell_type": "code",
      "metadata": {
        "ExecuteTime": {
          "end_time": "2018-08-14T06:43:30.240507Z",
          "start_time": "2018-08-14T06:43:30.234389Z"
        },
        "id": "bBzqjeWKtGbW",
        "colab": {
          "base_uri": "https://localhost:8080/",
          "height": 394
        },
        "outputId": "097b481a-9151-433f-a64a-90fc23706c4b"
      },
      "source": [
        "# 응용 - dataframe에 deviation 열 넣기\n",
        "summary_df = scores_df.copy()       # dataframe 복사\n",
        "summary_df['deviation'] = deviation # 'deviation' 열에 deviation 대입\n",
        "summary_df"
      ],
      "execution_count": 65,
      "outputs": [
        {
          "output_type": "execute_result",
          "data": {
            "text/plain": [
              "         score  deviation\n",
              "student                  \n",
              "A           42      -13.0\n",
              "B           69       14.0\n",
              "C           56        1.0\n",
              "D           41      -14.0\n",
              "E           57        2.0\n",
              "F           48       -7.0\n",
              "G           65       10.0\n",
              "H           49       -6.0\n",
              "I           65       10.0\n",
              "J           58        3.0"
            ],
            "text/html": [
              "\n",
              "  <div id=\"df-c213975c-2a0a-4277-8981-e7efaa433708\">\n",
              "    <div class=\"colab-df-container\">\n",
              "      <div>\n",
              "<style scoped>\n",
              "    .dataframe tbody tr th:only-of-type {\n",
              "        vertical-align: middle;\n",
              "    }\n",
              "\n",
              "    .dataframe tbody tr th {\n",
              "        vertical-align: top;\n",
              "    }\n",
              "\n",
              "    .dataframe thead th {\n",
              "        text-align: right;\n",
              "    }\n",
              "</style>\n",
              "<table border=\"1\" class=\"dataframe\">\n",
              "  <thead>\n",
              "    <tr style=\"text-align: right;\">\n",
              "      <th></th>\n",
              "      <th>score</th>\n",
              "      <th>deviation</th>\n",
              "    </tr>\n",
              "    <tr>\n",
              "      <th>student</th>\n",
              "      <th></th>\n",
              "      <th></th>\n",
              "    </tr>\n",
              "  </thead>\n",
              "  <tbody>\n",
              "    <tr>\n",
              "      <th>A</th>\n",
              "      <td>42</td>\n",
              "      <td>-13.0</td>\n",
              "    </tr>\n",
              "    <tr>\n",
              "      <th>B</th>\n",
              "      <td>69</td>\n",
              "      <td>14.0</td>\n",
              "    </tr>\n",
              "    <tr>\n",
              "      <th>C</th>\n",
              "      <td>56</td>\n",
              "      <td>1.0</td>\n",
              "    </tr>\n",
              "    <tr>\n",
              "      <th>D</th>\n",
              "      <td>41</td>\n",
              "      <td>-14.0</td>\n",
              "    </tr>\n",
              "    <tr>\n",
              "      <th>E</th>\n",
              "      <td>57</td>\n",
              "      <td>2.0</td>\n",
              "    </tr>\n",
              "    <tr>\n",
              "      <th>F</th>\n",
              "      <td>48</td>\n",
              "      <td>-7.0</td>\n",
              "    </tr>\n",
              "    <tr>\n",
              "      <th>G</th>\n",
              "      <td>65</td>\n",
              "      <td>10.0</td>\n",
              "    </tr>\n",
              "    <tr>\n",
              "      <th>H</th>\n",
              "      <td>49</td>\n",
              "      <td>-6.0</td>\n",
              "    </tr>\n",
              "    <tr>\n",
              "      <th>I</th>\n",
              "      <td>65</td>\n",
              "      <td>10.0</td>\n",
              "    </tr>\n",
              "    <tr>\n",
              "      <th>J</th>\n",
              "      <td>58</td>\n",
              "      <td>3.0</td>\n",
              "    </tr>\n",
              "  </tbody>\n",
              "</table>\n",
              "</div>\n",
              "      <button class=\"colab-df-convert\" onclick=\"convertToInteractive('df-c213975c-2a0a-4277-8981-e7efaa433708')\"\n",
              "              title=\"Convert this dataframe to an interactive table.\"\n",
              "              style=\"display:none;\">\n",
              "        \n",
              "  <svg xmlns=\"http://www.w3.org/2000/svg\" height=\"24px\"viewBox=\"0 0 24 24\"\n",
              "       width=\"24px\">\n",
              "    <path d=\"M0 0h24v24H0V0z\" fill=\"none\"/>\n",
              "    <path d=\"M18.56 5.44l.94 2.06.94-2.06 2.06-.94-2.06-.94-.94-2.06-.94 2.06-2.06.94zm-11 1L8.5 8.5l.94-2.06 2.06-.94-2.06-.94L8.5 2.5l-.94 2.06-2.06.94zm10 10l.94 2.06.94-2.06 2.06-.94-2.06-.94-.94-2.06-.94 2.06-2.06.94z\"/><path d=\"M17.41 7.96l-1.37-1.37c-.4-.4-.92-.59-1.43-.59-.52 0-1.04.2-1.43.59L10.3 9.45l-7.72 7.72c-.78.78-.78 2.05 0 2.83L4 21.41c.39.39.9.59 1.41.59.51 0 1.02-.2 1.41-.59l7.78-7.78 2.81-2.81c.8-.78.8-2.07 0-2.86zM5.41 20L4 18.59l7.72-7.72 1.47 1.35L5.41 20z\"/>\n",
              "  </svg>\n",
              "      </button>\n",
              "      \n",
              "  <style>\n",
              "    .colab-df-container {\n",
              "      display:flex;\n",
              "      flex-wrap:wrap;\n",
              "      gap: 12px;\n",
              "    }\n",
              "\n",
              "    .colab-df-convert {\n",
              "      background-color: #E8F0FE;\n",
              "      border: none;\n",
              "      border-radius: 50%;\n",
              "      cursor: pointer;\n",
              "      display: none;\n",
              "      fill: #1967D2;\n",
              "      height: 32px;\n",
              "      padding: 0 0 0 0;\n",
              "      width: 32px;\n",
              "    }\n",
              "\n",
              "    .colab-df-convert:hover {\n",
              "      background-color: #E2EBFA;\n",
              "      box-shadow: 0px 1px 2px rgba(60, 64, 67, 0.3), 0px 1px 3px 1px rgba(60, 64, 67, 0.15);\n",
              "      fill: #174EA6;\n",
              "    }\n",
              "\n",
              "    [theme=dark] .colab-df-convert {\n",
              "      background-color: #3B4455;\n",
              "      fill: #D2E3FC;\n",
              "    }\n",
              "\n",
              "    [theme=dark] .colab-df-convert:hover {\n",
              "      background-color: #434B5C;\n",
              "      box-shadow: 0px 1px 3px 1px rgba(0, 0, 0, 0.15);\n",
              "      filter: drop-shadow(0px 1px 2px rgba(0, 0, 0, 0.3));\n",
              "      fill: #FFFFFF;\n",
              "    }\n",
              "  </style>\n",
              "\n",
              "      <script>\n",
              "        const buttonEl =\n",
              "          document.querySelector('#df-c213975c-2a0a-4277-8981-e7efaa433708 button.colab-df-convert');\n",
              "        buttonEl.style.display =\n",
              "          google.colab.kernel.accessAllowed ? 'block' : 'none';\n",
              "\n",
              "        async function convertToInteractive(key) {\n",
              "          const element = document.querySelector('#df-c213975c-2a0a-4277-8981-e7efaa433708');\n",
              "          const dataTable =\n",
              "            await google.colab.kernel.invokeFunction('convertToInteractive',\n",
              "                                                     [key], {});\n",
              "          if (!dataTable) return;\n",
              "\n",
              "          const docLinkHtml = 'Like what you see? Visit the ' +\n",
              "            '<a target=\"_blank\" href=https://colab.research.google.com/notebooks/data_table.ipynb>data table notebook</a>'\n",
              "            + ' to learn more about interactive tables.';\n",
              "          element.innerHTML = '';\n",
              "          dataTable['output_type'] = 'display_data';\n",
              "          await google.colab.output.renderOutput(dataTable, element);\n",
              "          const docLink = document.createElement('div');\n",
              "          docLink.innerHTML = docLinkHtml;\n",
              "          element.appendChild(docLink);\n",
              "        }\n",
              "      </script>\n",
              "    </div>\n",
              "  </div>\n",
              "  "
            ]
          },
          "metadata": {},
          "execution_count": 65
        }
      ]
    },
    {
      "cell_type": "code",
      "metadata": {
        "ExecuteTime": {
          "end_time": "2018-08-14T06:43:30.245333Z",
          "start_time": "2018-08-14T06:43:30.241861Z"
        },
        "id": "AqBdDxT3tGbX",
        "colab": {
          "base_uri": "https://localhost:8080/"
        },
        "outputId": "5e616a01-49ec-4e60-f99b-f60ce2f003d5"
      },
      "source": [
        "summary_df.mean()               # 'score' 열의 평균 : 55 / 'deviation' 열의 평균 : 0"
      ],
      "execution_count": 66,
      "outputs": [
        {
          "output_type": "execute_result",
          "data": {
            "text/plain": [
              "score        55.0\n",
              "deviation     0.0\n",
              "dtype: float64"
            ]
          },
          "metadata": {},
          "execution_count": 66
        }
      ]
    },
    {
      "cell_type": "markdown",
      "metadata": {
        "id": "EY5LsBVttGbX"
      },
      "source": [
        "#### 분산\n",
        "(편차)^2 의 평균<br>\n",
        "예) scores의 분산\n",
        "1. np.mean(deviation ** 2)\n",
        "2. np.var(scores)<br>\n",
        "\n",
        "분산이 필요한 이유 : 편차의 평균이 0이기 때문에 분산 필요<br>\n",
        "\n",
        "불편분산 : (편차)^2의 합을 (데이터의 개수-1)로 나눔<Br>\n",
        "DataFrame, Series의 var 메서드<br>\n",
        "예) scores_df의 분산<br>\n",
        "3. scores_df.var()\n",
        "\n",
        "분산이 크다 = 편차가 크다 = 평균으로부터 떨어져 있다 = sparse하다<br>\n",
        "--> 모델링하기 어렵다. 전처리로 다른 대푯값을 찾거나 기계학습을 못한다<br>\n"
      ]
    },
    {
      "cell_type": "code",
      "metadata": {
        "ExecuteTime": {
          "end_time": "2018-08-14T06:43:30.249659Z",
          "start_time": "2018-08-14T06:43:30.246233Z"
        },
        "id": "_UbDwQ1ntGbX",
        "colab": {
          "base_uri": "https://localhost:8080/"
        },
        "outputId": "1437584d-ffc7-422e-aad7-cbdff8975f26"
      },
      "source": [
        "#13 분산 = 편차 제곱의 평균\n",
        "#   var = np.mean(deviation ** 2)\n",
        "\n",
        "np.mean(deviation ** 2)         # **2 => ^2"
      ],
      "execution_count": 67,
      "outputs": [
        {
          "output_type": "execute_result",
          "data": {
            "text/plain": [
              "86.000"
            ]
          },
          "metadata": {},
          "execution_count": 67
        }
      ]
    },
    {
      "cell_type": "code",
      "metadata": {
        "ExecuteTime": {
          "end_time": "2018-08-14T06:43:30.253985Z",
          "start_time": "2018-08-14T06:43:30.250545Z"
        },
        "id": "_RDUc6IPtGbX",
        "colab": {
          "base_uri": "https://localhost:8080/"
        },
        "outputId": "d5bc0166-48e9-4ee8-cdb0-b44554d5598a"
      },
      "source": [
        "#14 분산 = np.var(data)\n",
        "\n",
        "np.var(scores)"
      ],
      "execution_count": 68,
      "outputs": [
        {
          "output_type": "execute_result",
          "data": {
            "text/plain": [
              "86.000"
            ]
          },
          "metadata": {},
          "execution_count": 68
        }
      ]
    },
    {
      "cell_type": "code",
      "metadata": {
        "ExecuteTime": {
          "end_time": "2018-08-14T06:43:30.258576Z",
          "start_time": "2018-08-14T06:43:30.254851Z"
        },
        "id": "Y36BLhRUtGbX",
        "colab": {
          "base_uri": "https://localhost:8080/"
        },
        "outputId": "6e0c017f-6de5-4e23-a521-7cf979aed2d2"
      },
      "source": [
        "#15 분산 = data.var()\n",
        "\n",
        "scores_df.var()                 # dataframe의 분산은 불편분산"
      ],
      "execution_count": 72,
      "outputs": [
        {
          "output_type": "execute_result",
          "data": {
            "text/plain": [
              "score    95.556\n",
              "dtype: float64"
            ]
          },
          "metadata": {},
          "execution_count": 72
        }
      ]
    },
    {
      "cell_type": "code",
      "source": [
        "# 참고 - 불편분산\n",
        "# 편차 제곱의 합을 n-1 로 나눔\n",
        "\n",
        "print(sum(deviation ** 2) / (len(scores_df)-1))"
      ],
      "metadata": {
        "colab": {
          "base_uri": "https://localhost:8080/"
        },
        "id": "7aHdjYI6wLKO",
        "outputId": "a6141d2c-150c-40ac-e38e-c26921cb0c0d"
      },
      "execution_count": 78,
      "outputs": [
        {
          "output_type": "stream",
          "name": "stdout",
          "text": [
            "95.55555555555556\n"
          ]
        }
      ]
    },
    {
      "cell_type": "code",
      "metadata": {
        "ExecuteTime": {
          "end_time": "2018-08-14T06:43:30.266983Z",
          "start_time": "2018-08-14T06:43:30.259624Z"
        },
        "id": "hoYymN61tGbX",
        "colab": {
          "base_uri": "https://localhost:8080/",
          "height": 394
        },
        "outputId": "db27f0b5-c847-4ea9-f31e-14ca577867bb"
      },
      "source": [
        "# 응용 - dataframe에 square of deviation 열 넣기\n",
        "summary_df['square of deviation'] = np.square(deviation)\n",
        "summary_df"
      ],
      "execution_count": 81,
      "outputs": [
        {
          "output_type": "execute_result",
          "data": {
            "text/plain": [
              "         score  deviation  square of deviation\n",
              "student                                       \n",
              "A           42      -13.0                169.0\n",
              "B           69       14.0                196.0\n",
              "C           56        1.0                  1.0\n",
              "D           41      -14.0                196.0\n",
              "E           57        2.0                  4.0\n",
              "F           48       -7.0                 49.0\n",
              "G           65       10.0                100.0\n",
              "H           49       -6.0                 36.0\n",
              "I           65       10.0                100.0\n",
              "J           58        3.0                  9.0"
            ],
            "text/html": [
              "\n",
              "  <div id=\"df-09fbd2d2-780d-4f9e-a360-766859fec152\">\n",
              "    <div class=\"colab-df-container\">\n",
              "      <div>\n",
              "<style scoped>\n",
              "    .dataframe tbody tr th:only-of-type {\n",
              "        vertical-align: middle;\n",
              "    }\n",
              "\n",
              "    .dataframe tbody tr th {\n",
              "        vertical-align: top;\n",
              "    }\n",
              "\n",
              "    .dataframe thead th {\n",
              "        text-align: right;\n",
              "    }\n",
              "</style>\n",
              "<table border=\"1\" class=\"dataframe\">\n",
              "  <thead>\n",
              "    <tr style=\"text-align: right;\">\n",
              "      <th></th>\n",
              "      <th>score</th>\n",
              "      <th>deviation</th>\n",
              "      <th>square of deviation</th>\n",
              "    </tr>\n",
              "    <tr>\n",
              "      <th>student</th>\n",
              "      <th></th>\n",
              "      <th></th>\n",
              "      <th></th>\n",
              "    </tr>\n",
              "  </thead>\n",
              "  <tbody>\n",
              "    <tr>\n",
              "      <th>A</th>\n",
              "      <td>42</td>\n",
              "      <td>-13.0</td>\n",
              "      <td>169.0</td>\n",
              "    </tr>\n",
              "    <tr>\n",
              "      <th>B</th>\n",
              "      <td>69</td>\n",
              "      <td>14.0</td>\n",
              "      <td>196.0</td>\n",
              "    </tr>\n",
              "    <tr>\n",
              "      <th>C</th>\n",
              "      <td>56</td>\n",
              "      <td>1.0</td>\n",
              "      <td>1.0</td>\n",
              "    </tr>\n",
              "    <tr>\n",
              "      <th>D</th>\n",
              "      <td>41</td>\n",
              "      <td>-14.0</td>\n",
              "      <td>196.0</td>\n",
              "    </tr>\n",
              "    <tr>\n",
              "      <th>E</th>\n",
              "      <td>57</td>\n",
              "      <td>2.0</td>\n",
              "      <td>4.0</td>\n",
              "    </tr>\n",
              "    <tr>\n",
              "      <th>F</th>\n",
              "      <td>48</td>\n",
              "      <td>-7.0</td>\n",
              "      <td>49.0</td>\n",
              "    </tr>\n",
              "    <tr>\n",
              "      <th>G</th>\n",
              "      <td>65</td>\n",
              "      <td>10.0</td>\n",
              "      <td>100.0</td>\n",
              "    </tr>\n",
              "    <tr>\n",
              "      <th>H</th>\n",
              "      <td>49</td>\n",
              "      <td>-6.0</td>\n",
              "      <td>36.0</td>\n",
              "    </tr>\n",
              "    <tr>\n",
              "      <th>I</th>\n",
              "      <td>65</td>\n",
              "      <td>10.0</td>\n",
              "      <td>100.0</td>\n",
              "    </tr>\n",
              "    <tr>\n",
              "      <th>J</th>\n",
              "      <td>58</td>\n",
              "      <td>3.0</td>\n",
              "      <td>9.0</td>\n",
              "    </tr>\n",
              "  </tbody>\n",
              "</table>\n",
              "</div>\n",
              "      <button class=\"colab-df-convert\" onclick=\"convertToInteractive('df-09fbd2d2-780d-4f9e-a360-766859fec152')\"\n",
              "              title=\"Convert this dataframe to an interactive table.\"\n",
              "              style=\"display:none;\">\n",
              "        \n",
              "  <svg xmlns=\"http://www.w3.org/2000/svg\" height=\"24px\"viewBox=\"0 0 24 24\"\n",
              "       width=\"24px\">\n",
              "    <path d=\"M0 0h24v24H0V0z\" fill=\"none\"/>\n",
              "    <path d=\"M18.56 5.44l.94 2.06.94-2.06 2.06-.94-2.06-.94-.94-2.06-.94 2.06-2.06.94zm-11 1L8.5 8.5l.94-2.06 2.06-.94-2.06-.94L8.5 2.5l-.94 2.06-2.06.94zm10 10l.94 2.06.94-2.06 2.06-.94-2.06-.94-.94-2.06-.94 2.06-2.06.94z\"/><path d=\"M17.41 7.96l-1.37-1.37c-.4-.4-.92-.59-1.43-.59-.52 0-1.04.2-1.43.59L10.3 9.45l-7.72 7.72c-.78.78-.78 2.05 0 2.83L4 21.41c.39.39.9.59 1.41.59.51 0 1.02-.2 1.41-.59l7.78-7.78 2.81-2.81c.8-.78.8-2.07 0-2.86zM5.41 20L4 18.59l7.72-7.72 1.47 1.35L5.41 20z\"/>\n",
              "  </svg>\n",
              "      </button>\n",
              "      \n",
              "  <style>\n",
              "    .colab-df-container {\n",
              "      display:flex;\n",
              "      flex-wrap:wrap;\n",
              "      gap: 12px;\n",
              "    }\n",
              "\n",
              "    .colab-df-convert {\n",
              "      background-color: #E8F0FE;\n",
              "      border: none;\n",
              "      border-radius: 50%;\n",
              "      cursor: pointer;\n",
              "      display: none;\n",
              "      fill: #1967D2;\n",
              "      height: 32px;\n",
              "      padding: 0 0 0 0;\n",
              "      width: 32px;\n",
              "    }\n",
              "\n",
              "    .colab-df-convert:hover {\n",
              "      background-color: #E2EBFA;\n",
              "      box-shadow: 0px 1px 2px rgba(60, 64, 67, 0.3), 0px 1px 3px 1px rgba(60, 64, 67, 0.15);\n",
              "      fill: #174EA6;\n",
              "    }\n",
              "\n",
              "    [theme=dark] .colab-df-convert {\n",
              "      background-color: #3B4455;\n",
              "      fill: #D2E3FC;\n",
              "    }\n",
              "\n",
              "    [theme=dark] .colab-df-convert:hover {\n",
              "      background-color: #434B5C;\n",
              "      box-shadow: 0px 1px 3px 1px rgba(0, 0, 0, 0.15);\n",
              "      filter: drop-shadow(0px 1px 2px rgba(0, 0, 0, 0.3));\n",
              "      fill: #FFFFFF;\n",
              "    }\n",
              "  </style>\n",
              "\n",
              "      <script>\n",
              "        const buttonEl =\n",
              "          document.querySelector('#df-09fbd2d2-780d-4f9e-a360-766859fec152 button.colab-df-convert');\n",
              "        buttonEl.style.display =\n",
              "          google.colab.kernel.accessAllowed ? 'block' : 'none';\n",
              "\n",
              "        async function convertToInteractive(key) {\n",
              "          const element = document.querySelector('#df-09fbd2d2-780d-4f9e-a360-766859fec152');\n",
              "          const dataTable =\n",
              "            await google.colab.kernel.invokeFunction('convertToInteractive',\n",
              "                                                     [key], {});\n",
              "          if (!dataTable) return;\n",
              "\n",
              "          const docLinkHtml = 'Like what you see? Visit the ' +\n",
              "            '<a target=\"_blank\" href=https://colab.research.google.com/notebooks/data_table.ipynb>data table notebook</a>'\n",
              "            + ' to learn more about interactive tables.';\n",
              "          element.innerHTML = '';\n",
              "          dataTable['output_type'] = 'display_data';\n",
              "          await google.colab.output.renderOutput(dataTable, element);\n",
              "          const docLink = document.createElement('div');\n",
              "          docLink.innerHTML = docLinkHtml;\n",
              "          element.appendChild(docLink);\n",
              "        }\n",
              "      </script>\n",
              "    </div>\n",
              "  </div>\n",
              "  "
            ]
          },
          "metadata": {},
          "execution_count": 81
        }
      ]
    },
    {
      "cell_type": "code",
      "metadata": {
        "ExecuteTime": {
          "end_time": "2018-08-14T06:43:30.271609Z",
          "start_time": "2018-08-14T06:43:30.267927Z"
        },
        "id": "-Cq2LVpstGbY",
        "colab": {
          "base_uri": "https://localhost:8080/"
        },
        "outputId": "a307ee47-fe6a-43ea-ea6d-050d2b3af213"
      },
      "source": [
        "summary_df.mean()"
      ],
      "execution_count": 82,
      "outputs": [
        {
          "output_type": "execute_result",
          "data": {
            "text/plain": [
              "score                  55.0\n",
              "deviation               0.0\n",
              "square of deviation    86.0\n",
              "dtype: float64"
            ]
          },
          "metadata": {},
          "execution_count": 82
        }
      ]
    },
    {
      "cell_type": "markdown",
      "metadata": {
        "id": "EFTSbSKGtGbY"
      },
      "source": [
        "#### 표준편차\n",
        "분산에 제곱근 취함 <br>\n",
        "표준편차가 필요한 이유 : 원래 데이터와 동일한 단위를 쓰는 지표가 필요\n",
        "예) scores의 분산\n",
        "1. np.sqrt(np.var(scores, ddof=0))\n",
        "2. np.std(scores, ddof=0)"
      ]
    },
    {
      "cell_type": "code",
      "metadata": {
        "ExecuteTime": {
          "end_time": "2018-08-14T06:43:30.276008Z",
          "start_time": "2018-08-14T06:43:30.272493Z"
        },
        "id": "MBtUlYKRtGbY",
        "colab": {
          "base_uri": "https://localhost:8080/"
        },
        "outputId": "9710d423-90d1-4472-df06-d758364b7fec"
      },
      "source": [
        "#16 표준편차 = np.sqrt(np.var(data, ddof=0))\n",
        "#   표준편차 = 분산의 제곱근\n",
        "\n",
        "np.sqrt(np.var(scores, ddof=0))"
      ],
      "execution_count": null,
      "outputs": [
        {
          "output_type": "execute_result",
          "data": {
            "text/plain": [
              "9.274"
            ]
          },
          "metadata": {},
          "execution_count": 46
        }
      ]
    },
    {
      "cell_type": "code",
      "metadata": {
        "ExecuteTime": {
          "end_time": "2018-08-14T06:43:30.280036Z",
          "start_time": "2018-08-14T06:43:30.277056Z"
        },
        "id": "I0luP2UotGbY",
        "colab": {
          "base_uri": "https://localhost:8080/"
        },
        "outputId": "d9794b39-8184-499c-f338-cdeaaab69202"
      },
      "source": [
        "#17 표준편차 = np.std(data, ddof=0)\n",
        "\n",
        "np.std(scores, ddof=0)"
      ],
      "execution_count": null,
      "outputs": [
        {
          "output_type": "execute_result",
          "data": {
            "text/plain": [
              "9.274"
            ]
          },
          "metadata": {},
          "execution_count": 47
        }
      ]
    },
    {
      "cell_type": "markdown",
      "metadata": {
        "id": "8IJ971antGbY"
      },
      "source": [
        "### 2) 범위와 4분위수 범위"
      ]
    },
    {
      "cell_type": "markdown",
      "metadata": {
        "id": "v6f7GkBbtGbY"
      },
      "source": [
        "#### 범위\n",
        "범위 : 최댓값 - 최솟값 <br>\n",
        "사분위 : 상위수%와 하위수%에 위치하는 값의 차이 <br>\n",
        "- 제1사분위수(Q1) : 하위 25%\n",
        "- 제2사분위수(Q2) : 하위 50%\n",
        "- 제3사분위수(Q3) : 하위 75% \n",
        "\n",
        "\n",
        "중앙값이 하한에 가깝다 = 이상값이 많을 수 있다"
      ]
    },
    {
      "cell_type": "code",
      "metadata": {
        "ExecuteTime": {
          "end_time": "2018-08-14T06:43:30.284214Z",
          "start_time": "2018-08-14T06:43:30.280994Z"
        },
        "id": "caTRIyVVtGbZ",
        "colab": {
          "base_uri": "https://localhost:8080/"
        },
        "outputId": "0a07bd6a-0ad0-4081-d38e-692a77f7f4d5"
      },
      "source": [
        "#9. 최댓값 : np.max(data), 최솟값 : np.min(data)\n",
        "\n",
        "np.max(scores) - np.min(scores)"
      ],
      "execution_count": 83,
      "outputs": [
        {
          "output_type": "execute_result",
          "data": {
            "text/plain": [
              "28"
            ]
          },
          "metadata": {},
          "execution_count": 83
        }
      ]
    },
    {
      "cell_type": "markdown",
      "metadata": {
        "id": "RKx5-jNktGbZ"
      },
      "source": [
        "#### 4분위수 범위\n",
        "사분위 범위 : IQR = Q3 - Q1"
      ]
    },
    {
      "cell_type": "code",
      "metadata": {
        "ExecuteTime": {
          "end_time": "2018-08-14T06:43:30.289060Z",
          "start_time": "2018-08-14T06:43:30.285142Z"
        },
        "id": "BL3PZNJxtGbZ",
        "colab": {
          "base_uri": "https://localhost:8080/"
        },
        "outputId": "ed9a6a33-3407-4737-b28e-6a4834109499"
      },
      "source": [
        "#10 절사평균 : np.percentile(data, 25)\n",
        "\n",
        "scores_Q1 = np.percentile(scores, 25)\n",
        "scores_Q3 = np.percentile(scores, 75)\n",
        "scores_IQR = scores_Q3 - scores_Q1\n",
        "scores_IQR"
      ],
      "execution_count": 84,
      "outputs": [
        {
          "output_type": "execute_result",
          "data": {
            "text/plain": [
              "15.000"
            ]
          },
          "metadata": {},
          "execution_count": 84
        }
      ]
    },
    {
      "cell_type": "markdown",
      "metadata": {
        "id": "3jKyoqt_tGbZ"
      },
      "source": [
        "### 2) 데이터의 지표 정리\n",
        "예) scores의 지표 정리\n",
        "1. pd.Series(scores).describe()"
      ]
    },
    {
      "cell_type": "code",
      "metadata": {
        "ExecuteTime": {
          "end_time": "2018-08-14T06:43:30.296046Z",
          "start_time": "2018-08-14T06:43:30.290147Z"
        },
        "id": "GaCgKShetGbZ",
        "outputId": "fcae695f-6aea-4544-8d30-8588cdc98c12",
        "colab": {
          "base_uri": "https://localhost:8080/"
        }
      },
      "source": [
        "#18 describe() : count, mean, std, min, 25%, 50%, 75%, max 값 정리\n",
        "\n",
        "pd.Series(scores).describe()"
      ],
      "execution_count": null,
      "outputs": [
        {
          "output_type": "execute_result",
          "data": {
            "text/plain": [
              "count    10.000\n",
              "mean     55.000\n",
              "std       9.775\n",
              "min      41.000\n",
              "25%      48.250\n",
              "50%      56.500\n",
              "75%      63.250\n",
              "max      69.000\n",
              "dtype: float64"
            ]
          },
          "metadata": {},
          "execution_count": 49
        }
      ]
    },
    {
      "cell_type": "markdown",
      "metadata": {
        "id": "XcE9kz6UtGbZ"
      },
      "source": [
        "## 2.3 데이터의 정규화"
      ]
    },
    {
      "cell_type": "markdown",
      "metadata": {
        "id": "o1NOtSTutGbZ"
      },
      "source": [
        "### 표준화\n",
        "데이터에서 평균을 빼고 표준편차로 나눔<br>\n",
        "예) scores의 표준화<br>\n",
        "1. z = (scores - np.mean(scores)) / np.std(scores) <br>\n",
        "\n",
        "표준화 변량, Z 점수<br>\n",
        "평균 : 0, 표준편차 : 1<br>\n",
        "표준화를 하는 이유 : 통일된 지표로 변환하기 위해<br>"
      ]
    },
    {
      "cell_type": "code",
      "metadata": {
        "ExecuteTime": {
          "end_time": "2018-08-14T06:43:30.299923Z",
          "start_time": "2018-08-14T06:43:30.297056Z"
        },
        "id": "oEny9xdztGba",
        "outputId": "7b5817b6-c170-49a3-fea2-570b3e9878f2",
        "colab": {
          "base_uri": "https://localhost:8080/"
        }
      },
      "source": [
        "#19 표준화 = (data - np.mean(data)) / np.std(data)\n",
        "#   표준화 = (데이터 - 평균) / 표준편차\n",
        "\n",
        "z = (scores - np.mean(scores)) / np.std(scores)\n",
        "z"
      ],
      "execution_count": 86,
      "outputs": [
        {
          "output_type": "execute_result",
          "data": {
            "text/plain": [
              "array([-1.402,  1.51 ,  0.108, -1.51 ,  0.216, -0.755,  1.078, -0.647,\n",
              "        1.078,  0.323])"
            ]
          },
          "metadata": {},
          "execution_count": 86
        }
      ]
    },
    {
      "cell_type": "code",
      "metadata": {
        "ExecuteTime": {
          "end_time": "2018-08-14T06:43:30.304016Z",
          "start_time": "2018-08-14T06:43:30.300786Z"
        },
        "id": "2pM8Gf88tGba",
        "outputId": "04bb3d3f-be40-43b6-8fbd-299874e138a6",
        "colab": {
          "base_uri": "https://localhost:8080/"
        }
      },
      "source": [
        "#20 표준화의 평균은 0, 표준편차는 1\n",
        "\n",
        "np.mean(z), np.std(z, ddof=0)"
      ],
      "execution_count": 88,
      "outputs": [
        {
          "output_type": "execute_result",
          "data": {
            "text/plain": [
              "(-0.000, 1.000)"
            ]
          },
          "metadata": {},
          "execution_count": 88
        }
      ]
    },
    {
      "cell_type": "markdown",
      "metadata": {
        "id": "xSPmNlVktGba"
      },
      "source": [
        "### 편찻값\n",
        "평균 : 50, 표준편차 10<br>\n",
        "예) scores의 편찻값\n",
        "1. z = 50 + 10 * (scores - np.mean(scores)) / np.std(scores)"
      ]
    },
    {
      "cell_type": "code",
      "metadata": {
        "ExecuteTime": {
          "end_time": "2018-08-14T06:43:30.307237Z",
          "start_time": "2018-08-14T06:43:30.304893Z"
        },
        "id": "Z7Hkm7DEtGba",
        "outputId": "b798a140-86f6-4c18-8fff-76486da9d2f9",
        "colab": {
          "base_uri": "https://localhost:8080/"
        }
      },
      "source": [
        "#21 편차값 = 평균은 50, 표준편차가 10이 되도록 정규화\n",
        "\n",
        "z = 50 + 10 * (scores - np.mean(scores)) / np.std(scores)\n",
        "z"
      ],
      "execution_count": 89,
      "outputs": [
        {
          "output_type": "execute_result",
          "data": {
            "text/plain": [
              "array([35.982, 65.097, 51.078, 34.903, 52.157, 42.452, 60.783, 43.53 ,\n",
              "       60.783, 53.235])"
            ]
          },
          "metadata": {},
          "execution_count": 89
        }
      ]
    },
    {
      "cell_type": "code",
      "metadata": {
        "ExecuteTime": {
          "end_time": "2018-08-14T06:43:30.315638Z",
          "start_time": "2018-08-14T06:43:30.308810Z"
        },
        "id": "wXvakOUStGba",
        "outputId": "bc08e5d4-79df-4f27-da24-e0460682cb39",
        "colab": {
          "base_uri": "https://localhost:8080/",
          "height": 394
        }
      },
      "source": [
        "# 응용 - dataframe에 deviation value 열 넣기\n",
        "scores_df['deviation value'] = z\n",
        "scores_df"
      ],
      "execution_count": 91,
      "outputs": [
        {
          "output_type": "execute_result",
          "data": {
            "text/plain": [
              "         score  deviation value\n",
              "student                        \n",
              "A           42           35.982\n",
              "B           69           65.097\n",
              "C           56           51.078\n",
              "D           41           34.903\n",
              "E           57           52.157\n",
              "F           48           42.452\n",
              "G           65           60.783\n",
              "H           49           43.530\n",
              "I           65           60.783\n",
              "J           58           53.235"
            ],
            "text/html": [
              "\n",
              "  <div id=\"df-8538f76c-cbff-4de3-a9e5-162226266524\">\n",
              "    <div class=\"colab-df-container\">\n",
              "      <div>\n",
              "<style scoped>\n",
              "    .dataframe tbody tr th:only-of-type {\n",
              "        vertical-align: middle;\n",
              "    }\n",
              "\n",
              "    .dataframe tbody tr th {\n",
              "        vertical-align: top;\n",
              "    }\n",
              "\n",
              "    .dataframe thead th {\n",
              "        text-align: right;\n",
              "    }\n",
              "</style>\n",
              "<table border=\"1\" class=\"dataframe\">\n",
              "  <thead>\n",
              "    <tr style=\"text-align: right;\">\n",
              "      <th></th>\n",
              "      <th>score</th>\n",
              "      <th>deviation value</th>\n",
              "    </tr>\n",
              "    <tr>\n",
              "      <th>student</th>\n",
              "      <th></th>\n",
              "      <th></th>\n",
              "    </tr>\n",
              "  </thead>\n",
              "  <tbody>\n",
              "    <tr>\n",
              "      <th>A</th>\n",
              "      <td>42</td>\n",
              "      <td>35.982</td>\n",
              "    </tr>\n",
              "    <tr>\n",
              "      <th>B</th>\n",
              "      <td>69</td>\n",
              "      <td>65.097</td>\n",
              "    </tr>\n",
              "    <tr>\n",
              "      <th>C</th>\n",
              "      <td>56</td>\n",
              "      <td>51.078</td>\n",
              "    </tr>\n",
              "    <tr>\n",
              "      <th>D</th>\n",
              "      <td>41</td>\n",
              "      <td>34.903</td>\n",
              "    </tr>\n",
              "    <tr>\n",
              "      <th>E</th>\n",
              "      <td>57</td>\n",
              "      <td>52.157</td>\n",
              "    </tr>\n",
              "    <tr>\n",
              "      <th>F</th>\n",
              "      <td>48</td>\n",
              "      <td>42.452</td>\n",
              "    </tr>\n",
              "    <tr>\n",
              "      <th>G</th>\n",
              "      <td>65</td>\n",
              "      <td>60.783</td>\n",
              "    </tr>\n",
              "    <tr>\n",
              "      <th>H</th>\n",
              "      <td>49</td>\n",
              "      <td>43.530</td>\n",
              "    </tr>\n",
              "    <tr>\n",
              "      <th>I</th>\n",
              "      <td>65</td>\n",
              "      <td>60.783</td>\n",
              "    </tr>\n",
              "    <tr>\n",
              "      <th>J</th>\n",
              "      <td>58</td>\n",
              "      <td>53.235</td>\n",
              "    </tr>\n",
              "  </tbody>\n",
              "</table>\n",
              "</div>\n",
              "      <button class=\"colab-df-convert\" onclick=\"convertToInteractive('df-8538f76c-cbff-4de3-a9e5-162226266524')\"\n",
              "              title=\"Convert this dataframe to an interactive table.\"\n",
              "              style=\"display:none;\">\n",
              "        \n",
              "  <svg xmlns=\"http://www.w3.org/2000/svg\" height=\"24px\"viewBox=\"0 0 24 24\"\n",
              "       width=\"24px\">\n",
              "    <path d=\"M0 0h24v24H0V0z\" fill=\"none\"/>\n",
              "    <path d=\"M18.56 5.44l.94 2.06.94-2.06 2.06-.94-2.06-.94-.94-2.06-.94 2.06-2.06.94zm-11 1L8.5 8.5l.94-2.06 2.06-.94-2.06-.94L8.5 2.5l-.94 2.06-2.06.94zm10 10l.94 2.06.94-2.06 2.06-.94-2.06-.94-.94-2.06-.94 2.06-2.06.94z\"/><path d=\"M17.41 7.96l-1.37-1.37c-.4-.4-.92-.59-1.43-.59-.52 0-1.04.2-1.43.59L10.3 9.45l-7.72 7.72c-.78.78-.78 2.05 0 2.83L4 21.41c.39.39.9.59 1.41.59.51 0 1.02-.2 1.41-.59l7.78-7.78 2.81-2.81c.8-.78.8-2.07 0-2.86zM5.41 20L4 18.59l7.72-7.72 1.47 1.35L5.41 20z\"/>\n",
              "  </svg>\n",
              "      </button>\n",
              "      \n",
              "  <style>\n",
              "    .colab-df-container {\n",
              "      display:flex;\n",
              "      flex-wrap:wrap;\n",
              "      gap: 12px;\n",
              "    }\n",
              "\n",
              "    .colab-df-convert {\n",
              "      background-color: #E8F0FE;\n",
              "      border: none;\n",
              "      border-radius: 50%;\n",
              "      cursor: pointer;\n",
              "      display: none;\n",
              "      fill: #1967D2;\n",
              "      height: 32px;\n",
              "      padding: 0 0 0 0;\n",
              "      width: 32px;\n",
              "    }\n",
              "\n",
              "    .colab-df-convert:hover {\n",
              "      background-color: #E2EBFA;\n",
              "      box-shadow: 0px 1px 2px rgba(60, 64, 67, 0.3), 0px 1px 3px 1px rgba(60, 64, 67, 0.15);\n",
              "      fill: #174EA6;\n",
              "    }\n",
              "\n",
              "    [theme=dark] .colab-df-convert {\n",
              "      background-color: #3B4455;\n",
              "      fill: #D2E3FC;\n",
              "    }\n",
              "\n",
              "    [theme=dark] .colab-df-convert:hover {\n",
              "      background-color: #434B5C;\n",
              "      box-shadow: 0px 1px 3px 1px rgba(0, 0, 0, 0.15);\n",
              "      filter: drop-shadow(0px 1px 2px rgba(0, 0, 0, 0.3));\n",
              "      fill: #FFFFFF;\n",
              "    }\n",
              "  </style>\n",
              "\n",
              "      <script>\n",
              "        const buttonEl =\n",
              "          document.querySelector('#df-8538f76c-cbff-4de3-a9e5-162226266524 button.colab-df-convert');\n",
              "        buttonEl.style.display =\n",
              "          google.colab.kernel.accessAllowed ? 'block' : 'none';\n",
              "\n",
              "        async function convertToInteractive(key) {\n",
              "          const element = document.querySelector('#df-8538f76c-cbff-4de3-a9e5-162226266524');\n",
              "          const dataTable =\n",
              "            await google.colab.kernel.invokeFunction('convertToInteractive',\n",
              "                                                     [key], {});\n",
              "          if (!dataTable) return;\n",
              "\n",
              "          const docLinkHtml = 'Like what you see? Visit the ' +\n",
              "            '<a target=\"_blank\" href=https://colab.research.google.com/notebooks/data_table.ipynb>data table notebook</a>'\n",
              "            + ' to learn more about interactive tables.';\n",
              "          element.innerHTML = '';\n",
              "          dataTable['output_type'] = 'display_data';\n",
              "          await google.colab.output.renderOutput(dataTable, element);\n",
              "          const docLink = document.createElement('div');\n",
              "          docLink.innerHTML = docLinkHtml;\n",
              "          element.appendChild(docLink);\n",
              "        }\n",
              "      </script>\n",
              "    </div>\n",
              "  </div>\n",
              "  "
            ]
          },
          "metadata": {},
          "execution_count": 91
        }
      ]
    },
    {
      "cell_type": "markdown",
      "metadata": {
        "id": "vM3VhcqHtGba"
      },
      "source": [
        "## 2.4 데이터의 시각화"
      ]
    },
    {
      "cell_type": "code",
      "metadata": {
        "ExecuteTime": {
          "end_time": "2018-08-14T06:43:30.323447Z",
          "start_time": "2018-08-14T06:43:30.317159Z"
        },
        "id": "Y38UxohptGbb",
        "outputId": "0414f7d0-8bcf-45e5-cdc1-7ea36b004cb5",
        "colab": {
          "base_uri": "https://localhost:8080/"
        }
      },
      "source": [
        "# 50명의 영어 점수 array\n",
        "english_scores = np.array(df['english'])\n",
        "# Series로 변환하여 describe를 표시\n",
        "pd.Series(english_scores).describe()"
      ],
      "execution_count": 92,
      "outputs": [
        {
          "output_type": "execute_result",
          "data": {
            "text/plain": [
              "count    50.00\n",
              "mean     58.38\n",
              "std       9.80\n",
              "min      37.00\n",
              "25%      54.00\n",
              "50%      57.50\n",
              "75%      65.00\n",
              "max      79.00\n",
              "dtype: float64"
            ]
          },
          "metadata": {},
          "execution_count": 92
        }
      ]
    },
    {
      "cell_type": "markdown",
      "metadata": {
        "id": "10DTQc0ztGbb"
      },
      "source": [
        "### 도수분포표\n",
        "데이터가 취하는 값을 몇 개의 구간으로 나누고, 각 구간에 몇 개의 데이터가 들어가는가를 세는 방법\n",
        "- 계급 : 구간  예) 0~10점\n",
        "- 도수 : 학생 수  예) 2명\n",
        "- 계급폭 : 각 구간의 폭  예) 10점\n",
        "- 계급수 : 계급의 수  예) 10개\n",
        "- 계급값 : 계급을 대표하는 값  예) 5, 15, 25, ...\n",
        "\n",
        "예) english_scores를 0부터 100까지 10개의 구간으로 나눌 때\n",
        "```\n",
        "freq, _ = np.histogram(english_scores, bins=10, range=(0,100))\n",
        "```\n",
        "\n",
        "상대도수 : 전체 데이터 중 해당 계급의 데이터가 차지하는 비율\n",
        "```\n",
        "rel_freq = freq / freq.sum()\n",
        "```\n",
        "누적 상대도수 : 해당 계급까지의 상대도수의 합\n",
        "```\n",
        "cum_rel_freq = np.cumsum(rel_freq)\n",
        "```"
      ]
    },
    {
      "cell_type": "code",
      "source": [
        "freq = np.histogram(english_scores, bins=20, range=(0,100))\n",
        "freq"
      ],
      "metadata": {
        "id": "UlJr63rHRGl_",
        "outputId": "27c97114-0f63-49e2-bed9-b76e3714d4e4",
        "colab": {
          "base_uri": "https://localhost:8080/"
        }
      },
      "execution_count": 106,
      "outputs": [
        {
          "output_type": "execute_result",
          "data": {
            "text/plain": [
              "(array([ 0,  0,  0,  0,  0,  0,  0,  2,  3,  5,  5, 11,  8, 10,  4,  2,  0,\n",
              "         0,  0,  0]),\n",
              " array([  0.,   5.,  10.,  15.,  20.,  25.,  30.,  35.,  40.,  45.,  50.,\n",
              "         55.,  60.,  65.,  70.,  75.,  80.,  85.,  90.,  95., 100.]))"
            ]
          },
          "metadata": {},
          "execution_count": 106
        }
      ]
    },
    {
      "cell_type": "code",
      "metadata": {
        "ExecuteTime": {
          "end_time": "2018-08-14T06:43:30.327596Z",
          "start_time": "2018-08-14T06:43:30.324484Z"
        },
        "id": "ICnmZrdOtGbb",
        "outputId": "0d0380fc-8a5c-4b5a-93eb-998f0c3a6209",
        "colab": {
          "base_uri": "https://localhost:8080/"
        }
      },
      "source": [
        "#22 freq, _ = np.histogram(data, bins, range)\n",
        "#   bins = 계급폭      예) 10 : 10 단위로\n",
        "#   range = 계급의 수  예) (0, 100) : 0부터 100까지 -> 총 10개로 나눔\n",
        "\n",
        "freq, _ = np.histogram(english_scores, bins=10, range=(0, 100))\n",
        "freq"
      ],
      "execution_count": 98,
      "outputs": [
        {
          "output_type": "execute_result",
          "data": {
            "text/plain": [
              "array([ 0,  0,  0,  2,  8, 16, 18,  6,  0,  0])"
            ]
          },
          "metadata": {},
          "execution_count": 98
        }
      ]
    },
    {
      "cell_type": "code",
      "metadata": {
        "ExecuteTime": {
          "end_time": "2018-08-14T06:43:30.335597Z",
          "start_time": "2018-08-14T06:43:30.329049Z"
        },
        "id": "Z2FF7pG_tGbb",
        "outputId": "42ba4c59-a059-49e4-9138-964966ffa226",
        "colab": {
          "base_uri": "https://localhost:8080/",
          "height": 394
        }
      },
      "source": [
        "# 0~10, 10~20, ... 이라는 문자열의 리스트를 작성\n",
        "freq_class = [f'{i}~{i+10}' for i in range(0, 100, 10)]\n",
        "# freq_class를 인덱스로 DataFrame을 작성\n",
        "freq_dist_df = pd.DataFrame({'frequency':freq},\n",
        "                            index=pd.Index(freq_class, name='class'))   # pd.DataFrame index : 행, columns : 열\n",
        "freq_dist_df"
      ],
      "execution_count": 99,
      "outputs": [
        {
          "output_type": "execute_result",
          "data": {
            "text/plain": [
              "        frequency\n",
              "class            \n",
              "0~10            0\n",
              "10~20           0\n",
              "20~30           0\n",
              "30~40           2\n",
              "40~50           8\n",
              "50~60          16\n",
              "60~70          18\n",
              "70~80           6\n",
              "80~90           0\n",
              "90~100          0"
            ],
            "text/html": [
              "\n",
              "  <div id=\"df-6fc96510-0f24-4417-a1fd-4ce7b23556c5\">\n",
              "    <div class=\"colab-df-container\">\n",
              "      <div>\n",
              "<style scoped>\n",
              "    .dataframe tbody tr th:only-of-type {\n",
              "        vertical-align: middle;\n",
              "    }\n",
              "\n",
              "    .dataframe tbody tr th {\n",
              "        vertical-align: top;\n",
              "    }\n",
              "\n",
              "    .dataframe thead th {\n",
              "        text-align: right;\n",
              "    }\n",
              "</style>\n",
              "<table border=\"1\" class=\"dataframe\">\n",
              "  <thead>\n",
              "    <tr style=\"text-align: right;\">\n",
              "      <th></th>\n",
              "      <th>frequency</th>\n",
              "    </tr>\n",
              "    <tr>\n",
              "      <th>class</th>\n",
              "      <th></th>\n",
              "    </tr>\n",
              "  </thead>\n",
              "  <tbody>\n",
              "    <tr>\n",
              "      <th>0~10</th>\n",
              "      <td>0</td>\n",
              "    </tr>\n",
              "    <tr>\n",
              "      <th>10~20</th>\n",
              "      <td>0</td>\n",
              "    </tr>\n",
              "    <tr>\n",
              "      <th>20~30</th>\n",
              "      <td>0</td>\n",
              "    </tr>\n",
              "    <tr>\n",
              "      <th>30~40</th>\n",
              "      <td>2</td>\n",
              "    </tr>\n",
              "    <tr>\n",
              "      <th>40~50</th>\n",
              "      <td>8</td>\n",
              "    </tr>\n",
              "    <tr>\n",
              "      <th>50~60</th>\n",
              "      <td>16</td>\n",
              "    </tr>\n",
              "    <tr>\n",
              "      <th>60~70</th>\n",
              "      <td>18</td>\n",
              "    </tr>\n",
              "    <tr>\n",
              "      <th>70~80</th>\n",
              "      <td>6</td>\n",
              "    </tr>\n",
              "    <tr>\n",
              "      <th>80~90</th>\n",
              "      <td>0</td>\n",
              "    </tr>\n",
              "    <tr>\n",
              "      <th>90~100</th>\n",
              "      <td>0</td>\n",
              "    </tr>\n",
              "  </tbody>\n",
              "</table>\n",
              "</div>\n",
              "      <button class=\"colab-df-convert\" onclick=\"convertToInteractive('df-6fc96510-0f24-4417-a1fd-4ce7b23556c5')\"\n",
              "              title=\"Convert this dataframe to an interactive table.\"\n",
              "              style=\"display:none;\">\n",
              "        \n",
              "  <svg xmlns=\"http://www.w3.org/2000/svg\" height=\"24px\"viewBox=\"0 0 24 24\"\n",
              "       width=\"24px\">\n",
              "    <path d=\"M0 0h24v24H0V0z\" fill=\"none\"/>\n",
              "    <path d=\"M18.56 5.44l.94 2.06.94-2.06 2.06-.94-2.06-.94-.94-2.06-.94 2.06-2.06.94zm-11 1L8.5 8.5l.94-2.06 2.06-.94-2.06-.94L8.5 2.5l-.94 2.06-2.06.94zm10 10l.94 2.06.94-2.06 2.06-.94-2.06-.94-.94-2.06-.94 2.06-2.06.94z\"/><path d=\"M17.41 7.96l-1.37-1.37c-.4-.4-.92-.59-1.43-.59-.52 0-1.04.2-1.43.59L10.3 9.45l-7.72 7.72c-.78.78-.78 2.05 0 2.83L4 21.41c.39.39.9.59 1.41.59.51 0 1.02-.2 1.41-.59l7.78-7.78 2.81-2.81c.8-.78.8-2.07 0-2.86zM5.41 20L4 18.59l7.72-7.72 1.47 1.35L5.41 20z\"/>\n",
              "  </svg>\n",
              "      </button>\n",
              "      \n",
              "  <style>\n",
              "    .colab-df-container {\n",
              "      display:flex;\n",
              "      flex-wrap:wrap;\n",
              "      gap: 12px;\n",
              "    }\n",
              "\n",
              "    .colab-df-convert {\n",
              "      background-color: #E8F0FE;\n",
              "      border: none;\n",
              "      border-radius: 50%;\n",
              "      cursor: pointer;\n",
              "      display: none;\n",
              "      fill: #1967D2;\n",
              "      height: 32px;\n",
              "      padding: 0 0 0 0;\n",
              "      width: 32px;\n",
              "    }\n",
              "\n",
              "    .colab-df-convert:hover {\n",
              "      background-color: #E2EBFA;\n",
              "      box-shadow: 0px 1px 2px rgba(60, 64, 67, 0.3), 0px 1px 3px 1px rgba(60, 64, 67, 0.15);\n",
              "      fill: #174EA6;\n",
              "    }\n",
              "\n",
              "    [theme=dark] .colab-df-convert {\n",
              "      background-color: #3B4455;\n",
              "      fill: #D2E3FC;\n",
              "    }\n",
              "\n",
              "    [theme=dark] .colab-df-convert:hover {\n",
              "      background-color: #434B5C;\n",
              "      box-shadow: 0px 1px 3px 1px rgba(0, 0, 0, 0.15);\n",
              "      filter: drop-shadow(0px 1px 2px rgba(0, 0, 0, 0.3));\n",
              "      fill: #FFFFFF;\n",
              "    }\n",
              "  </style>\n",
              "\n",
              "      <script>\n",
              "        const buttonEl =\n",
              "          document.querySelector('#df-6fc96510-0f24-4417-a1fd-4ce7b23556c5 button.colab-df-convert');\n",
              "        buttonEl.style.display =\n",
              "          google.colab.kernel.accessAllowed ? 'block' : 'none';\n",
              "\n",
              "        async function convertToInteractive(key) {\n",
              "          const element = document.querySelector('#df-6fc96510-0f24-4417-a1fd-4ce7b23556c5');\n",
              "          const dataTable =\n",
              "            await google.colab.kernel.invokeFunction('convertToInteractive',\n",
              "                                                     [key], {});\n",
              "          if (!dataTable) return;\n",
              "\n",
              "          const docLinkHtml = 'Like what you see? Visit the ' +\n",
              "            '<a target=\"_blank\" href=https://colab.research.google.com/notebooks/data_table.ipynb>data table notebook</a>'\n",
              "            + ' to learn more about interactive tables.';\n",
              "          element.innerHTML = '';\n",
              "          dataTable['output_type'] = 'display_data';\n",
              "          await google.colab.output.renderOutput(dataTable, element);\n",
              "          const docLink = document.createElement('div');\n",
              "          docLink.innerHTML = docLinkHtml;\n",
              "          element.appendChild(docLink);\n",
              "        }\n",
              "      </script>\n",
              "    </div>\n",
              "  </div>\n",
              "  "
            ]
          },
          "metadata": {},
          "execution_count": 99
        }
      ]
    },
    {
      "cell_type": "code",
      "metadata": {
        "ExecuteTime": {
          "end_time": "2018-08-14T06:43:30.339751Z",
          "start_time": "2018-08-14T06:43:30.336611Z"
        },
        "scrolled": true,
        "id": "rQOtBVoztGbb",
        "outputId": "0e66a7f1-a324-442c-ba7d-d44471d3ba44",
        "colab": {
          "base_uri": "https://localhost:8080/"
        }
      },
      "source": [
        "#23 interval = (i+(i+10))//2  계급의 중앙값 이용\n",
        "\n",
        "class_value = [(i+(i+10))//2 for i in range(0, 100, 10)] \n",
        "class_value"
      ],
      "execution_count": 100,
      "outputs": [
        {
          "output_type": "execute_result",
          "data": {
            "text/plain": [
              "[5, 15, 25, 35, 45, 55, 65, 75, 85, 95]"
            ]
          },
          "metadata": {},
          "execution_count": 100
        }
      ]
    },
    {
      "cell_type": "code",
      "metadata": {
        "ExecuteTime": {
          "end_time": "2018-08-14T06:43:30.343938Z",
          "start_time": "2018-08-14T06:43:30.340628Z"
        },
        "id": "BIA8rNmztGbc",
        "outputId": "9e684fd1-4c62-47e0-e915-324bc5511cd1",
        "colab": {
          "base_uri": "https://localhost:8080/"
        }
      },
      "source": [
        "#24 상대도수 = 도수 / 전체 도수의 합\n",
        "\n",
        "rel_freq = freq / freq.sum()\n",
        "rel_freq"
      ],
      "execution_count": 101,
      "outputs": [
        {
          "output_type": "execute_result",
          "data": {
            "text/plain": [
              "array([0.  , 0.  , 0.  , 0.04, 0.16, 0.32, 0.36, 0.12, 0.  , 0.  ])"
            ]
          },
          "metadata": {},
          "execution_count": 101
        }
      ]
    },
    {
      "cell_type": "code",
      "metadata": {
        "ExecuteTime": {
          "end_time": "2018-08-14T06:43:30.349136Z",
          "start_time": "2018-08-14T06:43:30.344853Z"
        },
        "id": "qnHzlqgFtGbc",
        "outputId": "37203c5f-6a81-4f5c-fb04-89bbe11fd3bc",
        "colab": {
          "base_uri": "https://localhost:8080/"
        }
      },
      "source": [
        "#25 누적상대도수 = 상대도수의 합\n",
        "\n",
        "cum_rel_freq = np.cumsum(rel_freq)\n",
        "cum_rel_freq"
      ],
      "execution_count": 102,
      "outputs": [
        {
          "output_type": "execute_result",
          "data": {
            "text/plain": [
              "array([0.  , 0.  , 0.  , 0.04, 0.2 , 0.52, 0.88, 1.  , 1.  , 1.  ])"
            ]
          },
          "metadata": {},
          "execution_count": 102
        }
      ]
    },
    {
      "cell_type": "code",
      "metadata": {
        "ExecuteTime": {
          "end_time": "2018-08-14T06:43:30.358509Z",
          "start_time": "2018-08-14T06:43:30.350057Z"
        },
        "id": "D8UdIS2ltGbc",
        "outputId": "36008136-6cb7-4570-8513-2436bcc5816d",
        "colab": {
          "base_uri": "https://localhost:8080/",
          "height": 394
        }
      },
      "source": [
        "freq_dist_df['class value'] = class_value                         # 계급값\n",
        "freq_dist_df['relative frequency'] = rel_freq                     # 상대도수\n",
        "freq_dist_df['cumulative relative frequency'] = cum_rel_freq      # 누적 상대도수\n",
        "freq_dist_df = freq_dist_df[['class value', 'frequency',\n",
        "                             'relative frequency', 'cumulative relative frequency']] # column 명 정하기\n",
        "\n",
        "freq_dist_df"
      ],
      "execution_count": 108,
      "outputs": [
        {
          "output_type": "execute_result",
          "data": {
            "text/plain": [
              "        class value  frequency  relative frequency  \\\n",
              "class                                                \n",
              "0~10              5          0                0.00   \n",
              "10~20            15          0                0.00   \n",
              "20~30            25          0                0.00   \n",
              "30~40            35          2                0.04   \n",
              "40~50            45          8                0.16   \n",
              "50~60            55         16                0.32   \n",
              "60~70            65         18                0.36   \n",
              "70~80            75          6                0.12   \n",
              "80~90            85          0                0.00   \n",
              "90~100           95          0                0.00   \n",
              "\n",
              "        cumulative relative frequency  \n",
              "class                                  \n",
              "0~10                             0.00  \n",
              "10~20                            0.00  \n",
              "20~30                            0.00  \n",
              "30~40                            0.04  \n",
              "40~50                            0.20  \n",
              "50~60                            0.52  \n",
              "60~70                            0.88  \n",
              "70~80                            1.00  \n",
              "80~90                            1.00  \n",
              "90~100                           1.00  "
            ],
            "text/html": [
              "\n",
              "  <div id=\"df-8e63e11c-9ddc-4a89-8fb6-0c0ef882d7f4\">\n",
              "    <div class=\"colab-df-container\">\n",
              "      <div>\n",
              "<style scoped>\n",
              "    .dataframe tbody tr th:only-of-type {\n",
              "        vertical-align: middle;\n",
              "    }\n",
              "\n",
              "    .dataframe tbody tr th {\n",
              "        vertical-align: top;\n",
              "    }\n",
              "\n",
              "    .dataframe thead th {\n",
              "        text-align: right;\n",
              "    }\n",
              "</style>\n",
              "<table border=\"1\" class=\"dataframe\">\n",
              "  <thead>\n",
              "    <tr style=\"text-align: right;\">\n",
              "      <th></th>\n",
              "      <th>class value</th>\n",
              "      <th>frequency</th>\n",
              "      <th>relative frequency</th>\n",
              "      <th>cumulative relative frequency</th>\n",
              "    </tr>\n",
              "    <tr>\n",
              "      <th>class</th>\n",
              "      <th></th>\n",
              "      <th></th>\n",
              "      <th></th>\n",
              "      <th></th>\n",
              "    </tr>\n",
              "  </thead>\n",
              "  <tbody>\n",
              "    <tr>\n",
              "      <th>0~10</th>\n",
              "      <td>5</td>\n",
              "      <td>0</td>\n",
              "      <td>0.00</td>\n",
              "      <td>0.00</td>\n",
              "    </tr>\n",
              "    <tr>\n",
              "      <th>10~20</th>\n",
              "      <td>15</td>\n",
              "      <td>0</td>\n",
              "      <td>0.00</td>\n",
              "      <td>0.00</td>\n",
              "    </tr>\n",
              "    <tr>\n",
              "      <th>20~30</th>\n",
              "      <td>25</td>\n",
              "      <td>0</td>\n",
              "      <td>0.00</td>\n",
              "      <td>0.00</td>\n",
              "    </tr>\n",
              "    <tr>\n",
              "      <th>30~40</th>\n",
              "      <td>35</td>\n",
              "      <td>2</td>\n",
              "      <td>0.04</td>\n",
              "      <td>0.04</td>\n",
              "    </tr>\n",
              "    <tr>\n",
              "      <th>40~50</th>\n",
              "      <td>45</td>\n",
              "      <td>8</td>\n",
              "      <td>0.16</td>\n",
              "      <td>0.20</td>\n",
              "    </tr>\n",
              "    <tr>\n",
              "      <th>50~60</th>\n",
              "      <td>55</td>\n",
              "      <td>16</td>\n",
              "      <td>0.32</td>\n",
              "      <td>0.52</td>\n",
              "    </tr>\n",
              "    <tr>\n",
              "      <th>60~70</th>\n",
              "      <td>65</td>\n",
              "      <td>18</td>\n",
              "      <td>0.36</td>\n",
              "      <td>0.88</td>\n",
              "    </tr>\n",
              "    <tr>\n",
              "      <th>70~80</th>\n",
              "      <td>75</td>\n",
              "      <td>6</td>\n",
              "      <td>0.12</td>\n",
              "      <td>1.00</td>\n",
              "    </tr>\n",
              "    <tr>\n",
              "      <th>80~90</th>\n",
              "      <td>85</td>\n",
              "      <td>0</td>\n",
              "      <td>0.00</td>\n",
              "      <td>1.00</td>\n",
              "    </tr>\n",
              "    <tr>\n",
              "      <th>90~100</th>\n",
              "      <td>95</td>\n",
              "      <td>0</td>\n",
              "      <td>0.00</td>\n",
              "      <td>1.00</td>\n",
              "    </tr>\n",
              "  </tbody>\n",
              "</table>\n",
              "</div>\n",
              "      <button class=\"colab-df-convert\" onclick=\"convertToInteractive('df-8e63e11c-9ddc-4a89-8fb6-0c0ef882d7f4')\"\n",
              "              title=\"Convert this dataframe to an interactive table.\"\n",
              "              style=\"display:none;\">\n",
              "        \n",
              "  <svg xmlns=\"http://www.w3.org/2000/svg\" height=\"24px\"viewBox=\"0 0 24 24\"\n",
              "       width=\"24px\">\n",
              "    <path d=\"M0 0h24v24H0V0z\" fill=\"none\"/>\n",
              "    <path d=\"M18.56 5.44l.94 2.06.94-2.06 2.06-.94-2.06-.94-.94-2.06-.94 2.06-2.06.94zm-11 1L8.5 8.5l.94-2.06 2.06-.94-2.06-.94L8.5 2.5l-.94 2.06-2.06.94zm10 10l.94 2.06.94-2.06 2.06-.94-2.06-.94-.94-2.06-.94 2.06-2.06.94z\"/><path d=\"M17.41 7.96l-1.37-1.37c-.4-.4-.92-.59-1.43-.59-.52 0-1.04.2-1.43.59L10.3 9.45l-7.72 7.72c-.78.78-.78 2.05 0 2.83L4 21.41c.39.39.9.59 1.41.59.51 0 1.02-.2 1.41-.59l7.78-7.78 2.81-2.81c.8-.78.8-2.07 0-2.86zM5.41 20L4 18.59l7.72-7.72 1.47 1.35L5.41 20z\"/>\n",
              "  </svg>\n",
              "      </button>\n",
              "      \n",
              "  <style>\n",
              "    .colab-df-container {\n",
              "      display:flex;\n",
              "      flex-wrap:wrap;\n",
              "      gap: 12px;\n",
              "    }\n",
              "\n",
              "    .colab-df-convert {\n",
              "      background-color: #E8F0FE;\n",
              "      border: none;\n",
              "      border-radius: 50%;\n",
              "      cursor: pointer;\n",
              "      display: none;\n",
              "      fill: #1967D2;\n",
              "      height: 32px;\n",
              "      padding: 0 0 0 0;\n",
              "      width: 32px;\n",
              "    }\n",
              "\n",
              "    .colab-df-convert:hover {\n",
              "      background-color: #E2EBFA;\n",
              "      box-shadow: 0px 1px 2px rgba(60, 64, 67, 0.3), 0px 1px 3px 1px rgba(60, 64, 67, 0.15);\n",
              "      fill: #174EA6;\n",
              "    }\n",
              "\n",
              "    [theme=dark] .colab-df-convert {\n",
              "      background-color: #3B4455;\n",
              "      fill: #D2E3FC;\n",
              "    }\n",
              "\n",
              "    [theme=dark] .colab-df-convert:hover {\n",
              "      background-color: #434B5C;\n",
              "      box-shadow: 0px 1px 3px 1px rgba(0, 0, 0, 0.15);\n",
              "      filter: drop-shadow(0px 1px 2px rgba(0, 0, 0, 0.3));\n",
              "      fill: #FFFFFF;\n",
              "    }\n",
              "  </style>\n",
              "\n",
              "      <script>\n",
              "        const buttonEl =\n",
              "          document.querySelector('#df-8e63e11c-9ddc-4a89-8fb6-0c0ef882d7f4 button.colab-df-convert');\n",
              "        buttonEl.style.display =\n",
              "          google.colab.kernel.accessAllowed ? 'block' : 'none';\n",
              "\n",
              "        async function convertToInteractive(key) {\n",
              "          const element = document.querySelector('#df-8e63e11c-9ddc-4a89-8fb6-0c0ef882d7f4');\n",
              "          const dataTable =\n",
              "            await google.colab.kernel.invokeFunction('convertToInteractive',\n",
              "                                                     [key], {});\n",
              "          if (!dataTable) return;\n",
              "\n",
              "          const docLinkHtml = 'Like what you see? Visit the ' +\n",
              "            '<a target=\"_blank\" href=https://colab.research.google.com/notebooks/data_table.ipynb>data table notebook</a>'\n",
              "            + ' to learn more about interactive tables.';\n",
              "          element.innerHTML = '';\n",
              "          dataTable['output_type'] = 'display_data';\n",
              "          await google.colab.output.renderOutput(dataTable, element);\n",
              "          const docLink = document.createElement('div');\n",
              "          docLink.innerHTML = docLinkHtml;\n",
              "          element.appendChild(docLink);\n",
              "        }\n",
              "      </script>\n",
              "    </div>\n",
              "  </div>\n",
              "  "
            ]
          },
          "metadata": {},
          "execution_count": 108
        }
      ]
    },
    {
      "cell_type": "markdown",
      "metadata": {
        "id": "mi-FqrXttGbc"
      },
      "source": [
        "#### 최빈값 재검토\n",
        "최대가 되는 계급의 계급값(가장 분포가 많이 되어 있는 계급)\n",
        "```\n",
        "dataframe.loc[dataframe['frequency'].idxmax()]\n",
        "```"
      ]
    },
    {
      "cell_type": "code",
      "source": [
        "freq_dist_df.loc[freq_dist_df['frequency'].idxmax()]"
      ],
      "metadata": {
        "id": "1LSdDxLeWMvE",
        "outputId": "2e5f8a53-bcc3-4e0d-9755-6d42ec33e6db",
        "colab": {
          "base_uri": "https://localhost:8080/"
        }
      },
      "execution_count": 129,
      "outputs": [
        {
          "output_type": "execute_result",
          "data": {
            "text/plain": [
              "class value                      65.00\n",
              "frequency                        18.00\n",
              "relative frequency                0.36\n",
              "cumulative relative frequency     0.88\n",
              "Name: 60~70, dtype: float64"
            ]
          },
          "metadata": {},
          "execution_count": 129
        }
      ]
    },
    {
      "cell_type": "code",
      "metadata": {
        "ExecuteTime": {
          "end_time": "2018-08-14T06:43:30.362749Z",
          "start_time": "2018-08-14T06:43:30.359494Z"
        },
        "id": "_CnKHFPOtGbc",
        "outputId": "59f01cad-1737-48b0-e4f8-02c221886992",
        "colab": {
          "base_uri": "https://localhost:8080/"
        }
      },
      "source": [
        "#26 최빈값 = data['column'].idxmax()\n",
        "#   최빈값 = 최대가 되는 계급의 계급값(가장 분포가 많이 되어 있는 계급의 계급값)\n",
        "\n",
        "freq_dist_df.loc[freq_dist_df['frequency'].idxmax(), 'class value']\n",
        "                # idxmax : 최대값을 가지는 인덱스 레이블 출력"
      ],
      "execution_count": 130,
      "outputs": [
        {
          "output_type": "execute_result",
          "data": {
            "text/plain": [
              "65"
            ]
          },
          "metadata": {},
          "execution_count": 130
        }
      ]
    },
    {
      "cell_type": "markdown",
      "metadata": {
        "id": "S7onj3VDtGbc"
      },
      "source": [
        "### 히스토그램"
      ]
    },
    {
      "cell_type": "code",
      "metadata": {
        "ExecuteTime": {
          "end_time": "2018-08-14T06:43:30.433997Z",
          "start_time": "2018-08-14T06:43:30.363672Z"
        },
        "id": "ootrZVrutGbd"
      },
      "source": [
        "# Matplotlib의 pyplot 모듈을 plt라는 이름으로 임포트\n",
        "import matplotlib.pyplot as plt\n",
        "\n",
        "# 그래프가 notebook 위에 표시\n",
        "%matplotlib inline"
      ],
      "execution_count": 131,
      "outputs": []
    },
    {
      "cell_type": "code",
      "metadata": {
        "ExecuteTime": {
          "end_time": "2018-08-14T06:43:30.545265Z",
          "start_time": "2018-08-14T06:43:30.435106Z"
        },
        "id": "F6BsRF2TtGbd",
        "outputId": "91e8da14-3eaa-4c25-e43b-6e3f37f141f2",
        "colab": {
          "base_uri": "https://localhost:8080/",
          "height": 388
        }
      },
      "source": [
        "#27 히스토그램 그리기\n",
        "\n",
        "# 캔버스를 생성\n",
        "# figsize로 가로・세로 크기를 지정\n",
        "fig = plt.figure(figsize=(10, 6))\n",
        "# 켄버스 위에 그래프를 그리기 위한 영역을 지정\n",
        "# 인수는 영역을 1×1개 지정、하나의 영역에 그린다는 것을 의미\n",
        "ax = fig.add_subplot(111)\n",
        "\n",
        "# 계급수를 10으로 하여 히스토그램을 그림\n",
        "freq, _, _ = ax.hist(english_scores, bins=10, range=(0, 100))\n",
        "# X축에 레이블 부여\n",
        "ax.set_xlabel('score')\n",
        "# Y축에 레이블 부여\n",
        "ax.set_ylabel('person number')\n",
        "# X축을 0, 10, 20, ..., 100 눈금으로 구분\n",
        "ax.set_xticks(np.linspace(0, 100, 10+1))\n",
        "# Y축을 0, 1, 2, ...의 눈금으로 구분\n",
        "ax.set_yticks(np.arange(0, freq.max()+1))\n",
        "# 그래프 표시\n",
        "plt.show()"
      ],
      "execution_count": 132,
      "outputs": [
        {
          "output_type": "display_data",
          "data": {
            "text/plain": [
              "<Figure size 720x432 with 1 Axes>"
            ],
            "image/png": "[encoded data removed]"
          },
          "metadata": {
            "needs_background": "light"
          }
        }
      ]
    },
    {
      "cell_type": "code",
      "metadata": {
        "ExecuteTime": {
          "end_time": "2018-08-14T06:43:30.697705Z",
          "start_time": "2018-08-14T06:43:30.546461Z"
        },
        "id": "xQgRJGn3tGbd",
        "outputId": "e6a00bb7-cd0e-48c0-e3b8-2394e761f5c6",
        "colab": {
          "base_uri": "https://localhost:8080/",
          "height": 388
        }
      },
      "source": [
        "fig = plt.figure(figsize=(10, 6))\n",
        "ax = fig.add_subplot(111)\n",
        "\n",
        "freq, _ , _ = ax.hist(english_scores, bins=25, range=(0, 100))\n",
        "ax.set_xlabel('score')\n",
        "ax.set_ylabel('person number')\n",
        "ax.set_xticks(np.linspace(0, 100, 25+1))\n",
        "ax.set_yticks(np.arange(0, freq.max()+1))\n",
        "plt.show()"
      ],
      "execution_count": 133,
      "outputs": [
        {
          "output_type": "display_data",
          "data": {
            "text/plain": [
              "<Figure size 720x432 with 1 Axes>"
            ],
            "image/png": "[encoded data removed]"
          },
          "metadata": {
            "needs_background": "light"
          }
        }
      ]
    },
    {
      "cell_type": "code",
      "metadata": {
        "ExecuteTime": {
          "end_time": "2018-08-14T06:44:31.768785Z",
          "start_time": "2018-08-14T06:44:31.512798Z"
        },
        "id": "lxZqryUptGbd",
        "outputId": "7cd77fbd-909f-415f-9650-edc6e8e6ddb5",
        "colab": {
          "base_uri": "https://localhost:8080/",
          "height": 388
        }
      },
      "source": [
        "fig = plt.figure(figsize=(10, 6))\n",
        "ax1 = fig.add_subplot(111)\n",
        "# Y축의 스케일이 다른 그래프를 ax1과 동일한 영역에 생성\n",
        "ax2 = ax1.twinx()\n",
        "\n",
        "# 상대도수의 히스토그램으로 하기 위해서는, 도수를 데이터의 수로 나눌 필요가 있음\n",
        "# 이것은 hist의 인수 weight를 지정하면 실현 가능\n",
        "weights = np.ones_like(english_scores) / len(english_scores)\n",
        "rel_freq, _, _ = ax1.hist(english_scores, bins=25,\n",
        "                          range=(0, 100), weights=weights)\n",
        "\n",
        "cum_rel_freq = np.cumsum(rel_freq)\n",
        "class_value = [(i+(i+4))//2 for i in range(0, 100, 4)]\n",
        "# 꺾은선 그래프를 그림\n",
        "# 인수 ls를 '--'로 하면 점선이 그려짐\n",
        "# 인수 marker를 'o'으로 하면 데이터 점을 그람\n",
        "# 인수 color를 'gray'로 하면 회색으로 지정\n",
        "ax2.plot(class_value, cum_rel_freq,\n",
        "         ls='--', marker='o', color='gray')\n",
        "# 꺾은선 그래프의 눈금선을 제거\n",
        "ax2.grid(visible=False)\n",
        "\n",
        "ax1.set_xlabel('score')\n",
        "ax1.set_ylabel('relative frequency')\n",
        "ax2.set_ylabel('cumulative relative frequency')\n",
        "ax1.set_xticks(np.linspace(0, 100, 25+1))\n",
        "\n",
        "plt.show()"
      ],
      "execution_count": 134,
      "outputs": [
        {
          "output_type": "display_data",
          "data": {
            "text/plain": [
              "<Figure size 720x432 with 2 Axes>"
            ],
            "image/png": "[encoded data removed]"
          },
          "metadata": {
            "needs_background": "light"
          }
        }
      ]
    },
    {
      "cell_type": "markdown",
      "metadata": {
        "id": "mqLBlmQBtGbe"
      },
      "source": [
        "### 상자 그림"
      ]
    },
    {
      "cell_type": "markdown",
      "source": [
        "![image.png](data:image/png;base64,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)"
      ],
      "metadata": {
        "id": "0uNGjmoOjO8G"
      }
    },
    {
      "cell_type": "code",
      "metadata": {
        "ExecuteTime": {
          "end_time": "2018-08-14T06:43:30.920657Z",
          "start_time": "2018-08-14T06:43:30.869261Z"
        },
        "scrolled": false,
        "id": "LRuP4GGutGbe",
        "outputId": "28a01935-428d-42e2-d1a9-429555e29450",
        "colab": {
          "base_uri": "https://localhost:8080/",
          "height": 374
        }
      },
      "source": [
        "fig = plt.figure(figsize=(5, 6))\n",
        "ax = fig.add_subplot(111)\n",
        "ax.boxplot(english_scores, labels=['english'])\n",
        "\n",
        "plt.show()"
      ],
      "execution_count": null,
      "outputs": [
        {
          "output_type": "display_data",
          "data": {
            "text/plain": [
              "<Figure size 360x432 with 1 Axes>"
            ],
            "image/png": "[encoded data removed]"
          },
          "metadata": {
            "needs_background": "light"
          }
        }
      ]
    }
  ]
}