{
  "nbformat": 4,
  "nbformat_minor": 0,
  "metadata": {
    "colab": {
      "name": "nvCrawler.ipynb",
      "provenance": [],
      "authorship_tag": "ABX9TyMJbalqqgaXjjqzACE/NDiF",
      "include_colab_link": true
    },
    "kernelspec": {
      "name": "python3",
      "display_name": "Python 3"
    },
    "language_info": {
      "name": "python"
    }
  },
  "cells": [
    {
      "cell_type": "markdown",
      "metadata": {
        "id": "view-in-github",
        "colab_type": "text"
      },
      "source": [
        "<a href=\"https://colab.research.google.com/github/i-hyejin/BigdataAndNLP/blob/main/nvCrawler.ipynb\" target=\"_parent\"><img src=\"https://colab.research.google.com/assets/colab-badge.svg\" alt=\"Open In Colab\"/></a>"
      ]
    },
    {
      "cell_type": "markdown",
      "source": [
        "# nvCrawler.ipynb"
      ],
      "metadata": {
        "id": "DuoyI4_1gPjh"
      }
    },
    {
      "cell_type": "code",
      "execution_count": 46,
      "metadata": {
        "id": "VtfEgJ4Xds-7"
      },
      "outputs": [],
      "source": [
        "import os\n",
        "import sys\n",
        "import urllib.request\n",
        "import datetime\n",
        "import time\n",
        "import json"
      ]
    },
    {
      "cell_type": "code",
      "source": [
        "# Naver API\n",
        "client_id = 'fLu_i1SpudRAooPPed3a'\n",
        "client_secret = '0fe2iluzc1'"
      ],
      "metadata": {
        "id": "KBGOerx7gSuk"
      },
      "execution_count": 47,
      "outputs": []
    },
    {
      "cell_type": "markdown",
      "source": [
        "## def function"
      ],
      "metadata": {
        "id": "cP2aTkqhgexm"
      }
    },
    {
      "cell_type": "code",
      "source": [
        "def getRequestUrl(url):    \n",
        "    req = urllib.request.Request(url)\n",
        "    req.add_header(\"X-Naver-Client-Id\", client_id)\n",
        "    req.add_header(\"X-Naver-Client-Secret\", client_secret)\n",
        "    \n",
        "    try: \n",
        "        response = urllib.request.urlopen(req)\n",
        "        if response.getcode() == 200:\n",
        "            print (\"[%s] Url Request Success\" % datetime.datetime.now())\n",
        "            return response.read().decode('utf-8')\n",
        "    except Exception as e:\n",
        "        print(e)\n",
        "        print(\"[%s] Error for URL : %s\" % (datetime.datetime.now(), url))\n",
        "        return None"
      ],
      "metadata": {
        "id": "CoCKJdntgbDu"
      },
      "execution_count": 48,
      "outputs": []
    },
    {
      "cell_type": "code",
      "source": [
        "def getNaverSearch(node, srcText, start, display):    \n",
        "    base = \"https://openapi.naver.com/v1/search\"\n",
        "    node = \"/%s.json\" % node\n",
        "    parameters = \"?query=%s&start=%s&display=%s\" % (urllib.parse.quote(srcText), start, display)\n",
        "    \n",
        "    url = base + node + parameters    \n",
        "    responseDecode = getRequestUrl(url)   #[CODE 1]\n",
        "    \n",
        "    if (responseDecode == None):\n",
        "        return None\n",
        "    else:\n",
        "        return json.loads(responseDecode)"
      ],
      "metadata": {
        "id": "lFccVUt_gmaY"
      },
      "execution_count": 49,
      "outputs": []
    },
    {
      "cell_type": "code",
      "source": [
        "def getPostData(post, jsonResult, cnt):    \n",
        "    title = post['title']\n",
        "    description = post['description']\n",
        "    org_link = post['originallink']\n",
        "    link = post['link']\n",
        "    \n",
        "    pDate = datetime.datetime.strptime(post['pubDate'],  '%a, %d %b %Y %H:%M:%S +0900')\n",
        "    pDate = pDate.strftime('%Y-%m-%d %H:%M:%S')\n",
        "    \n",
        "    jsonResult.append({'cnt':cnt, 'title':title, 'description': description, \n",
        "'org_link':org_link,   'link': org_link,   'pDate':pDate})\n",
        "    return  "
      ],
      "metadata": {
        "id": "f15cg523gxLu"
      },
      "execution_count": 50,
      "outputs": []
    },
    {
      "cell_type": "code",
      "source": [
        "def main():\n",
        "    node = 'news'   # 크롤링 할 대상\n",
        "    srcText = input('검색어를 입력하세요: ')\n",
        "    cnt = 0\n",
        "    jsonResult = []\n",
        "\n",
        "    jsonResponse = getNaverSearch(node, srcText, 1, 100)  #[CODE 2]\n",
        "    total = jsonResponse['total']\n",
        " \n",
        "    while ((jsonResponse != None) and (jsonResponse['display'] != 0)):         \n",
        "        for post in jsonResponse['items']:\n",
        "            cnt += 1\n",
        "            getPostData(post, jsonResult, cnt)  #[CODE 3]       \n",
        "        \n",
        "        start = jsonResponse['start'] + jsonResponse['display']\n",
        "        jsonResponse = getNaverSearch(node, srcText, start, 100)  #[CODE 2]\n",
        "       \n",
        "    print('전체 검색 : %d 건' %total)\n",
        "    \n",
        "    with open('%s_naver_%s.json' % (srcText, node), 'w', encoding='utf8') as outfile:\n",
        "        jsonFile = json.dumps(jsonResult,  indent=4, sort_keys=True,  ensure_ascii=False)\n",
        "                        \n",
        "        outfile.write(jsonFile)\n",
        "        \n",
        "    print(\"가져온 데이터 : %d 건\" %(cnt))\n",
        "    print ('%s_naver_%s.json SAVED' % (srcText, node))"
      ],
      "metadata": {
        "id": "bS6sS7ChhqpK"
      },
      "execution_count": 51,
      "outputs": []
    },
    {
      "cell_type": "code",
      "source": [
        "if __name__ == '__main__':\n",
        "    main()"
      ],
      "metadata": {
        "colab": {
          "base_uri": "https://localhost:8080/"
        },
        "id": "r-Xcwi7yhvPv",
        "outputId": "623c56f0-3151-4f22-b93d-9332742029c8"
      },
      "execution_count": 52,
      "outputs": [
        {
          "output_type": "stream",
          "name": "stdout",
          "text": [
            "검색어를 입력하세요: 월드컵\n",
            "[2022-03-31 01:39:34.766157] Url Request Success\n",
            "[2022-03-31 01:39:35.827730] Url Request Success\n",
            "[2022-03-31 01:39:36.884532] Url Request Success\n",
            "[2022-03-31 01:39:37.965319] Url Request Success\n",
            "[2022-03-31 01:39:39.091992] Url Request Success\n",
            "[2022-03-31 01:39:40.165719] Url Request Success\n",
            "[2022-03-31 01:39:41.214928] Url Request Success\n",
            "[2022-03-31 01:39:42.329926] Url Request Success\n",
            "[2022-03-31 01:39:43.521356] Url Request Success\n",
            "[2022-03-31 01:39:44.722328] Url Request Success\n",
            "HTTP Error 400: Bad Request\n",
            "[2022-03-31 01:39:45.555793] Error for URL : https://openapi.naver.com/v1/search/news.json?query=%EC%9B%94%EB%93%9C%EC%BB%B5&start=1001&display=100\n",
            "전체 검색 : 2404159 건\n",
            "가져온 데이터 : 1000 건\n",
            "월드컵_naver_news.json SAVED\n"
          ]
        }
      ]
    }
  ]
}