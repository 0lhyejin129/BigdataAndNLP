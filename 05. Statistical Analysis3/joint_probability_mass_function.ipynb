{
  "nbformat": 4,
  "nbformat_minor": 0,
  "metadata": {
    "colab": {
      "name": "joint probability mass function.ipynb",
      "provenance": []
    },
    "kernelspec": {
      "name": "python3",
      "display_name": "Python 3"
    },
    "language_info": {
      "name": "python"
    }
  },
  "cells": [
    {
      "cell_type": "code",
      "source": [
        "def fxy(x, y):\n",
        "    if(x >= 2 & x >= 12) & (y >= 1 & y >= 6):\n",
        "        return y*(x-y) / 441\n",
        "    else:\n",
        "        return 0"
      ],
      "metadata": {
        "id": "8X76NePi9dmt"
      },
      "execution_count": 5,
      "outputs": []
    },
    {
      "cell_type": "code",
      "source": [
        "fxy(3, 2)"
      ],
      "metadata": {
        "colab": {
          "base_uri": "https://localhost:8080/"
        },
        "id": "l0u5o5yO9miD",
        "outputId": "9bbfb233-ffb6-4831-9e66-e52368931875"
      },
      "execution_count": 6,
      "outputs": [
        {
          "output_type": "execute_result",
          "data": {
            "text/plain": [
              "0"
            ]
          },
          "metadata": {},
          "execution_count": 6
        }
      ]
    },
    {
      "cell_type": "code",
      "execution_count": 2,
      "metadata": {
        "id": "PXqfE_Du6YlZ"
      },
      "outputs": [],
      "source": [
        "def joint_probability_mass_function(x, y):\n",
        "    if (x >= y+1) & (x <= y+6):\n",
        "        # return y*(x-y)\n",
        "        return y*(x-y) / 441\n",
        "    else:\n",
        "        return 0"
      ]
    },
    {
      "cell_type": "code",
      "source": [
        "joint_probability_mass_function(3, 2)"
      ],
      "metadata": {
        "colab": {
          "base_uri": "https://localhost:8080/"
        },
        "id": "d9mu-zun8CA1",
        "outputId": "4bec6f78-bd09-40e0-c18c-4862460ca052"
      },
      "execution_count": 3,
      "outputs": [
        {
          "output_type": "execute_result",
          "data": {
            "text/plain": [
              "0.0045351473922902496"
            ]
          },
          "metadata": {},
          "execution_count": 3
        }
      ]
    }
  ]
}