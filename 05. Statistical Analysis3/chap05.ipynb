{
  "cells": [
    {
      "cell_type": "markdown",
      "metadata": {
        "id": "N0EvrZvAHK00"
      },
      "source": [
        "# 이산형 확률분포"
      ]
    },
    {
      "cell_type": "markdown",
      "metadata": {
        "id": "0xeq3uXRHK05"
      },
      "source": [
        "## 5.1 1차원 이산형 확률분포"
      ]
    },
    {
      "cell_type": "code",
      "execution_count": 5,
      "metadata": {
        "ExecuteTime": {
          "end_time": "2018-08-07T04:43:23.771523Z",
          "start_time": "2018-08-07T04:43:23.575758Z"
        },
        "id": "W1hKn6ZkHK06"
      },
      "outputs": [],
      "source": [
        "import numpy as np\n",
        "import matplotlib.pyplot as plt\n",
        "\n",
        "%precision 3\n",
        "%matplotlib inline"
      ]
    },
    {
      "cell_type": "markdown",
      "metadata": {
        "id": "LNzCafBHHK08"
      },
      "source": [
        "### 1) 1차원 이산확률분포의 정의\n",
        "- 확률변수 X가 취할 수 있는 값의 집합 {x1, x2, ...}\n",
        "- X가 xk라는 값을 취할 확률 : P(X=xk) = pk (k=1, 2, 3, ...)\n",
        "- 확률질량함수(확률함수) : f(x) = P(X=x)"
      ]
    },
    {
      "cell_type": "markdown",
      "source": [
        "예) 불공정한 주사위의 확률분포"
      ],
      "metadata": {
        "id": "81JIYogZHfyU"
      }
    },
    {
      "cell_type": "code",
      "execution_count": 6,
      "metadata": {
        "ExecuteTime": {
          "end_time": "2018-08-07T04:43:23.775156Z",
          "start_time": "2018-08-07T04:43:23.772847Z"
        },
        "id": "VZ8G9AxfHK08"
      },
      "outputs": [],
      "source": [
        "# 확률변수가 취할 수 있는 값의 집합 x_set\n",
        "\n",
        "x_set = np.array([1, 2, 3, 4, 5, 6])"
      ]
    },
    {
      "cell_type": "code",
      "execution_count": 7,
      "metadata": {
        "ExecuteTime": {
          "end_time": "2018-08-07T04:43:23.779344Z",
          "start_time": "2018-08-07T04:43:23.776685Z"
        },
        "id": "XAe14wMxHK09"
      },
      "outputs": [],
      "source": [
        "# 불공정한 주사위의 확률변수 정의 f(x)\n",
        "\n",
        "def f(x):\n",
        "    if x in x_set:\n",
        "        return x / 21\n",
        "    else:\n",
        "        return 0"
      ]
    },
    {
      "cell_type": "code",
      "execution_count": 8,
      "metadata": {
        "ExecuteTime": {
          "end_time": "2018-08-07T04:43:23.783380Z",
          "start_time": "2018-08-07T04:43:23.780556Z"
        },
        "id": "iGmawtlIHK09"
      },
      "outputs": [],
      "source": [
        "# 확률변수 X = [x_set, f]\n",
        "\n",
        "X = [x_set, f]"
      ]
    },
    {
      "cell_type": "code",
      "execution_count": 9,
      "metadata": {
        "ExecuteTime": {
          "end_time": "2018-08-07T04:43:23.795835Z",
          "start_time": "2018-08-07T04:43:23.784515Z"
        },
        "colab": {
          "base_uri": "https://localhost:8080/"
        },
        "id": "3T9h44y-HK0-",
        "outputId": "03a643cd-d032-4d66-c3d0-1183f03da835"
      },
      "outputs": [
        {
          "output_type": "execute_result",
          "data": {
            "text/plain": [
              "{1: 0.048, 2: 0.095, 3: 0.143, 4: 0.190, 5: 0.238, 6: 0.286}"
            ]
          },
          "metadata": {},
          "execution_count": 9
        }
      ],
      "source": [
        "# 확률 p_k를 구한다\n",
        "prob = np.array([f(x_k) for x_k in x_set])\n",
        "\n",
        "# x_k와 p_k의 대응을 사전식으로 표시\n",
        "dict(zip(x_set, prob))"
      ]
    },
    {
      "cell_type": "code",
      "execution_count": 10,
      "metadata": {
        "ExecuteTime": {
          "end_time": "2018-08-07T04:43:23.911086Z",
          "start_time": "2018-08-07T04:43:23.796855Z"
        },
        "colab": {
          "base_uri": "https://localhost:8080/",
          "height": 392
        },
        "id": "wKziyVj9HK0_",
        "outputId": "33aa0cc3-fe60-4b2d-fd55-b6b528f667b8"
      },
      "outputs": [
        {
          "output_type": "display_data",
          "data": {
            "text/plain": [
              "<Figure size 720x432 with 1 Axes>"
            ],
            "image/png": "[encoded data removed]"
          },
          "metadata": {
            "needs_background": "light"
          }
        }
      ],
      "source": [
        "fig = plt.figure(figsize=(10, 6))\n",
        "ax = fig.add_subplot(111)\n",
        "ax.bar(x_set, prob)\n",
        "ax.set_xlabel('value')\n",
        "ax.set_ylabel('probability')\n",
        "\n",
        "plt.show()"
      ]
    },
    {
      "cell_type": "markdown",
      "source": [
        "확률의 성질<br>\n",
        "- f(xk) >= 0 : 확률은 항상 0보다 크다\n",
        "- ∑f(xk) = 1 : 확률의 합은 항상 1이다"
      ],
      "metadata": {
        "id": "Y1L_gfkOH3uE"
      }
    },
    {
      "cell_type": "code",
      "execution_count": 11,
      "metadata": {
        "ExecuteTime": {
          "end_time": "2018-08-07T04:43:23.915961Z",
          "start_time": "2018-08-07T04:43:23.912531Z"
        },
        "colab": {
          "base_uri": "https://localhost:8080/"
        },
        "id": "XLl6inV6HK1A",
        "outputId": "6760a701-3715-4649-ecde-3cc8ea720e13"
      },
      "outputs": [
        {
          "output_type": "execute_result",
          "data": {
            "text/plain": [
              "True"
            ]
          },
          "metadata": {},
          "execution_count": 11
        }
      ],
      "source": [
        "# 확률은 항상 0보다 크다\n",
        "\n",
        "np.all(prob >= 0)"
      ]
    },
    {
      "cell_type": "code",
      "execution_count": 12,
      "metadata": {
        "ExecuteTime": {
          "end_time": "2018-08-07T04:43:23.920725Z",
          "start_time": "2018-08-07T04:43:23.917448Z"
        },
        "colab": {
          "base_uri": "https://localhost:8080/"
        },
        "id": "-HoxfCypHK1B",
        "outputId": "0dcdcd41-abd5-4105-f9b9-752e184d7a68"
      },
      "outputs": [
        {
          "output_type": "execute_result",
          "data": {
            "text/plain": [
              "1.000"
            ]
          },
          "metadata": {},
          "execution_count": 12
        }
      ],
      "source": [
        "# 확률의 합은 항상 1이다\n",
        "\n",
        "np.sum(prob)"
      ]
    },
    {
      "cell_type": "markdown",
      "source": [
        "누적분포함수(분포함수) F(x) : X가 x 이하가 될 때까지의 확률을 반환하는 함수<br>\n",
        "F(x) = P(X <= x) = ∑f(xk)"
      ],
      "metadata": {
        "id": "PfvkUTD-IG3C"
      }
    },
    {
      "cell_type": "code",
      "execution_count": 13,
      "metadata": {
        "ExecuteTime": {
          "end_time": "2018-08-07T04:43:23.924982Z",
          "start_time": "2018-08-07T04:43:23.922208Z"
        },
        "id": "1epuEGE_HK1B"
      },
      "outputs": [],
      "source": [
        "# 누적분포함수 정의 F(x)\n",
        "\n",
        "def F(x):\n",
        "    return np.sum([f(x_k) for x_k in x_set if x_k <= x])\n",
        "                          # x_set에서 x_k를 x_k가 x보다 작을 때"
      ]
    },
    {
      "cell_type": "code",
      "execution_count": 14,
      "metadata": {
        "ExecuteTime": {
          "end_time": "2018-08-07T04:43:23.935804Z",
          "start_time": "2018-08-07T04:43:23.926354Z"
        },
        "colab": {
          "base_uri": "https://localhost:8080/"
        },
        "id": "cFnFiDJwHK1C",
        "outputId": "405e6601-c99b-45c2-d21b-764227306c31"
      },
      "outputs": [
        {
          "output_type": "execute_result",
          "data": {
            "text/plain": [
              "0.286"
            ]
          },
          "metadata": {},
          "execution_count": 14
        }
      ],
      "source": [
        "# 눈이 3 이하가 되는 확률\n",
        "# F(x) = P(X <= 3) = ∑f(xk)\n",
        "\n",
        "F(3)"
      ]
    },
    {
      "cell_type": "markdown",
      "source": [
        "확률변수의 변환\n",
        "- 확률변수 X에 2를 곱하고 3을 더한 2X+3 도 확률변수\n",
        "- 2X+3을 확률변수 Y라고 하면,"
      ],
      "metadata": {
        "id": "GI1FwkXcIrFo"
      }
    },
    {
      "cell_type": "code",
      "execution_count": 15,
      "metadata": {
        "ExecuteTime": {
          "end_time": "2018-08-06T11:25:17.697148Z",
          "start_time": "2018-08-06T11:25:17.692368Z"
        },
        "id": "5BITPYcmHK1C"
      },
      "outputs": [],
      "source": [
        "x_set = np.array([x_k for x_k in x_set])            # X\n",
        "x_prob = np.array([f(x_k) for x_k in x_set])\n",
        "\n",
        "y_set = np.array([2 * x_k + 3 for x_k in x_set])    # 2X+3\n",
        "y_prob = np.array([f(x_k) for x_k in x_set])"
      ]
    },
    {
      "cell_type": "code",
      "source": [
        "dict(zip(x_set, x_prob))"
      ],
      "metadata": {
        "colab": {
          "base_uri": "https://localhost:8080/"
        },
        "id": "J2CifQlqJyVf",
        "outputId": "489ac2ae-b51b-4821-f8ff-498d24ec496c"
      },
      "execution_count": 16,
      "outputs": [
        {
          "output_type": "execute_result",
          "data": {
            "text/plain": [
              "{1: 0.048, 2: 0.095, 3: 0.143, 4: 0.190, 5: 0.238, 6: 0.286}"
            ]
          },
          "metadata": {},
          "execution_count": 16
        }
      ]
    },
    {
      "cell_type": "code",
      "source": [
        "dict(zip(y_set, y_prob))                            # 값은 동일, 눈금만 달라짐"
      ],
      "metadata": {
        "colab": {
          "base_uri": "https://localhost:8080/"
        },
        "id": "FumbsvNiJ9si",
        "outputId": "22a40320-c7cc-4a97-cd2d-ff80820618a5"
      },
      "execution_count": 17,
      "outputs": [
        {
          "output_type": "execute_result",
          "data": {
            "text/plain": [
              "{5: 0.048, 7: 0.095, 9: 0.143, 11: 0.190, 13: 0.238, 15: 0.286}"
            ]
          },
          "metadata": {},
          "execution_count": 17
        }
      ]
    },
    {
      "cell_type": "markdown",
      "metadata": {
        "id": "yzBytiQ4HK1C"
      },
      "source": [
        "### 2) 1차원 이산형 확률변수의 지표"
      ]
    },
    {
      "cell_type": "markdown",
      "metadata": {
        "id": "snOMnxkjHK1D"
      },
      "source": [
        "#### 1.3 평균\n",
        "기댓값 = 확률변수의 평균\n",
        "- 확률변수를 무제한 시행하여 얻어진 실현값의 평균\n",
        "- 무제한 시행할 수 없으므로, 확률변수가 취할 수 있는 값과 확률의 곱의 총합\n",
        "- E(X) = ∑xk * f(xk)"
      ]
    },
    {
      "cell_type": "markdown",
      "source": [
        "예) 불공정한 주사위의 기댓값"
      ],
      "metadata": {
        "id": "mYlfezNEKSxn"
      }
    },
    {
      "cell_type": "code",
      "execution_count": 18,
      "metadata": {
        "ExecuteTime": {
          "end_time": "2018-08-06T11:25:17.701479Z",
          "start_time": "2018-08-06T11:25:17.698316Z"
        },
        "colab": {
          "base_uri": "https://localhost:8080/"
        },
        "id": "jmlEc69nHK1D",
        "outputId": "95a7021d-5627-41a2-ec54-bf8a09971a31"
      },
      "outputs": [
        {
          "output_type": "execute_result",
          "data": {
            "text/plain": [
              "4.333"
            ]
          },
          "metadata": {},
          "execution_count": 18
        }
      ],
      "source": [
        "np.sum([x_k * f(x_k) for x_k in x_set])\n",
        "# 1*0.048 + 2*0.095 + 3*0.143 + ... + 6*0.286 = 4.333"
      ]
    },
    {
      "cell_type": "markdown",
      "source": [
        "예) 불공정한 주사위를 100만(10^6)번 굴린 실현값의 평균<br>\n",
        "--> 확률분포값도 시행횟수를 늘리면 실제와 비슷한 값이 나옴"
      ],
      "metadata": {
        "id": "_nPxU27bKedk"
      }
    },
    {
      "cell_type": "code",
      "execution_count": 19,
      "metadata": {
        "ExecuteTime": {
          "end_time": "2018-08-06T11:25:17.737094Z",
          "start_time": "2018-08-06T11:25:17.702621Z"
        },
        "colab": {
          "base_uri": "https://localhost:8080/"
        },
        "id": "uasNrBXYHK1D",
        "outputId": "8a21de8a-d6b2-45a5-d68e-ebeee22634cd"
      },
      "outputs": [
        {
          "output_type": "execute_result",
          "data": {
            "text/plain": [
              "4.335"
            ]
          },
          "metadata": {},
          "execution_count": 19
        }
      ],
      "source": [
        "sample = np.random.choice(x_set, int(1e6), p=prob)\n",
        "np.mean(sample)"
      ]
    },
    {
      "cell_type": "markdown",
      "source": [
        "이산형 확률변수의 기댓값"
      ],
      "metadata": {
        "id": "N2XmBPT7Kv_m"
      }
    },
    {
      "cell_type": "code",
      "execution_count": 20,
      "metadata": {
        "ExecuteTime": {
          "end_time": "2018-08-06T11:25:17.740722Z",
          "start_time": "2018-08-06T11:25:17.738306Z"
        },
        "id": "DFcWwml6HK1E"
      },
      "outputs": [],
      "source": [
        "def E(X, g=lambda x: x):\n",
        "    x_set, f = X\n",
        "    return np.sum([g(x_k) * f(x_k) for x_k in x_set])"
      ]
    },
    {
      "cell_type": "code",
      "execution_count": 21,
      "metadata": {
        "ExecuteTime": {
          "end_time": "2018-08-06T11:25:17.745675Z",
          "start_time": "2018-08-06T11:25:17.741807Z"
        },
        "colab": {
          "base_uri": "https://localhost:8080/"
        },
        "id": "8X1rz0fIHK1E",
        "outputId": "d16db51d-8b07-4528-bb88-044c20bfe83e"
      },
      "outputs": [
        {
          "output_type": "execute_result",
          "data": {
            "text/plain": [
              "4.333"
            ]
          },
          "metadata": {},
          "execution_count": 21
        }
      ],
      "source": [
        "E(X)"
      ]
    },
    {
      "cell_type": "markdown",
      "source": [
        "기댓값의 선형성<br>\n",
        "예) E(2X+3) = 2E(X)+3"
      ],
      "metadata": {
        "id": "h-qyRYsmLiYR"
      }
    },
    {
      "cell_type": "code",
      "execution_count": 22,
      "metadata": {
        "ExecuteTime": {
          "end_time": "2018-08-06T11:25:17.750269Z",
          "start_time": "2018-08-06T11:25:17.746911Z"
        },
        "colab": {
          "base_uri": "https://localhost:8080/"
        },
        "id": "Rcdz08o6HK1E",
        "outputId": "48bebc5a-885f-42e1-aadd-8bdfcbc02706"
      },
      "outputs": [
        {
          "output_type": "execute_result",
          "data": {
            "text/plain": [
              "11.667"
            ]
          },
          "metadata": {},
          "execution_count": 22
        }
      ],
      "source": [
        "E(X, g=lambda x: 2*x + 3)"
      ]
    },
    {
      "cell_type": "code",
      "execution_count": 23,
      "metadata": {
        "ExecuteTime": {
          "end_time": "2018-08-06T11:25:17.754447Z",
          "start_time": "2018-08-06T11:25:17.751181Z"
        },
        "colab": {
          "base_uri": "https://localhost:8080/"
        },
        "id": "TAUDTm0QHK1F",
        "outputId": "deeec2fc-2f8c-4321-9fee-e9b13b1243e9"
      },
      "outputs": [
        {
          "output_type": "execute_result",
          "data": {
            "text/plain": [
              "11.667"
            ]
          },
          "metadata": {},
          "execution_count": 23
        }
      ],
      "source": [
        "2 * E(X) + 3"
      ]
    },
    {
      "cell_type": "markdown",
      "source": [
        "참고 : 람다(labmda) 함수"
      ],
      "metadata": {
        "id": "uhI5RVvpK3Sv"
      }
    },
    {
      "cell_type": "code",
      "source": [
        "# def\n",
        "def short_function(x):\n",
        "    return x*2\n",
        "\n",
        "# lambda\n",
        "equiv_anon = lambda x: x*2"
      ],
      "metadata": {
        "id": "Rh0m_7JkK5jT"
      },
      "execution_count": 24,
      "outputs": []
    },
    {
      "cell_type": "code",
      "source": [
        "# def\n",
        "def apply_to_list(some_list, f):\n",
        "    return [f(x) for x in some_list]\n",
        "\n",
        "# lambda\n",
        "ints = [4, 0, 1, 5, 6]\n",
        "apply_to_list(ints, lambda x: x*2)"
      ],
      "metadata": {
        "colab": {
          "base_uri": "https://localhost:8080/"
        },
        "id": "ReXBih5sK-s3",
        "outputId": "06bcad31-2a9e-47ba-ee44-f25c52658b19"
      },
      "execution_count": 25,
      "outputs": [
        {
          "output_type": "execute_result",
          "data": {
            "text/plain": [
              "[8, 0, 2, 10, 12]"
            ]
          },
          "metadata": {},
          "execution_count": 25
        }
      ]
    },
    {
      "cell_type": "code",
      "source": [
        "strings = ['c', 'c++', 'java', 'python']\n",
        "strings.sort(key = lambda x: len(set(list(x))))\n",
        "strings"
      ],
      "metadata": {
        "colab": {
          "base_uri": "https://localhost:8080/"
        },
        "id": "HwIk5-XcLRFA",
        "outputId": "c3fe8683-98ee-4dd6-fb50-fc26cdc96457"
      },
      "execution_count": 26,
      "outputs": [
        {
          "output_type": "execute_result",
          "data": {
            "text/plain": [
              "['c', 'c++', 'java', 'python']"
            ]
          },
          "metadata": {},
          "execution_count": 26
        }
      ]
    },
    {
      "cell_type": "markdown",
      "metadata": {
        "id": "zsm5ZTBWHK1F"
      },
      "source": [
        "#### 1.4 분산\n",
        "분산 = 편차 제곱의 합<br>\n",
        "V(X) = ∑(xk-mean)^2 * f(xk)\n",
        "확률이 중구난방하다 = 분산이 크다<br>\n",
        "편차가 크면 분산도 커진다<br>\n",
        "편차가 작으면 분산도 작아진다(모델링하기 쉽다)<br>"
      ]
    },
    {
      "cell_type": "markdown",
      "source": [
        "예) 불공정한 주사위의 분산"
      ],
      "metadata": {
        "id": "-vd7eSPDL1-h"
      }
    },
    {
      "cell_type": "code",
      "execution_count": 27,
      "metadata": {
        "ExecuteTime": {
          "end_time": "2018-08-06T11:25:17.759274Z",
          "start_time": "2018-08-06T11:25:17.755396Z"
        },
        "colab": {
          "base_uri": "https://localhost:8080/"
        },
        "id": "M3s5ECugHK1F",
        "outputId": "73747a62-f985-4715-a6d9-a5c1127e59c8"
      },
      "outputs": [
        {
          "output_type": "execute_result",
          "data": {
            "text/plain": [
              "2.222"
            ]
          },
          "metadata": {},
          "execution_count": 27
        }
      ],
      "source": [
        "mean = E(X)                                         # 평균\n",
        "np.sum([(x_k-mean)**2 * f(x_k) for x_k in x_set])   # 분산(편차 제곱의 합)"
      ]
    },
    {
      "cell_type": "markdown",
      "source": [
        "이산형 확률변수의 분산"
      ],
      "metadata": {
        "id": "unFVlEJCMGvO"
      }
    },
    {
      "cell_type": "code",
      "execution_count": 28,
      "metadata": {
        "ExecuteTime": {
          "end_time": "2018-08-06T11:25:17.763465Z",
          "start_time": "2018-08-06T11:25:17.760361Z"
        },
        "id": "HtzgaY1SHK1G"
      },
      "outputs": [],
      "source": [
        "def V(X, g=lambda x: x):\n",
        "    x_set, f = X\n",
        "    mean = E(X, g)\n",
        "    return np.sum([(g(x_k)-mean)**2 * f(x_k) for x_k in x_set])"
      ]
    },
    {
      "cell_type": "code",
      "execution_count": 29,
      "metadata": {
        "ExecuteTime": {
          "end_time": "2018-08-06T11:25:17.768386Z",
          "start_time": "2018-08-06T11:25:17.764699Z"
        },
        "colab": {
          "base_uri": "https://localhost:8080/"
        },
        "id": "S6c2EpaNHK1G",
        "outputId": "40410428-6171-4629-d949-3c9efae01ae5"
      },
      "outputs": [
        {
          "output_type": "execute_result",
          "data": {
            "text/plain": [
              "2.222"
            ]
          },
          "metadata": {},
          "execution_count": 29
        }
      ],
      "source": [
        "V(X)"
      ]
    },
    {
      "cell_type": "markdown",
      "source": [
        "확률변수 Y(X)=2X+3의 분산"
      ],
      "metadata": {
        "id": "NTd29KwGMIHu"
      }
    },
    {
      "cell_type": "code",
      "execution_count": 30,
      "metadata": {
        "ExecuteTime": {
          "end_time": "2018-08-06T11:25:17.773328Z",
          "start_time": "2018-08-06T11:25:17.769350Z"
        },
        "colab": {
          "base_uri": "https://localhost:8080/"
        },
        "id": "cYOTUng4HK1G",
        "outputId": "9f1eb851-9db9-4a60-e72f-d8226657f56f"
      },
      "outputs": [
        {
          "output_type": "execute_result",
          "data": {
            "text/plain": [
              "8.889"
            ]
          },
          "metadata": {},
          "execution_count": 30
        }
      ],
      "source": [
        "V(X, lambda x: 2*x + 3)"
      ]
    },
    {
      "cell_type": "markdown",
      "source": [
        "분산의 공식<br>\n",
        "V(aX+b) = a^2 * V(x)"
      ],
      "metadata": {
        "id": "EuHZfk0iMM72"
      }
    },
    {
      "cell_type": "code",
      "execution_count": 31,
      "metadata": {
        "ExecuteTime": {
          "end_time": "2018-08-06T11:25:17.778674Z",
          "start_time": "2018-08-06T11:25:17.774588Z"
        },
        "colab": {
          "base_uri": "https://localhost:8080/"
        },
        "id": "haA1UMWzHK1G",
        "outputId": "face1182-f1f8-4970-9cf6-2f83c5056a4a"
      },
      "outputs": [
        {
          "output_type": "execute_result",
          "data": {
            "text/plain": [
              "8.889"
            ]
          },
          "metadata": {},
          "execution_count": 31
        }
      ],
      "source": [
        "# V(2X+3) = 2^2 * V(X)\n",
        "\n",
        "2**2 * V(X)"
      ]
    },
    {
      "cell_type": "markdown",
      "metadata": {
        "id": "nQQwJF_KHK1G"
      },
      "source": [
        "## 5.2 2차원 이산형 확률분포"
      ]
    },
    {
      "cell_type": "markdown",
      "metadata": {
        "id": "EXGTZSkzHK1G"
      },
      "source": [
        "### 1) 2차원 이산형 확률분포의 정의"
      ]
    },
    {
      "cell_type": "markdown",
      "source": [
        "결합확률분포\n",
        "- 확률변수 X가 xi, 확률변수 Y가 yi를 취하는 확률<br>\n",
        "- P(X = xi, Y = yi) = pij<br>\n",
        "- 확률변수 X, Y의 움직임을 동시에 고려한 분포"
      ],
      "metadata": {
        "id": "lu5hlyCiMhAG"
      }
    },
    {
      "cell_type": "markdown",
      "source": [
        "예) 불공정한 주사위 A, B<br>\n",
        "A와 B의 눈을 더한 것 X, A의 눈을 Y로 하는 2차원 확률분포"
      ],
      "metadata": {
        "id": "EsK5YMEhMq5R"
      }
    },
    {
      "cell_type": "code",
      "execution_count": 32,
      "metadata": {
        "ExecuteTime": {
          "end_time": "2018-08-06T11:25:17.783029Z",
          "start_time": "2018-08-06T11:25:17.780291Z"
        },
        "id": "ChdU0hJFHK1H"
      },
      "outputs": [],
      "source": [
        "# X, Y가 취할 수 있는 값의 집합\n",
        "\n",
        "x_set = np.arange(2, 13)\n",
        "y_set = np.arange(1, 7)"
      ]
    },
    {
      "cell_type": "code",
      "execution_count": 33,
      "metadata": {
        "ExecuteTime": {
          "end_time": "2018-08-06T11:25:17.788516Z",
          "start_time": "2018-08-06T11:25:17.784611Z"
        },
        "id": "QOfd7ooAHK1H"
      },
      "outputs": [],
      "source": [
        "# 결합확률함수\n",
        "\n",
        "def f_XY(x, y):\n",
        "    if 1 <= y <=6 and 1 <= x - y <= 6:\n",
        "        return y * (x-y) / 441\n",
        "    else:\n",
        "        return 0"
      ]
    },
    {
      "cell_type": "code",
      "execution_count": 34,
      "metadata": {
        "ExecuteTime": {
          "end_time": "2018-08-06T11:25:17.793487Z",
          "start_time": "2018-08-06T11:25:17.789901Z"
        },
        "id": "_AeQYy83HK1H"
      },
      "outputs": [],
      "source": [
        "XY = [x_set, y_set, f_XY]"
      ]
    },
    {
      "cell_type": "code",
      "execution_count": 35,
      "metadata": {
        "ExecuteTime": {
          "end_time": "2018-08-06T11:25:17.932737Z",
          "start_time": "2018-08-06T11:25:17.794592Z"
        },
        "scrolled": false,
        "colab": {
          "base_uri": "https://localhost:8080/",
          "height": 489
        },
        "id": "5QGVLyb8HK1H",
        "outputId": "48e6215e-3798-4e59-86cf-d0e98f3983ca"
      },
      "outputs": [
        {
          "output_type": "display_data",
          "data": {
            "text/plain": [
              "<Figure size 720x576 with 2 Axes>"
            ],
            "image/png": "[encoded data removed]"
          },
          "metadata": {
            "needs_background": "light"
          }
        }
      ],
      "source": [
        "# 확률분포의 히트맵\n",
        "# 불공정한 주사위일수록 큰 수가 나올 확률이 높다(노란색일 수록 큰 값)\n",
        "\n",
        "prob = np.array([[f_XY(x_i, y_j) for y_j in y_set]\n",
        "                 for x_i in x_set])\n",
        "\n",
        "fig = plt.figure(figsize=(10, 8))\n",
        "ax = fig.add_subplot(111)\n",
        "\n",
        "c = ax.pcolor(prob)\n",
        "ax.set_xticks(np.arange(prob.shape[1]) + 0.5, minor=False)\n",
        "ax.set_yticks(np.arange(prob.shape[0]) + 0.5, minor=False)\n",
        "ax.set_xticklabels(np.arange(1, 7), minor=False)\n",
        "ax.set_yticklabels(np.arange(2, 13), minor=False)\n",
        "# y축을 내림차순의 숫자가 되게 하여, 위 아래를 역전시킨다\n",
        "ax.invert_yaxis()\n",
        "# x축의 눈금을 그래프 위쪽에 표시\n",
        "ax.xaxis.tick_top()\n",
        "fig.colorbar(c, ax=ax)\n",
        "plt.show()\n"
      ]
    },
    {
      "cell_type": "markdown",
      "source": [
        "확률의 성질<br>\n",
        "- 확률은 0보다 크다\n",
        "- 확률을 모두 더하면 1이다"
      ],
      "metadata": {
        "id": "77SPu284M3Tn"
      }
    },
    {
      "cell_type": "code",
      "execution_count": 36,
      "metadata": {
        "ExecuteTime": {
          "end_time": "2018-08-06T11:25:17.937185Z",
          "start_time": "2018-08-06T11:25:17.934188Z"
        },
        "colab": {
          "base_uri": "https://localhost:8080/"
        },
        "id": "Fu5T0ze0HK1I",
        "outputId": "b9576d74-e926-42a8-d7c1-6d4d015ffc29"
      },
      "outputs": [
        {
          "output_type": "execute_result",
          "data": {
            "text/plain": [
              "True"
            ]
          },
          "metadata": {},
          "execution_count": 36
        }
      ],
      "source": [
        "# 확률은 0보다 크다\n",
        "\n",
        "np.all(prob >= 0)"
      ]
    },
    {
      "cell_type": "code",
      "execution_count": 37,
      "metadata": {
        "ExecuteTime": {
          "end_time": "2018-08-06T11:25:17.942400Z",
          "start_time": "2018-08-06T11:25:17.938424Z"
        },
        "colab": {
          "base_uri": "https://localhost:8080/"
        },
        "id": "uabdg3G7HK1I",
        "outputId": "fc29ac4f-259f-42c5-e393-912e5e2e0db0"
      },
      "outputs": [
        {
          "output_type": "execute_result",
          "data": {
            "text/plain": [
              "1.000"
            ]
          },
          "metadata": {},
          "execution_count": 37
        }
      ],
      "source": [
        "# 확률을 모두 더하면 1이다\n",
        "\n",
        "np.sum(prob)"
      ]
    },
    {
      "cell_type": "markdown",
      "source": [
        "주변확률분포\n",
        "- 확률분포(X, Y)는 결합확률분포에 의해 동시에 정의됨\n",
        "- 확률변수 X의 확률함수 Fx(x)를 알고 싶을 때\n",
        "- Fxy에서 Y가 취할 수 있는 값을 모두 대입한 다음 모두 더함\n",
        "- Fx(x) = ∑Fxy(x, yk)  -> x 고정, y만 변화"
      ],
      "metadata": {
        "id": "Jhbim8TKNPr7"
      }
    },
    {
      "cell_type": "code",
      "execution_count": 38,
      "metadata": {
        "ExecuteTime": {
          "end_time": "2018-08-06T11:25:17.948437Z",
          "start_time": "2018-08-06T11:25:17.943951Z"
        },
        "id": "HVDVmRshHK1I"
      },
      "outputs": [],
      "source": [
        "# y 영향 제거, x 영향만 봄\n",
        "\n",
        "def f_X(x):\n",
        "    return np.sum([f_XY(x, y_k) for y_k in y_set])"
      ]
    },
    {
      "cell_type": "code",
      "execution_count": 39,
      "metadata": {
        "ExecuteTime": {
          "end_time": "2018-08-06T11:25:17.953066Z",
          "start_time": "2018-08-06T11:25:17.949777Z"
        },
        "id": "1iqfjybCHK1I"
      },
      "outputs": [],
      "source": [
        "# x 영향 제거, y 영향만 봄\n",
        "\n",
        "def f_Y(y):\n",
        "    return np.sum([f_XY(x_k, y) for x_k in x_set])"
      ]
    },
    {
      "cell_type": "code",
      "execution_count": 40,
      "metadata": {
        "ExecuteTime": {
          "end_time": "2018-08-06T11:25:17.957088Z",
          "start_time": "2018-08-06T11:25:17.954497Z"
        },
        "id": "T6n5S_qFHK1I"
      },
      "outputs": [],
      "source": [
        "X = [x_set, f_X]\n",
        "Y = [y_set, f_Y]"
      ]
    },
    {
      "cell_type": "code",
      "execution_count": 46,
      "metadata": {
        "ExecuteTime": {
          "end_time": "2018-08-06T11:25:18.155840Z",
          "start_time": "2018-08-06T11:25:17.958366Z"
        },
        "colab": {
          "base_uri": "https://localhost:8080/",
          "height": 296
        },
        "id": "Vwx23OthHK1J",
        "outputId": "54e47b85-6ea1-4aff-b3e2-34d9ec6b7127"
      },
      "outputs": [
        {
          "output_type": "display_data",
          "data": {
            "text/plain": [
              "<Figure size 864x288 with 2 Axes>"
            ],
            "image/png": "[encoded data removed]"
          },
          "metadata": {
            "needs_background": "light"
          }
        }
      ],
      "source": [
        "prob_x = np.array([f_X(x_k) for x_k in x_set])\n",
        "prob_y = np.array([f_Y(y_k) for y_k in y_set])\n",
        "\n",
        "fig = plt.figure(figsize=(12, 4))\n",
        "ax1 = fig.add_subplot(121) # 1행 2열 1번째 칸\n",
        "ax2 = fig.add_subplot(122) # 1행 2열 2번째 칸\n",
        "\n",
        "ax1.bar(x_set, prob_x)\n",
        "ax1.set_title('X_marginal probability distribution')\n",
        "ax1.set_xlabel('X_value')\n",
        "ax1.set_ylabel('probability')\n",
        "ax1.set_xticks(x_set)\n",
        "# X : A+B 에 대한 확률분포\n",
        "# --> 높은 값이 나올 확률이 높다\n",
        "\n",
        "\n",
        "ax2.bar(y_set, prob_y)\n",
        "ax2.set_title('Y_marginal probability distribution')\n",
        "ax2.set_xlabel('Y_value')\n",
        "ax2.set_ylabel('probability')\n",
        "# Y : A 에 대한 확률분포\n",
        "# --> 우상향\n",
        "\n",
        "plt.show()"
      ]
    },
    {
      "cell_type": "markdown",
      "metadata": {
        "id": "AjjEHiTVHK1J"
      },
      "source": [
        "### 2) 2차원 이산형 확률분포의 지표"
      ]
    },
    {
      "cell_type": "markdown",
      "source": [
        "기댓값<br>\n",
        "![image.png](data:image/png;base64,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)"
      ],
      "metadata": {
        "id": "ei1oY5eHPeFt"
      }
    },
    {
      "cell_type": "code",
      "execution_count": 42,
      "metadata": {
        "ExecuteTime": {
          "end_time": "2018-08-06T11:25:18.160597Z",
          "start_time": "2018-08-06T11:25:18.157222Z"
        },
        "colab": {
          "base_uri": "https://localhost:8080/"
        },
        "id": "LQ-6UmnnHK1J",
        "outputId": "9dd20a40-33e1-4e47-8fb9-0d5059cd21ad"
      },
      "outputs": [
        {
          "output_type": "execute_result",
          "data": {
            "text/plain": [
              "8.667"
            ]
          },
          "metadata": {},
          "execution_count": 42
        }
      ],
      "source": [
        "# 파이썬으로 구현\n",
        "\n",
        "np.sum([x_i * f_XY(x_i, y_j) for x_i in x_set for y_j in y_set])"
      ]
    },
    {
      "cell_type": "code",
      "execution_count": 43,
      "metadata": {
        "ExecuteTime": {
          "end_time": "2018-08-06T11:25:18.165682Z",
          "start_time": "2018-08-06T11:25:18.161951Z"
        },
        "id": "v6IdaXguHK1K"
      },
      "outputs": [],
      "source": [
        "# 함수로 구현\n",
        "\n",
        "def E(XY, g):\n",
        "    x_set, y_set, f_XY = XY\n",
        "    return np.sum([g(x_i, y_j) * f_XY(x_i, y_j)\n",
        "                   for x_i in x_set for y_j in y_set])"
      ]
    },
    {
      "cell_type": "code",
      "execution_count": 44,
      "metadata": {
        "ExecuteTime": {
          "end_time": "2018-08-06T11:25:18.171317Z",
          "start_time": "2018-08-06T11:25:18.166922Z"
        },
        "colab": {
          "base_uri": "https://localhost:8080/"
        },
        "id": "5Sz4s0RRHK1K",
        "outputId": "f33d2dd6-b2dc-4481-8a94-1beaec2bb631"
      },
      "outputs": [
        {
          "output_type": "execute_result",
          "data": {
            "text/plain": [
              "8.667"
            ]
          },
          "metadata": {},
          "execution_count": 44
        }
      ],
      "source": [
        "# X의 기댓값\n",
        "\n",
        "mean_X = E(XY, lambda x, y: x)\n",
        "mean_X"
      ]
    },
    {
      "cell_type": "code",
      "execution_count": 45,
      "metadata": {
        "ExecuteTime": {
          "end_time": "2018-08-06T11:25:18.176800Z",
          "start_time": "2018-08-06T11:25:18.172606Z"
        },
        "colab": {
          "base_uri": "https://localhost:8080/"
        },
        "id": "oz7HZdwIHK1K",
        "outputId": "ae826234-bbde-42e9-b009-21b4e0f10543"
      },
      "outputs": [
        {
          "output_type": "execute_result",
          "data": {
            "text/plain": [
              "4.333"
            ]
          },
          "metadata": {},
          "execution_count": 45
        }
      ],
      "source": [
        "# Y의 기댓값\n",
        "\n",
        "mean_Y = E(XY, lambda x, y: y)\n",
        "mean_Y"
      ]
    },
    {
      "cell_type": "markdown",
      "source": [
        "기댓값의 선형성<br>\n",
        "![image.png](data:image/png;base64,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)\n"
      ],
      "metadata": {
        "id": "Tqk-GjyKP-sV"
      }
    },
    {
      "cell_type": "code",
      "execution_count": 47,
      "metadata": {
        "ExecuteTime": {
          "end_time": "2018-08-06T11:25:18.181411Z",
          "start_time": "2018-08-06T11:25:18.179270Z"
        },
        "id": "yOC3ZOXvHK1L"
      },
      "outputs": [],
      "source": [
        "a, b = 2, 3"
      ]
    },
    {
      "cell_type": "code",
      "execution_count": 48,
      "metadata": {
        "ExecuteTime": {
          "end_time": "2018-08-06T11:25:18.188112Z",
          "start_time": "2018-08-06T11:25:18.182684Z"
        },
        "colab": {
          "base_uri": "https://localhost:8080/"
        },
        "id": "cC8wTQSsHK1L",
        "outputId": "0ef20c84-6a31-4fc0-848c-be8665f418d2"
      },
      "outputs": [
        {
          "output_type": "execute_result",
          "data": {
            "text/plain": [
              "30.333"
            ]
          },
          "metadata": {},
          "execution_count": 48
        }
      ],
      "source": [
        "E(XY, lambda x, y: a*x + b*y)"
      ]
    },
    {
      "cell_type": "code",
      "execution_count": 49,
      "metadata": {
        "ExecuteTime": {
          "end_time": "2018-08-06T11:25:18.192651Z",
          "start_time": "2018-08-06T11:25:18.189335Z"
        },
        "colab": {
          "base_uri": "https://localhost:8080/"
        },
        "id": "jdKR_hUkHK1L",
        "outputId": "0fc80bb7-4694-4ea1-e25d-7337b7ae08c9"
      },
      "outputs": [
        {
          "output_type": "execute_result",
          "data": {
            "text/plain": [
              "30.333"
            ]
          },
          "metadata": {},
          "execution_count": 49
        }
      ],
      "source": [
        "a * mean_X + b * mean_Y"
      ]
    },
    {
      "cell_type": "markdown",
      "source": [
        "분산<br>\n",
        "![image.png](data:image/png;base64,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)"
      ],
      "metadata": {
        "id": "cbikDobcQFG3"
      }
    },
    {
      "cell_type": "code",
      "execution_count": 51,
      "metadata": {
        "ExecuteTime": {
          "end_time": "2018-08-06T11:25:18.198072Z",
          "start_time": "2018-08-06T11:25:18.193879Z"
        },
        "colab": {
          "base_uri": "https://localhost:8080/"
        },
        "id": "tlMvRZfBHK1L",
        "outputId": "86544eb7-2704-4aba-c63c-d402a673ccd5"
      },
      "outputs": [
        {
          "output_type": "execute_result",
          "data": {
            "text/plain": [
              "4.444"
            ]
          },
          "metadata": {},
          "execution_count": 51
        }
      ],
      "source": [
        "# 파이썬으로 구현\n",
        "\n",
        "np.sum([(x_i-mean_X)**2 * f_XY(x_i, y_j)\n",
        "       for x_i in x_set for y_j in y_set])"
      ]
    },
    {
      "cell_type": "code",
      "execution_count": 52,
      "metadata": {
        "ExecuteTime": {
          "end_time": "2018-08-06T11:25:18.202487Z",
          "start_time": "2018-08-06T11:25:18.199151Z"
        },
        "id": "WNSbj_RqHK1M"
      },
      "outputs": [],
      "source": [
        "# 함수로 구현\n",
        "\n",
        "def V(XY, g):\n",
        "    x_set, y_set, f_XY = XY\n",
        "    mean = E(XY, g)\n",
        "    return np.sum([(g(x_i, y_j)-mean)**2 * f_XY(x_i, y_j)\n",
        "                   for x_i in x_set for y_j in y_set])"
      ]
    },
    {
      "cell_type": "code",
      "execution_count": 53,
      "metadata": {
        "ExecuteTime": {
          "end_time": "2018-08-06T11:25:18.208121Z",
          "start_time": "2018-08-06T11:25:18.203578Z"
        },
        "colab": {
          "base_uri": "https://localhost:8080/"
        },
        "id": "oPlqoI1vHK1M",
        "outputId": "60e76e06-07ca-4bc7-fedf-efec2c9c2c10"
      },
      "outputs": [
        {
          "output_type": "execute_result",
          "data": {
            "text/plain": [
              "4.444"
            ]
          },
          "metadata": {},
          "execution_count": 53
        }
      ],
      "source": [
        "# X 의 분산\n",
        "\n",
        "var_X = V(XY, g=lambda x, y: x)\n",
        "var_X"
      ]
    },
    {
      "cell_type": "code",
      "execution_count": 54,
      "metadata": {
        "ExecuteTime": {
          "end_time": "2018-08-06T11:25:18.214829Z",
          "start_time": "2018-08-06T11:25:18.209153Z"
        },
        "colab": {
          "base_uri": "https://localhost:8080/"
        },
        "id": "Oi1lEYmAHK1M",
        "outputId": "253bb5a1-f4f4-4d04-bdad-e15878373d57"
      },
      "outputs": [
        {
          "output_type": "execute_result",
          "data": {
            "text/plain": [
              "2.222"
            ]
          },
          "metadata": {},
          "execution_count": 54
        }
      ],
      "source": [
        "# Y 의 분산\n",
        "\n",
        "var_Y = V(XY, g=lambda x, y: y)\n",
        "var_Y"
      ]
    },
    {
      "cell_type": "markdown",
      "source": [
        "공분산 : 두 확률변수 X, Y의 상관<br>\n",
        "![image.png](data:image/png;base64,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)"
      ],
      "metadata": {
        "id": "-MN6aWqJQUid"
      }
    },
    {
      "cell_type": "code",
      "execution_count": 55,
      "metadata": {
        "ExecuteTime": {
          "end_time": "2018-08-06T11:25:18.220141Z",
          "start_time": "2018-08-06T11:25:18.215853Z"
        },
        "id": "EYtG1p-yHK1M"
      },
      "outputs": [],
      "source": [
        "# 공분산\n",
        "\n",
        "def Cov(XY):\n",
        "    x_set, y_set, f_XY = XY\n",
        "    mean_X = E(XY, lambda x, y: x)\n",
        "    mean_Y = E(XY, lambda x, y: y)\n",
        "    return np.sum([(x_i-mean_X) * (y_j-mean_Y) * f_XY(x_i, y_j)\n",
        "                    for x_i in x_set for y_j in y_set])"
      ]
    },
    {
      "cell_type": "code",
      "execution_count": 56,
      "metadata": {
        "ExecuteTime": {
          "end_time": "2018-08-06T11:25:18.226352Z",
          "start_time": "2018-08-06T11:25:18.221226Z"
        },
        "colab": {
          "base_uri": "https://localhost:8080/"
        },
        "id": "5w3jw32uHK1M",
        "outputId": "05ae4271-30ba-48f6-a37d-de42ccfb049e"
      },
      "outputs": [
        {
          "output_type": "execute_result",
          "data": {
            "text/plain": [
              "2.222"
            ]
          },
          "metadata": {},
          "execution_count": 56
        }
      ],
      "source": [
        "cov_xy = Cov(XY)\n",
        "cov_xy"
      ]
    },
    {
      "cell_type": "markdown",
      "source": [
        "분산과 공분산의 공식<br>\n",
        "![image.png](data:image/png;base64,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)"
      ],
      "metadata": {
        "id": "vLXXRlIQQcv6"
      }
    },
    {
      "cell_type": "code",
      "execution_count": 57,
      "metadata": {
        "ExecuteTime": {
          "end_time": "2018-08-06T11:25:18.232830Z",
          "start_time": "2018-08-06T11:25:18.227964Z"
        },
        "colab": {
          "base_uri": "https://localhost:8080/"
        },
        "id": "H4t5LGnsHK1M",
        "outputId": "5db635ba-20bb-48ce-c760-d5cf12cf76ac"
      },
      "outputs": [
        {
          "output_type": "execute_result",
          "data": {
            "text/plain": [
              "64.444"
            ]
          },
          "metadata": {},
          "execution_count": 57
        }
      ],
      "source": [
        "V(XY, lambda x, y: a*x + b*y)"
      ]
    },
    {
      "cell_type": "code",
      "execution_count": 58,
      "metadata": {
        "ExecuteTime": {
          "end_time": "2018-08-06T11:25:18.238309Z",
          "start_time": "2018-08-06T11:25:18.234241Z"
        },
        "colab": {
          "base_uri": "https://localhost:8080/"
        },
        "id": "sVo65v39HK1N",
        "outputId": "014c8085-e2fa-4803-ec7b-6396de12859d"
      },
      "outputs": [
        {
          "output_type": "execute_result",
          "data": {
            "text/plain": [
              "64.444"
            ]
          },
          "metadata": {},
          "execution_count": 58
        }
      ],
      "source": [
        "a**2 * var_X + b**2 * var_Y + 2*a*b * cov_xy"
      ]
    },
    {
      "cell_type": "markdown",
      "source": [
        "상관계수<br>\n",
        "![image.png](data:image/png;base64,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)"
      ],
      "metadata": {
        "id": "H90irZzjQmGa"
      }
    },
    {
      "cell_type": "code",
      "execution_count": 59,
      "metadata": {
        "ExecuteTime": {
          "end_time": "2018-08-06T11:25:18.243046Z",
          "start_time": "2018-08-06T11:25:18.239669Z"
        },
        "colab": {
          "base_uri": "https://localhost:8080/"
        },
        "id": "DN-TS4M0HK1N",
        "outputId": "304c2169-a503-40de-c289-c4f0ea000839"
      },
      "outputs": [
        {
          "output_type": "execute_result",
          "data": {
            "text/plain": [
              "0.707"
            ]
          },
          "metadata": {},
          "execution_count": 59
        }
      ],
      "source": [
        "cov_xy / np.sqrt(var_X * var_Y)"
      ]
    }
  ],
  "metadata": {
    "kernelspec": {
      "display_name": "Python 3",
      "language": "python",
      "name": "python3"
    },
    "language_info": {
      "codemirror_mode": {
        "name": "ipython",
        "version": 3
      },
      "file_extension": ".py",
      "mimetype": "text/x-python",
      "name": "python",
      "nbconvert_exporter": "python",
      "pygments_lexer": "ipython3",
      "version": "3.7.3"
    },
    "toc": {
      "nav_menu": {},
      "number_sections": true,
      "sideBar": true,
      "skip_h1_title": false,
      "toc_cell": false,
      "toc_position": {
        "height": "911px",
        "left": "0px",
        "right": "1493px",
        "top": "107px",
        "width": "212px"
      },
      "toc_section_display": "block",
      "toc_window_display": false
    },
    "colab": {
      "name": "chap05.ipynb",
      "provenance": [],
      "collapsed_sections": []
    }
  },
  "nbformat": 4,
  "nbformat_minor": 0
}