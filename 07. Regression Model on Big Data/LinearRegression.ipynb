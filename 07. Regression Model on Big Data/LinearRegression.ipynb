{
  "nbformat": 4,
  "nbformat_minor": 0,
  "metadata": {
    "colab": {
      "name": "LinearRegression.ipynb",
      "provenance": [],
      "collapsed_sections": []
    },
    "kernelspec": {
      "name": "python3",
      "display_name": "Python 3"
    },
    "language_info": {
      "name": "python"
    }
  },
  "cells": [
    {
      "cell_type": "markdown",
      "source": [
        "# Linear Regression 구현 without Pytorch, TensorFlow"
      ],
      "metadata": {
        "id": "RlETcl4j8Vjh"
      }
    },
    {
      "cell_type": "markdown",
      "source": [
        "## 0. 라이브러리"
      ],
      "metadata": {
        "id": "aqxiAzda8qKR"
      }
    },
    {
      "cell_type": "code",
      "execution_count": null,
      "metadata": {
        "id": "50iZc_jM6h5Q"
      },
      "outputs": [],
      "source": [
        "import numpy as np\n",
        "import pandas as pd\n",
        "import matplotlib.pyplot as plt"
      ]
    },
    {
      "cell_type": "markdown",
      "source": [
        "## 1. 데이터 준비"
      ],
      "metadata": {
        "id": "LV7rYPud8bMo"
      }
    },
    {
      "cell_type": "code",
      "source": [
        "x_train = np.array([[2, 3, 1], [4, 8, 9], [6, 2, 7], [8, 4, 6]])"
      ],
      "metadata": {
        "id": "Wvgeh0N28dBU"
      },
      "execution_count": null,
      "outputs": []
    },
    {
      "cell_type": "code",
      "source": [
        "y_train = np.array([[3], [7], [5], [8]])"
      ],
      "metadata": {
        "id": "yfpAeDdX9UA3"
      },
      "execution_count": null,
      "outputs": []
    },
    {
      "cell_type": "code",
      "source": [
        "type(x_train)"
      ],
      "metadata": {
        "colab": {
          "base_uri": "https://localhost:8080/"
        },
        "id": "-oDbG00M9G_u",
        "outputId": "f98b4dc9-ad46-4a3e-acbf-c4e6ce11b6a5"
      },
      "execution_count": null,
      "outputs": [
        {
          "output_type": "execute_result",
          "data": {
            "text/plain": [
              "numpy.ndarray"
            ]
          },
          "metadata": {},
          "execution_count": 20
        }
      ]
    },
    {
      "cell_type": "code",
      "source": [
        "x_train"
      ],
      "metadata": {
        "colab": {
          "base_uri": "https://localhost:8080/"
        },
        "id": "rg5OTFUq9Qe6",
        "outputId": "5d9a300c-de20-4fa1-d952-9ad1997b6793"
      },
      "execution_count": null,
      "outputs": [
        {
          "output_type": "execute_result",
          "data": {
            "text/plain": [
              "array([[2, 3, 1],\n",
              "       [4, 8, 9],\n",
              "       [6, 2, 7],\n",
              "       [8, 4, 6]])"
            ]
          },
          "metadata": {},
          "execution_count": 21
        }
      ]
    },
    {
      "cell_type": "code",
      "source": [
        "y_train"
      ],
      "metadata": {
        "colab": {
          "base_uri": "https://localhost:8080/"
        },
        "id": "gBviZG7n9wpo",
        "outputId": "71b9aaf6-407c-47ad-a1a8-10876f50b333"
      },
      "execution_count": null,
      "outputs": [
        {
          "output_type": "execute_result",
          "data": {
            "text/plain": [
              "[[3], [7], [5], [8]]"
            ]
          },
          "metadata": {},
          "execution_count": 22
        }
      ]
    },
    {
      "cell_type": "code",
      "source": [
        "n_samples = x_train.shape[0]"
      ],
      "metadata": {
        "id": "X2rFv_LM9tY0"
      },
      "execution_count": null,
      "outputs": []
    },
    {
      "cell_type": "code",
      "source": [
        "n_features = x_train.shape[1]"
      ],
      "metadata": {
        "id": "fkM_WCia9182"
      },
      "execution_count": null,
      "outputs": []
    },
    {
      "cell_type": "code",
      "source": [
        "n_samples"
      ],
      "metadata": {
        "colab": {
          "base_uri": "https://localhost:8080/"
        },
        "id": "mQjeHVjC9zPB",
        "outputId": "d0e5fa90-6eab-4574-f224-c9ba91a00a9a"
      },
      "execution_count": null,
      "outputs": [
        {
          "output_type": "execute_result",
          "data": {
            "text/plain": [
              "4"
            ]
          },
          "metadata": {},
          "execution_count": 25
        }
      ]
    },
    {
      "cell_type": "code",
      "source": [
        "n_features"
      ],
      "metadata": {
        "colab": {
          "base_uri": "https://localhost:8080/"
        },
        "id": "sn75ES9X96nW",
        "outputId": "5da26029-a020-4c2b-fe7e-9d797495c949"
      },
      "execution_count": null,
      "outputs": [
        {
          "output_type": "execute_result",
          "data": {
            "text/plain": [
              "3"
            ]
          },
          "metadata": {},
          "execution_count": 26
        }
      ]
    },
    {
      "cell_type": "markdown",
      "source": [
        "## 2. 가설함수 설정\n",
        "- f(x) = w1x1+w2x2+w3x3+b"
      ],
      "metadata": {
        "id": "ixzueiDb-K1B"
      }
    },
    {
      "cell_type": "code",
      "source": [
        "W = np.ones((3, 1)) #1로 초기화한 weight parameters"
      ],
      "metadata": {
        "id": "Tg4xaysR-Tzg"
      },
      "execution_count": null,
      "outputs": []
    },
    {
      "cell_type": "code",
      "source": [
        "W"
      ],
      "metadata": {
        "colab": {
          "base_uri": "https://localhost:8080/"
        },
        "id": "UFzS9Ubx-s2-",
        "outputId": "33c6c025-d88c-4973-9542-c7cfe3c60744"
      },
      "execution_count": null,
      "outputs": [
        {
          "output_type": "execute_result",
          "data": {
            "text/plain": [
              "array([[1.],\n",
              "       [1.],\n",
              "       [1.]])"
            ]
          },
          "metadata": {},
          "execution_count": 45
        }
      ]
    },
    {
      "cell_type": "code",
      "source": [
        "W.shape"
      ],
      "metadata": {
        "colab": {
          "base_uri": "https://localhost:8080/"
        },
        "id": "xt8oCvH7_bqV",
        "outputId": "cbe8fe05-83cd-4624-9cab-ce39f38aa08f"
      },
      "execution_count": null,
      "outputs": [
        {
          "output_type": "execute_result",
          "data": {
            "text/plain": [
              "(3, 1)"
            ]
          },
          "metadata": {},
          "execution_count": 46
        }
      ]
    },
    {
      "cell_type": "code",
      "source": [
        "b = np.ones((1, 1))"
      ],
      "metadata": {
        "id": "gkn9hP7k-zBm"
      },
      "execution_count": null,
      "outputs": []
    },
    {
      "cell_type": "code",
      "source": [
        "b"
      ],
      "metadata": {
        "colab": {
          "base_uri": "https://localhost:8080/"
        },
        "id": "MPVKUd1e-1c1",
        "outputId": "be7af134-26d0-416d-b055-6cd131d91b71"
      },
      "execution_count": null,
      "outputs": [
        {
          "output_type": "execute_result",
          "data": {
            "text/plain": [
              "array([[1.]])"
            ]
          },
          "metadata": {},
          "execution_count": 40
        }
      ]
    },
    {
      "cell_type": "code",
      "source": [
        "def f(X): # Hypothesis function\n",
        "    # return X[0] * W[0] + X[1] * W[1] + X[2] * W[2] + b\n",
        "    return np.matmul(X, W) + b"
      ],
      "metadata": {
        "id": "e7wotUy__d-W"
      },
      "execution_count": null,
      "outputs": []
    },
    {
      "cell_type": "code",
      "source": [
        "y_pred = f(x_train)"
      ],
      "metadata": {
        "id": "NFVN9o2F_0Bb"
      },
      "execution_count": null,
      "outputs": []
    },
    {
      "cell_type": "markdown",
      "source": [
        "## 3. Cost 함수 정의"
      ],
      "metadata": {
        "id": "TBvf3OsLA1QP"
      }
    },
    {
      "cell_type": "code",
      "source": [
        "def loss_function(y_pred, y_train):\n",
        "    n_samples = y_train.shape[0]\n",
        "    deviation = y_pred - y_train                   # 예측 - 정답\n",
        "    deviation_squared = deviation ** 2             # 제곱\n",
        "\n",
        "    loss = (1/n_samples) * deviation_squared.sum() # 합의 평군\n",
        "\n",
        "    return loss"
      ],
      "metadata": {
        "id": "a5L0XFDeA3Ti"
      },
      "execution_count": null,
      "outputs": []
    },
    {
      "cell_type": "code",
      "source": [
        "y_train"
      ],
      "metadata": {
        "colab": {
          "base_uri": "https://localhost:8080/"
        },
        "id": "4BbDL7_qBNyy",
        "outputId": "2211632b-2870-4837-d947-42a4ebbdcc50"
      },
      "execution_count": null,
      "outputs": [
        {
          "output_type": "execute_result",
          "data": {
            "text/plain": [
              "array([[3],\n",
              "       [7],\n",
              "       [5],\n",
              "       [8]])"
            ]
          },
          "metadata": {},
          "execution_count": 70
        }
      ]
    },
    {
      "cell_type": "code",
      "source": [
        "loss_function(y_pred, y_train)"
      ],
      "metadata": {
        "colab": {
          "base_uri": "https://localhost:8080/"
        },
        "id": "4TuyhtiiB8f9",
        "outputId": "6ce4c063-aee4-4ed7-9785-660def5d60b9"
      },
      "execution_count": null,
      "outputs": [
        {
          "output_type": "execute_result",
          "data": {
            "text/plain": [
              "120.75"
            ]
          },
          "metadata": {},
          "execution_count": 71
        }
      ]
    },
    {
      "cell_type": "code",
      "source": [
        "def gradient(x_train, y_train, y_pred):\n",
        "    n_samples = y_train.shape[0]\n",
        "    dw = (1/n_samples) * np.matmul(x_train.transpose(), (y_pred - y_train))\n",
        "    \n",
        "    return dw"
      ],
      "metadata": {
        "id": "zNrdcNdeDMfB"
      },
      "execution_count": null,
      "outputs": []
    },
    {
      "cell_type": "code",
      "source": [
        "def gradient_descent(W, learning_rate, dw):\n",
        "    W = W - learning_rate * dw;\n",
        "\n",
        "    return W"
      ],
      "metadata": {
        "id": "7Ru6qPrdGqFM"
      },
      "execution_count": null,
      "outputs": []
    },
    {
      "cell_type": "code",
      "source": [
        "dw = gradient(x_train, y_train, y_pred)"
      ],
      "metadata": {
        "id": "wPoBg1iSEB6l"
      },
      "execution_count": null,
      "outputs": []
    },
    {
      "cell_type": "code",
      "source": [
        "gradient_descent(W, 0.01, dw)"
      ],
      "metadata": {
        "colab": {
          "base_uri": "https://localhost:8080/"
        },
        "id": "V0vetfUOG_Rs",
        "outputId": "539b8cfc-e7ea-45b1-ef85-ebae98bb0fe9"
      },
      "execution_count": null,
      "outputs": [
        {
          "output_type": "execute_result",
          "data": {
            "text/plain": [
              "array([[0.445],\n",
              "       [0.505],\n",
              "       [0.295]])"
            ]
          },
          "metadata": {},
          "execution_count": 92
        }
      ]
    },
    {
      "cell_type": "code",
      "source": [
        "losses = []\n",
        "for num_iter in range(100):\n",
        "    print('x_train: ', x_train)\n",
        "    y_pred = f(x_train)\n",
        "    loss = loss_function(y_pred, y_train)\n",
        "    losses.append(loss)\n",
        "\n",
        "    dw = gradient(x_train, y_train, y_pred)\n",
        "    W = gradient_descent(W, 0.01, dw)\n",
        "\n",
        "    print(W)\n",
        "    print(loss)"
      ],
      "metadata": {
        "id": "Z4TXiio8Hl9N"
      },
      "execution_count": null,
      "outputs": []
    },
    {
      "cell_type": "code",
      "source": [
        "plt.plot(losses)\n",
        "plt.show()"
      ],
      "metadata": {
        "colab": {
          "base_uri": "https://localhost:8080/",
          "height": 265
        },
        "id": "zG6lqJcfJBZl",
        "outputId": "8c0c43f1-740e-469e-89e0-09575d70a1f3"
      },
      "execution_count": null,
      "outputs": [
        {
          "output_type": "display_data",
          "data": {
            "text/plain": [
              "<Figure size 432x288 with 1 Axes>"
            ],
            "image/png": "[encoded data removed]"
          },
          "metadata": {
            "needs_background": "light"
          }
        }
      ]
    }
  ]
}