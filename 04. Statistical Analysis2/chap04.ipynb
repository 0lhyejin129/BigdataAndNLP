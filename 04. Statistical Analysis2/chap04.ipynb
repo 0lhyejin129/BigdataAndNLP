{
  "nbformat": 4,
  "nbformat_minor": 0,
  "metadata": {
    "kernelspec": {
      "display_name": "Python 3",
      "language": "python",
      "name": "python3"
    },
    "language_info": {
      "codemirror_mode": {
        "name": "ipython",
        "version": 3
      },
      "file_extension": ".py",
      "mimetype": "text/x-python",
      "name": "python",
      "nbconvert_exporter": "python",
      "pygments_lexer": "ipython3",
      "version": "3.7.4"
    },
    "toc": {
      "nav_menu": {},
      "number_sections": true,
      "sideBar": true,
      "skip_h1_title": false,
      "toc_cell": false,
      "toc_position": {},
      "toc_section_display": "block",
      "toc_window_display": false
    },
    "colab": {
      "name": "chap04.ipynb",
      "provenance": [],
      "collapsed_sections": []
    }
  },
  "cells": [
    {
      "cell_type": "markdown",
      "metadata": {
        "id": "p41OiSZ068bk"
      },
      "source": [
        "# 추측통계의 기본"
      ]
    },
    {
      "cell_type": "markdown",
      "source": [
        "## 4.0 준비"
      ],
      "metadata": {
        "id": "Z5ftt5VW95MT"
      }
    },
    {
      "cell_type": "markdown",
      "source": [
        "### 추측 통계에 대한 이해\n",
        "- 일부 데이터를 수집해 전체 데이터를 추측할 수 있을까?\n",
        "- 일부 관측 데이터와 전체 모집단의 대푯값들은 어떤 상관관계가 있을까?\n",
        "- 표본의 분포를 이용해 모집단의 분포와 백분율을 예측할 수 있을까? 얼마나 정확할까?\n",
        "\n",
        "- 추측 통계 : '일부' 데이터로부터 '전체'의 통계적 성질을 추측"
      ],
      "metadata": {
        "id": "eHFX0Xgm97nQ"
      }
    },
    {
      "cell_type": "code",
      "metadata": {
        "ExecuteTime": {
          "end_time": "2018-08-18T08:14:56.358857Z",
          "start_time": "2018-08-18T08:14:56.124816Z"
        },
        "id": "wvQVY8tT68bq"
      },
      "source": [
        "import numpy as np\n",
        "import pandas as pd\n",
        "import matplotlib.pyplot as plt\n",
        "\n",
        "%precision 3\n",
        "%matplotlib inline"
      ],
      "execution_count": 1,
      "outputs": []
    },
    {
      "cell_type": "code",
      "metadata": {
        "ExecuteTime": {
          "end_time": "2018-08-18T08:15:59.206470Z",
          "start_time": "2018-08-18T08:15:59.202081Z"
        },
        "id": "Nwars9uI68br",
        "colab": {
          "base_uri": "https://localhost:8080/"
        },
        "outputId": "7829603e-ce11-463b-bc28-2d985d109832"
      },
      "source": [
        "df = pd.read_csv('./sample_data/ch4_scores400.csv')\n",
        "scores = np.array(df['score'])\n",
        "scores[:10]"
      ],
      "execution_count": 3,
      "outputs": [
        {
          "output_type": "execute_result",
          "data": {
            "text/plain": [
              "array([76, 55, 80, 80, 74, 61, 81, 76, 23, 80])"
            ]
          },
          "metadata": {},
          "execution_count": 3
        }
      ]
    },
    {
      "cell_type": "markdown",
      "metadata": {
        "ExecuteTime": {
          "end_time": "2018-03-06T03:37:40.696920Z",
          "start_time": "2018-03-06T03:37:40.690655Z"
        },
        "id": "UtepEFK468bq"
      },
      "source": [
        "## 4.1 모집단과 표본"
      ]
    },
    {
      "cell_type": "markdown",
      "source": [
        "### 0) 모집단과 표본\n",
        "- 모집단 : 추측하고 싶은 관측 대상 전체\n",
        "- 표본 : 추측에 사용하는 관측 대상의 일부분\n",
        "- 표본크기 : 표본의 수\n",
        "- 표본통계량(표본분산, 불편분산) --추정--> 모수(모평균, 모분산)"
      ],
      "metadata": {
        "id": "4AcVXJ-S-jOa"
      }
    },
    {
      "cell_type": "markdown",
      "metadata": {
        "id": "SVw3coy768bq"
      },
      "source": [
        "### 1) 표본의 추출방법\n",
        "- 무작위 추출(임의 추출) : 임의로 표본을 선택 (편향이 일어나지 않음)\n",
        "- 복원추출 : 동일한 표본 여러 차례 선택\n",
        "```\n",
        "np.random.choice(배열, 개수)\n",
        "```\n",
        "- 비복원추출 : 동일한 표본은 한 번만 선택\n",
        "```\n",
        "np.random.choice(배열, 개수, replace=False)\n",
        "```\n",
        "- 시드를 0으로 하는 무작위 추출 : 매번 동일한 결과\n",
        "```\n",
        "np.random.seed(0)\n",
        "```\n",
        "- 표본크기 있는 복원추출\n",
        "```\n",
        "np.random.choice(배열, 표본크기)\n",
        "```"
      ]
    },
    {
      "cell_type": "code",
      "metadata": {
        "ExecuteTime": {
          "end_time": "2018-08-14T06:47:18.710063Z",
          "start_time": "2018-08-14T06:47:18.706621Z"
        },
        "id": "bufEUTYB68bs",
        "colab": {
          "base_uri": "https://localhost:8080/"
        },
        "outputId": "3dc0653b-9073-41bc-bb36-2b1254240ae5"
      },
      "source": [
        "# 복원추출\n",
        "\n",
        "np.random.choice([1, 2, 3], 3)"
      ],
      "execution_count": 4,
      "outputs": [
        {
          "output_type": "execute_result",
          "data": {
            "text/plain": [
              "array([2, 3, 3])"
            ]
          },
          "metadata": {},
          "execution_count": 4
        }
      ]
    },
    {
      "cell_type": "code",
      "metadata": {
        "ExecuteTime": {
          "end_time": "2018-08-14T06:47:18.714348Z",
          "start_time": "2018-08-14T06:47:18.711029Z"
        },
        "id": "DMeUZw2f68bs",
        "colab": {
          "base_uri": "https://localhost:8080/"
        },
        "outputId": "3f26dca0-d3db-40d5-d5c2-60d823fee1be"
      },
      "source": [
        "# 비복원추출\n",
        "\n",
        "np.random.choice([1, 2, 3], 3, replace=False)   # replace=False : 복원 없이"
      ],
      "execution_count": 5,
      "outputs": [
        {
          "output_type": "execute_result",
          "data": {
            "text/plain": [
              "array([1, 3, 2])"
            ]
          },
          "metadata": {},
          "execution_count": 5
        }
      ]
    },
    {
      "cell_type": "code",
      "metadata": {
        "ExecuteTime": {
          "end_time": "2018-08-14T06:47:18.718669Z",
          "start_time": "2018-08-14T06:47:18.715323Z"
        },
        "id": "3yVepCjX68bt",
        "colab": {
          "base_uri": "https://localhost:8080/"
        },
        "outputId": "e8162934-488e-4a9d-9b71-a557b9abd791"
      },
      "source": [
        "# 시드 부여 -> 무작위 추출 시 동일한 결과가 나옴\n",
        "\n",
        "np.random.seed(0)\n",
        "np.random.choice([1, 2, 3], 3)"
      ],
      "execution_count": 7,
      "outputs": [
        {
          "output_type": "execute_result",
          "data": {
            "text/plain": [
              "array([1, 2, 1])"
            ]
          },
          "metadata": {},
          "execution_count": 7
        }
      ]
    },
    {
      "cell_type": "code",
      "metadata": {
        "ExecuteTime": {
          "end_time": "2018-08-14T06:47:18.722968Z",
          "start_time": "2018-08-14T06:47:18.719676Z"
        },
        "id": "br_cT3Zq68bt",
        "colab": {
          "base_uri": "https://localhost:8080/"
        },
        "outputId": "d3d416af-7405-402f-9538-1acc349ca024"
      },
      "source": [
        "# 표본크기 20으로 복원추출\n",
        "\n",
        "np.random.seed(0)\n",
        "sample = np.random.choice(scores, 20)\n",
        "\n",
        "sample.mean()       # 표본평균 : 70.04"
      ],
      "execution_count": 8,
      "outputs": [
        {
          "output_type": "execute_result",
          "data": {
            "text/plain": [
              "70.400"
            ]
          },
          "metadata": {},
          "execution_count": 8
        }
      ]
    },
    {
      "cell_type": "code",
      "metadata": {
        "ExecuteTime": {
          "end_time": "2018-08-14T06:47:18.726978Z",
          "start_time": "2018-08-14T06:47:18.724063Z"
        },
        "id": "-b9akJoR68bt",
        "colab": {
          "base_uri": "https://localhost:8080/"
        },
        "outputId": "0758eb4f-451b-4f2f-be7d-4d7b14e90016"
      },
      "source": [
        "scores.mean()       # 모평균 : 69.53"
      ],
      "execution_count": 9,
      "outputs": [
        {
          "output_type": "execute_result",
          "data": {
            "text/plain": [
              "69.530"
            ]
          },
          "metadata": {},
          "execution_count": 9
        }
      ]
    },
    {
      "cell_type": "code",
      "metadata": {
        "ExecuteTime": {
          "end_time": "2018-08-14T06:47:18.731373Z",
          "start_time": "2018-08-14T06:47:18.727854Z"
        },
        "id": "tzvkwD1068bt",
        "colab": {
          "base_uri": "https://localhost:8080/"
        },
        "outputId": "d05c787e-1925-434d-8b80-91a3f5b820c6"
      },
      "source": [
        "# 무작위추출\n",
        "\n",
        "for i in range(5):\n",
        "    sample = np.random.choice(scores, 20)\n",
        "    print(f'{i+1}번째 무작위 추출로 얻은 표본평균', sample.mean())"
      ],
      "execution_count": 10,
      "outputs": [
        {
          "output_type": "stream",
          "name": "stdout",
          "text": [
            "1번째 무작위 추출로 얻은 표본평균 72.45\n",
            "2번째 무작위 추출로 얻은 표본평균 63.7\n",
            "3번째 무작위 추출로 얻은 표본평균 66.05\n",
            "4번째 무작위 추출로 얻은 표본평균 71.7\n",
            "5번째 무작위 추출로 얻은 표본평균 74.15\n"
          ]
        }
      ]
    },
    {
      "cell_type": "markdown",
      "metadata": {
        "id": "34MHjCdN68bu"
      },
      "source": [
        "## 4.2 확률 모델"
      ]
    },
    {
      "cell_type": "markdown",
      "metadata": {
        "id": "TCi2dYVU68bu"
      },
      "source": [
        "### 1) 확률의 기본\n",
        "- 확률 : 무작위 추출과 같은 불확정을 수반한 '현상'을 해석\n",
        "\n",
        "\n",
        "\n"
      ]
    },
    {
      "cell_type": "markdown",
      "source": [
        "- 🌟🌟확률모형 : 무작위 추출 혹은 주사위를 '모델링'<br>\n",
        "예) 주사위 확률 모형"
      ],
      "metadata": {
        "id": "V9FmCnWKBqNl"
      }
    },
    {
      "cell_type": "markdown",
      "source": [
        "- 🌟🌟확률변수 : 결과를 알아맞힐 수는 없지만, 취하는 값과 '그 값이 나올 확률'이 결정되어 있는 것<br>\n",
        "예) 주사위 값이 나올 확률=1/6"
      ],
      "metadata": {
        "id": "own3kzGiBn6j"
      }
    },
    {
      "cell_type": "markdown",
      "source": [
        "- 확률분포 : 확률모형에 의해 결정된 확률변수가 나타내는 '분포'\n"
      ],
      "metadata": {
        "id": "JHO8Z-fqBmwF"
      }
    },
    {
      "cell_type": "markdown",
      "source": [
        "- 시행 : 확률변수의 결과를 '관측'하는 것<br>\n",
        "예) 주사위를 던지는 행위\n"
      ],
      "metadata": {
        "id": "p8xK3iDwBzFV"
      }
    },
    {
      "cell_type": "markdown",
      "source": [
        "- 실현값 : 시행에 의해 관측되는 '값'"
      ],
      "metadata": {
        "id": "fNvpA37wBztt"
      }
    },
    {
      "cell_type": "markdown",
      "source": [
        "- 사건 : 시행결과로 나타낼 수 있는 '값'<br>\n",
        "예) 눈이 1이 되는 사건의 확률<br>\n",
        "P(X=1) = 1/6 : 확률변수 X가 1일 확률은 1/6<br>\n",
        "예) 눈이 홀수인 사건의 확률<br>\n",
        "P((X=1) ∪ (X=3) ∪ (X=5)) = 1/6 + 1/6 + 1/6 = 1/2"
      ],
      "metadata": {
        "id": "dIhfO9EIBMbp"
      }
    },
    {
      "cell_type": "markdown",
      "source": [
        "- 근원사건 : 세부적으로 더 분해될 수 없는 사건<br>\n",
        "예) 눈이 1 --> 더 이상 분해될 수 없음"
      ],
      "metadata": {
        "id": "RK5GMM33BHUd"
      }
    },
    {
      "cell_type": "markdown",
      "source": [
        "- 상호배반 : 동시에 일어날 수 없는 사건<br>\n",
        "예) 눈이 1 또는 2 또는 3 --> 일어날 수 없음"
      ],
      "metadata": {
        "id": "8rptkftaBCWF"
      }
    },
    {
      "cell_type": "markdown",
      "metadata": {
        "ExecuteTime": {
          "end_time": "2018-03-06T10:06:25.135659Z",
          "start_time": "2018-03-06T10:06:25.129307Z"
        },
        "id": "6O8-cotP68bu"
      },
      "source": [
        "### 2) 확률분포\n",
        "확률변수가 어떻게 움직이는지를 나타낸 것<br>\n",
        "예) 불공정한 주사위의 시행"
      ]
    },
    {
      "cell_type": "code",
      "metadata": {
        "ExecuteTime": {
          "end_time": "2018-08-14T06:47:18.735390Z",
          "start_time": "2018-08-14T06:47:18.732292Z"
        },
        "id": "9hj7_dcf68bu"
      },
      "source": [
        "# 불공정한 주사위 : 눈에 따라 확률이 다름\n",
        "\n",
        "dice = [1, 2, 3, 4, 5, 6]\n",
        "prob = [1/21, 2/21, 3/21, 4/21, 5/21, 6/21] # 다 더하면 1"
      ],
      "execution_count": 11,
      "outputs": []
    },
    {
      "cell_type": "code",
      "metadata": {
        "ExecuteTime": {
          "end_time": "2018-08-14T06:47:18.740013Z",
          "start_time": "2018-08-14T06:47:18.736262Z"
        },
        "id": "PPuUKgiv68bu",
        "colab": {
          "base_uri": "https://localhost:8080/"
        },
        "outputId": "26cbc53c-25e4-4344-aabc-dbb7fb6abc03"
      },
      "source": [
        "np.random.choice(dice, p=prob)                          # 랜덤으로 눈 고르기"
      ],
      "execution_count": 20,
      "outputs": [
        {
          "output_type": "execute_result",
          "data": {
            "text/plain": [
              "5"
            ]
          },
          "metadata": {},
          "execution_count": 20
        }
      ]
    },
    {
      "cell_type": "code",
      "metadata": {
        "ExecuteTime": {
          "end_time": "2018-08-14T06:47:18.744199Z",
          "start_time": "2018-08-14T06:47:18.741030Z"
        },
        "id": "RDSU5Lk968bv",
        "colab": {
          "base_uri": "https://localhost:8080/"
        },
        "outputId": "846167b2-5a69-40f9-bd19-f094a39f4fd7"
      },
      "source": [
        "num_trial = 100                                         # 100번 시행\n",
        "sample = np.random.choice(dice, num_trial, p=prob)      # 랜덤으로 눈 100번 고르기\n",
        "sample"
      ],
      "execution_count": 22,
      "outputs": [
        {
          "output_type": "execute_result",
          "data": {
            "text/plain": [
              "array([5, 5, 5, 4, 5, 4, 2, 6, 2, 1, 6, 3, 3, 3, 5, 6, 3, 6, 1, 6, 5, 3,\n",
              "       6, 1, 5, 4, 6, 3, 6, 4, 6, 5, 5, 4, 5, 6, 6, 5, 5, 5, 3, 3, 6, 5,\n",
              "       4, 4, 1, 5, 4, 5, 3, 4, 6, 1, 6, 5, 2, 4, 5, 6, 4, 3, 4, 6, 6, 6,\n",
              "       5, 4, 5, 5, 1, 6, 5, 6, 4, 6, 4, 6, 5, 6, 6, 4, 4, 5, 5, 4, 5, 2,\n",
              "       5, 4, 1, 2, 2, 4, 3, 5, 6, 5, 5, 3])"
            ]
          },
          "metadata": {},
          "execution_count": 22
        }
      ]
    },
    {
      "cell_type": "markdown",
      "source": [
        "도수분포표와 히스토그램"
      ],
      "metadata": {
        "id": "RQwiFwGuDFT3"
      }
    },
    {
      "cell_type": "code",
      "metadata": {
        "ExecuteTime": {
          "end_time": "2018-08-14T06:47:18.752137Z",
          "start_time": "2018-08-14T06:47:18.745175Z"
        },
        "id": "Qx83Ocay68bv",
        "colab": {
          "base_uri": "https://localhost:8080/",
          "height": 269
        },
        "outputId": "1b84a63c-7b7c-4ec3-e55d-b0015d5280b2"
      },
      "source": [
        "freq, _ = np.histogram(sample, bins=6, range=(1, 7))\n",
        "pd.DataFrame({'frequency':freq,\n",
        "              'relative frequency':freq / num_trial},           # sum/5\n",
        "              index = pd.Index(np.arange(1, 7), name='dice'))"
      ],
      "execution_count": 23,
      "outputs": [
        {
          "output_type": "execute_result",
          "data": {
            "text/plain": [
              "      frequency  relative frequency\n",
              "dice                               \n",
              "1             7                0.07\n",
              "2             6                0.06\n",
              "3            12                0.12\n",
              "4            20                0.20\n",
              "5            30                0.30\n",
              "6            25                0.25"
            ],
            "text/html": [
              "\n",
              "  <div id=\"df-ed430ba0-c13e-4d80-b592-7e013962a0f5\">\n",
              "    <div class=\"colab-df-container\">\n",
              "      <div>\n",
              "<style scoped>\n",
              "    .dataframe tbody tr th:only-of-type {\n",
              "        vertical-align: middle;\n",
              "    }\n",
              "\n",
              "    .dataframe tbody tr th {\n",
              "        vertical-align: top;\n",
              "    }\n",
              "\n",
              "    .dataframe thead th {\n",
              "        text-align: right;\n",
              "    }\n",
              "</style>\n",
              "<table border=\"1\" class=\"dataframe\">\n",
              "  <thead>\n",
              "    <tr style=\"text-align: right;\">\n",
              "      <th></th>\n",
              "      <th>frequency</th>\n",
              "      <th>relative frequency</th>\n",
              "    </tr>\n",
              "    <tr>\n",
              "      <th>dice</th>\n",
              "      <th></th>\n",
              "      <th></th>\n",
              "    </tr>\n",
              "  </thead>\n",
              "  <tbody>\n",
              "    <tr>\n",
              "      <th>1</th>\n",
              "      <td>7</td>\n",
              "      <td>0.07</td>\n",
              "    </tr>\n",
              "    <tr>\n",
              "      <th>2</th>\n",
              "      <td>6</td>\n",
              "      <td>0.06</td>\n",
              "    </tr>\n",
              "    <tr>\n",
              "      <th>3</th>\n",
              "      <td>12</td>\n",
              "      <td>0.12</td>\n",
              "    </tr>\n",
              "    <tr>\n",
              "      <th>4</th>\n",
              "      <td>20</td>\n",
              "      <td>0.20</td>\n",
              "    </tr>\n",
              "    <tr>\n",
              "      <th>5</th>\n",
              "      <td>30</td>\n",
              "      <td>0.30</td>\n",
              "    </tr>\n",
              "    <tr>\n",
              "      <th>6</th>\n",
              "      <td>25</td>\n",
              "      <td>0.25</td>\n",
              "    </tr>\n",
              "  </tbody>\n",
              "</table>\n",
              "</div>\n",
              "      <button class=\"colab-df-convert\" onclick=\"convertToInteractive('df-ed430ba0-c13e-4d80-b592-7e013962a0f5')\"\n",
              "              title=\"Convert this dataframe to an interactive table.\"\n",
              "              style=\"display:none;\">\n",
              "        \n",
              "  <svg xmlns=\"http://www.w3.org/2000/svg\" height=\"24px\"viewBox=\"0 0 24 24\"\n",
              "       width=\"24px\">\n",
              "    <path d=\"M0 0h24v24H0V0z\" fill=\"none\"/>\n",
              "    <path d=\"M18.56 5.44l.94 2.06.94-2.06 2.06-.94-2.06-.94-.94-2.06-.94 2.06-2.06.94zm-11 1L8.5 8.5l.94-2.06 2.06-.94-2.06-.94L8.5 2.5l-.94 2.06-2.06.94zm10 10l.94 2.06.94-2.06 2.06-.94-2.06-.94-.94-2.06-.94 2.06-2.06.94z\"/><path d=\"M17.41 7.96l-1.37-1.37c-.4-.4-.92-.59-1.43-.59-.52 0-1.04.2-1.43.59L10.3 9.45l-7.72 7.72c-.78.78-.78 2.05 0 2.83L4 21.41c.39.39.9.59 1.41.59.51 0 1.02-.2 1.41-.59l7.78-7.78 2.81-2.81c.8-.78.8-2.07 0-2.86zM5.41 20L4 18.59l7.72-7.72 1.47 1.35L5.41 20z\"/>\n",
              "  </svg>\n",
              "      </button>\n",
              "      \n",
              "  <style>\n",
              "    .colab-df-container {\n",
              "      display:flex;\n",
              "      flex-wrap:wrap;\n",
              "      gap: 12px;\n",
              "    }\n",
              "\n",
              "    .colab-df-convert {\n",
              "      background-color: #E8F0FE;\n",
              "      border: none;\n",
              "      border-radius: 50%;\n",
              "      cursor: pointer;\n",
              "      display: none;\n",
              "      fill: #1967D2;\n",
              "      height: 32px;\n",
              "      padding: 0 0 0 0;\n",
              "      width: 32px;\n",
              "    }\n",
              "\n",
              "    .colab-df-convert:hover {\n",
              "      background-color: #E2EBFA;\n",
              "      box-shadow: 0px 1px 2px rgba(60, 64, 67, 0.3), 0px 1px 3px 1px rgba(60, 64, 67, 0.15);\n",
              "      fill: #174EA6;\n",
              "    }\n",
              "\n",
              "    [theme=dark] .colab-df-convert {\n",
              "      background-color: #3B4455;\n",
              "      fill: #D2E3FC;\n",
              "    }\n",
              "\n",
              "    [theme=dark] .colab-df-convert:hover {\n",
              "      background-color: #434B5C;\n",
              "      box-shadow: 0px 1px 3px 1px rgba(0, 0, 0, 0.15);\n",
              "      filter: drop-shadow(0px 1px 2px rgba(0, 0, 0, 0.3));\n",
              "      fill: #FFFFFF;\n",
              "    }\n",
              "  </style>\n",
              "\n",
              "      <script>\n",
              "        const buttonEl =\n",
              "          document.querySelector('#df-ed430ba0-c13e-4d80-b592-7e013962a0f5 button.colab-df-convert');\n",
              "        buttonEl.style.display =\n",
              "          google.colab.kernel.accessAllowed ? 'block' : 'none';\n",
              "\n",
              "        async function convertToInteractive(key) {\n",
              "          const element = document.querySelector('#df-ed430ba0-c13e-4d80-b592-7e013962a0f5');\n",
              "          const dataTable =\n",
              "            await google.colab.kernel.invokeFunction('convertToInteractive',\n",
              "                                                     [key], {});\n",
              "          if (!dataTable) return;\n",
              "\n",
              "          const docLinkHtml = 'Like what you see? Visit the ' +\n",
              "            '<a target=\"_blank\" href=https://colab.research.google.com/notebooks/data_table.ipynb>data table notebook</a>'\n",
              "            + ' to learn more about interactive tables.';\n",
              "          element.innerHTML = '';\n",
              "          dataTable['output_type'] = 'display_data';\n",
              "          await google.colab.output.renderOutput(dataTable, element);\n",
              "          const docLink = document.createElement('div');\n",
              "          docLink.innerHTML = docLinkHtml;\n",
              "          element.appendChild(docLink);\n",
              "        }\n",
              "      </script>\n",
              "    </div>\n",
              "  </div>\n",
              "  "
            ]
          },
          "metadata": {},
          "execution_count": 23
        }
      ]
    },
    {
      "cell_type": "code",
      "metadata": {
        "ExecuteTime": {
          "end_time": "2018-08-14T06:47:18.839357Z",
          "start_time": "2018-08-14T06:47:18.753130Z"
        },
        "id": "Gp6ztsM568bv",
        "colab": {
          "base_uri": "https://localhost:8080/",
          "height": 388
        },
        "outputId": "1d3530de-32b8-4101-c051-2bc863054ec1"
      },
      "source": [
        "fig = plt.figure(figsize=(10, 6))\n",
        "ax = fig.add_subplot(111)\n",
        "\n",
        "ax.hist(sample, bins=6, range=(1, 7), density=True, rwidth=0.8)         # 불공정한 주사위\n",
        "# 실제의 확률분포를 가로선으로 표시\n",
        "ax.hlines(prob, np.arange(1, 7), np.arange(2, 8), colors='gray')        # 공정한 주사위\n",
        "# 막대 그래프의 [1.5, 2.5, ..., 6.5]에 눈금을 표시\n",
        "ax.set_xticks(np.linspace(1.5, 6.5, 6))\n",
        "# 주사위 눈의 값은 [1, 2, 3, 4, 5, 6]\n",
        "ax.set_xticklabels(np.arange(1, 7))\n",
        "ax.set_xlabel('dice')\n",
        "ax.set_ylabel('relative frequency')\n",
        "plt.show()"
      ],
      "execution_count": 25,
      "outputs": [
        {
          "output_type": "display_data",
          "data": {
            "text/plain": [
              "<Figure size 720x432 with 1 Axes>"
            ],
            "image/png": "[encoded data removed]"
          },
          "metadata": {
            "needs_background": "light"
          }
        }
      ]
    },
    {
      "cell_type": "code",
      "metadata": {
        "ExecuteTime": {
          "end_time": "2018-08-14T06:47:18.937910Z",
          "start_time": "2018-08-14T06:47:18.840450Z"
        },
        "id": "VwC5Y4YT68bw",
        "colab": {
          "base_uri": "https://localhost:8080/",
          "height": 392
        },
        "outputId": "f08a440c-a6a3-4145-e68c-410a6f8f9338"
      },
      "source": [
        "# 10000번 시행하면 히스토그램은 실제 확률분포에 가까워짐 -> 직선이 막대와 거의 일치\n",
        "# --> 확률분포를 알면, 시행횟수를 높여서 모집단을 예측할 수 있다\n",
        "\n",
        "num_trial = 10000\n",
        "sample = np.random.choice(dice, size=num_trial, p=prob)\n",
        "\n",
        "fig = plt.figure(figsize=(10, 6))\n",
        "ax = fig.add_subplot(111)\n",
        "ax.hist(sample, bins=6, range=(1, 7), density=True, rwidth=0.8)\n",
        "ax.hlines(prob, np.arange(1, 7), np.arange(2, 8), colors='gray')\n",
        "ax.set_xticks(np.linspace(1.5, 6.5, 6))\n",
        "ax.set_xticklabels(np.arange(1, 7))\n",
        "ax.set_xlabel('dice')\n",
        "ax.set_ylabel('relative frequency')\n",
        "plt.show()"
      ],
      "execution_count": 26,
      "outputs": [
        {
          "output_type": "display_data",
          "data": {
            "text/plain": [
              "<Figure size 720x432 with 1 Axes>"
            ],
            "image/png": "[encoded data removed]"
          },
          "metadata": {
            "needs_background": "light"
          }
        }
      ]
    },
    {
      "cell_type": "markdown",
      "metadata": {
        "id": "o8Q9bHZl68bw"
      },
      "source": [
        "## 4.3 추측통계에서의 확률"
      ]
    },
    {
      "cell_type": "markdown",
      "source": [
        "무작위추출로 얻은 표본 데이터 얻어서 히스토그램 그리기<br>\n",
        "--> 표본의 크기가 커질수록 실제 확률분포에 근사"
      ],
      "metadata": {
        "id": "QL6tS_s_Et2x"
      }
    },
    {
      "cell_type": "code",
      "metadata": {
        "ExecuteTime": {
          "end_time": "2018-08-14T06:47:19.099892Z",
          "start_time": "2018-08-14T06:47:18.939207Z"
        },
        "id": "3KyUPQyJ68bw",
        "colab": {
          "base_uri": "https://localhost:8080/",
          "height": 388
        },
        "outputId": "786100d9-88f0-4f9f-e61a-fd42aa059ca4"
      },
      "source": [
        "# 계급폭을 1점으로 하는 히스토그램\n",
        "\n",
        "fig = plt.figure(figsize=(10, 6))\n",
        "ax = fig.add_subplot(111)\n",
        "ax.hist(scores, bins=100, range=(0, 100), density=True)\n",
        "ax.set_xlim(20, 100)\n",
        "ax.set_ylim(0, 0.042)\n",
        "ax.set_xlabel('score')\n",
        "ax.set_ylabel('relative frequency')\n",
        "plt.show()\n",
        "\n",
        "# 69점을 얻은 학생은 전교생의 0.04(4%)이므로\n",
        "# 무작위 추출을 하면 4% 확률로 69점이라는 표본 데이터 획득"
      ],
      "execution_count": 27,
      "outputs": [
        {
          "output_type": "display_data",
          "data": {
            "text/plain": [
              "<Figure size 720x432 with 1 Axes>"
            ],
            "image/png": "[encoded data removed]"
          },
          "metadata": {
            "needs_background": "light"
          }
        }
      ]
    },
    {
      "cell_type": "code",
      "metadata": {
        "ExecuteTime": {
          "end_time": "2018-08-14T06:47:19.103313Z",
          "start_time": "2018-08-14T06:47:19.100842Z"
        },
        "id": "8WkRIB_T68bw",
        "colab": {
          "base_uri": "https://localhost:8080/"
        },
        "outputId": "63bf64a9-613a-4ae9-9618-aabe23c27ab5"
      },
      "source": [
        "# 무작위추출로 얻은 표본 데이터\n",
        "\n",
        "np.random.choice(scores)"
      ],
      "execution_count": 28,
      "outputs": [
        {
          "output_type": "execute_result",
          "data": {
            "text/plain": [
              "91"
            ]
          },
          "metadata": {},
          "execution_count": 28
        }
      ]
    },
    {
      "cell_type": "code",
      "metadata": {
        "ExecuteTime": {
          "end_time": "2018-08-14T06:47:19.265020Z",
          "start_time": "2018-08-14T06:47:19.104243Z"
        },
        "id": "F0iuFKwm68bx",
        "colab": {
          "base_uri": "https://localhost:8080/",
          "height": 388
        },
        "outputId": "91f9035b-beed-49cc-ad95-b8ddf980d06f"
      },
      "source": [
        "# 무작위추출로 표본크기가 10000인 표본 추출\n",
        "# 시행횟수를 늘리면 상대도수는 실제 확률분포에 가까워짐\n",
        "# --> 무작위추출에서도 표본크기가 커지면 표본 데이터의 상대도수는 실제의 확률분포에 근사\n",
        "\n",
        "sample = np.random.choice(scores, 10000)    # scores에서 10000개 추출\n",
        "\n",
        "fig = plt.figure(figsize=(10, 6))\n",
        "ax = fig.add_subplot(111)\n",
        "ax.hist(sample, bins=100, range=(0, 100), density=True)\n",
        "ax.set_xlim(20, 100)\n",
        "ax.set_ylim(0, 0.042)\n",
        "ax.set_xlabel('score')\n",
        "ax.set_ylabel('relative frequency')\n",
        "plt.show()\n",
        "\n",
        "# 히스토그램이 실제 점수 분포에 가까움\n",
        "# --> 표본의 크기가 커지면 실제 분포에 수렴"
      ],
      "execution_count": 40,
      "outputs": [
        {
          "output_type": "display_data",
          "data": {
            "text/plain": [
              "<Figure size 720x432 with 1 Axes>"
            ],
            "image/png": "[encoded data removed]"
          },
          "metadata": {
            "needs_background": "light"
          }
        }
      ]
    },
    {
      "cell_type": "code",
      "source": [
        "# 연습 - 한 번에 그리기\n",
        "\n",
        "sample = np.random.choice(scores, 10000) #10000개 추출\n",
        "\n",
        "fig = plt.figure(figsize=(15,6))\n",
        "ax = fig.add_subplot(121)\n",
        "ax.hist(sample, bins=100, range=(0, 100), density=True)\n",
        "ax.set_xlim(20, 100)\n",
        "ax.set_ylim(0, 0.042)\n",
        "ax.set_xlabel('score')\n",
        "ax.set_ylabel('relative frequency')\n",
        "print(np.mean(sample))\n",
        "\n",
        "ax2 = fig.add_subplot(122)\n",
        "ax2.hist(scores, bins=100, range=(0, 100), density=True)\n",
        "ax2.set_xlim(20, 100)\n",
        "ax2.set_ylim(0, 0.042)\n",
        "ax2.set_xlabel('score')\n",
        "ax2.set_ylabel('relative frequency')\n",
        "print(np.mean(scores))\n",
        "plt.show()"
      ],
      "metadata": {
        "colab": {
          "base_uri": "https://localhost:8080/",
          "height": 423
        },
        "id": "6zVItE86FT1E",
        "outputId": "4eec5cfa-1501-40ab-e4fa-5c28d7d5cda2"
      },
      "execution_count": 46,
      "outputs": [
        {
          "output_type": "stream",
          "name": "stdout",
          "text": [
            "69.3241\n",
            "69.53\n"
          ]
        },
        {
          "output_type": "display_data",
          "data": {
            "text/plain": [
              "<Figure size 1080x432 with 2 Axes>"
            ],
            "image/png": "[encoded data removed]"
          },
          "metadata": {
            "needs_background": "light"
          }
        }
      ]
    },
    {
      "cell_type": "markdown",
      "source": [
        "표본크기가 20인 표본 추출하여 표본평균 구하기<br>\n",
        "--> 무작위추출에 의한 표본평균으로 모평균 추측 가능"
      ],
      "metadata": {
        "id": "_IAoH7nDE-Op"
      }
    },
    {
      "cell_type": "code",
      "metadata": {
        "ExecuteTime": {
          "end_time": "2018-08-14T06:47:19.591784Z",
          "start_time": "2018-08-14T06:47:19.266201Z"
        },
        "id": "9aiZmGtq68bx",
        "colab": {
          "base_uri": "https://localhost:8080/",
          "height": 423
        },
        "outputId": "df42552a-81a5-46d9-8220-0e61a46a37bf"
      },
      "source": [
        "# 표본크기가 20인 표본 추출하여 표본평균 구하기\n",
        "\n",
        "sample_means = [np.random.choice(scores, 20).mean()     # 표본크기 20개로 표본평균 구하기\n",
        "                for _ in range(10000)]                  # 10000번 시행\n",
        "\n",
        "fig = plt.figure(figsize=(10, 6))\n",
        "ax = fig.add_subplot(111)\n",
        "ax.hist(sample_means, bins=100, range=(0, 100), density=True)\n",
        "# 모평균을 세로선으로 표시\n",
        "ax.vlines(np.mean(scores), 0, 1, 'gray')\n",
        "ax.set_xlim(50, 90)\n",
        "ax.set_ylim(0, 0.13)\n",
        "ax.set_xlabel('score')\n",
        "ax.set_ylabel('relative frequency')\n",
        "plt.show()\n",
        "\n",
        "print('sample_means: ', np.mean(sample_means))          # 표본평균\n",
        "print('mean: ', np.mean(scores))                        # 모평균"
      ],
      "execution_count": 38,
      "outputs": [
        {
          "output_type": "display_data",
          "data": {
            "text/plain": [
              "<Figure size 720x432 with 1 Axes>"
            ],
            "image/png": "[encoded data removed]"
          },
          "metadata": {
            "needs_background": "light"
          }
        },
        {
          "output_type": "stream",
          "name": "stdout",
          "text": [
            "sample_means:  69.548845\n",
            "mean:  69.53\n"
          ]
        }
      ]
    }
  ]
}