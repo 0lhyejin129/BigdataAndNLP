{
  "nbformat": 4,
  "nbformat_minor": 0,
  "metadata": {
    "colab": {
      "name": "hello_prediction.ipynb",
      "provenance": [],
      "collapsed_sections": []
    },
    "kernelspec": {
      "name": "python3",
      "display_name": "Python 3"
    },
    "language_info": {
      "name": "python"
    }
  },
  "cells": [
    {
      "cell_type": "markdown",
      "source": [
        "## 🌿Machine Learning Code Process\n",
        "1. Import Package\n",
        "2. Data Preparation --> Define input & output\n",
        "<br>preprocessing(raw data, max-length, channel(image), ...)\n",
        "<br>return dataframe\n",
        "3. Model, Class\n",
        "<br> Init(input_size=2)\n",
        "<br>return longTensor().size() // (3, 3, 7) (batch, output, class)\n",
        "4. Loss, Optim, Hyperparameter\n",
        "5. Training Function(model, data, loss function, optimizer, ...)\n",
        "6. Validation \n",
        "7. Prediction\n",
        "8. Analysis"
      ],
      "metadata": {
        "id": "jPWiGxvavnYQ"
      }
    },
    {
      "cell_type": "markdown",
      "source": [
        "\n",
        "\n",
        "---\n",
        "\n"
      ],
      "metadata": {
        "id": "gNMs7sW9xyU1"
      }
    },
    {
      "cell_type": "markdown",
      "source": [
        "# 입력 문자열에 따른 다음 문자열 예측 모델 만들기\n",
        "- 예제) hello --> ello\n",
        "    - h --> e\n",
        "    - e --> l\n",
        "    - l --> l\n",
        "    - o --> ?"
      ],
      "metadata": {
        "id": "U6qbv1TAxzLp"
      }
    },
    {
      "cell_type": "markdown",
      "source": [
        "## 0. Install Packages"
      ],
      "metadata": {
        "id": "Rs5c65rpyVRA"
      }
    },
    {
      "cell_type": "code",
      "execution_count": 2,
      "metadata": {
        "id": "jsD4DDt7vb86"
      },
      "outputs": [],
      "source": [
        "import torch\n",
        "import torch.optim as optim\n",
        "import numpy as np\n",
        "import pandas as pd"
      ]
    },
    {
      "cell_type": "markdown",
      "source": [
        " ## 1. Data Prepreation"
      ],
      "metadata": {
        "id": "obsFt25-yl2U"
      }
    },
    {
      "cell_type": "code",
      "source": [
        "# 입력 데이터\n",
        "sample = \" if you want you\"\n",
        "type(sample) # str"
      ],
      "metadata": {
        "colab": {
          "base_uri": "https://localhost:8080/"
        },
        "id": "A6bALYTFycCa",
        "outputId": "e0000950-631e-45b0-c9bb-033bd6acdf08"
      },
      "execution_count": 30,
      "outputs": [
        {
          "output_type": "execute_result",
          "data": {
            "text/plain": [
              "str"
            ]
          },
          "metadata": {},
          "execution_count": 30
        }
      ]
    },
    {
      "cell_type": "code",
      "source": [
        "# 입력 데이터 char 단위로 자르기\n",
        "char_set = list(set(sample))    # char 단위로 sample 자르기 (dict -> list)\n",
        "char_set"
      ],
      "metadata": {
        "colab": {
          "base_uri": "https://localhost:8080/"
        },
        "id": "uz_6lWuXy4yW",
        "outputId": "5932aaef-3b6f-411d-81e2-7680bbc6b3b0"
      },
      "execution_count": 31,
      "outputs": [
        {
          "output_type": "execute_result",
          "data": {
            "text/plain": [
              "['y', ' ', 'a', 'n', 't', 'o', 'u', 'i', 'w', 'f']"
            ]
          },
          "metadata": {},
          "execution_count": 31
        }
      ]
    },
    {
      "cell_type": "code",
      "source": [
        "# 입력 데이터 인덱스 만들기\n",
        "char_dic = {char:idx for idx, char in enumerate(char_set)}\n",
        "char_dic"
      ],
      "metadata": {
        "colab": {
          "base_uri": "https://localhost:8080/"
        },
        "id": "9MmRx95by7qu",
        "outputId": "23221cd9-150f-4c42-a527-11d7615bbcc2"
      },
      "execution_count": 32,
      "outputs": [
        {
          "output_type": "execute_result",
          "data": {
            "text/plain": [
              "{' ': 1,\n",
              " 'a': 2,\n",
              " 'f': 9,\n",
              " 'i': 7,\n",
              " 'n': 3,\n",
              " 'o': 5,\n",
              " 't': 4,\n",
              " 'u': 6,\n",
              " 'w': 8,\n",
              " 'y': 0}"
            ]
          },
          "metadata": {},
          "execution_count": 32
        }
      ]
    },
    {
      "cell_type": "code",
      "source": [
        "# hyperparameter 정의\n",
        "dic_size = len(char_dic) # 10\n",
        "hidden_size = len(char_dic) # 10\n",
        "learning_rate = 0.1"
      ],
      "metadata": {
        "id": "hdLR2-0E0Clk"
      },
      "execution_count": 33,
      "outputs": []
    },
    {
      "cell_type": "code",
      "source": [
        "# index로 바꾸기\n",
        "sample_idx = [char_dic[c] for c in sample]  # sample char를 index로 바꿈\n",
        "sample_idx  # [1, 7, 9, 1, 0, 5, 6, 1, 8, 2, 3, 4, 1, 0, 5, 6]\n",
        "\n",
        "x_data = [sample_idx[:-1]] # 마지막만 제외하고 가져옴\n",
        "x_data # [[1, 7, 9, 1, 0, 5, 6, 1, 8, 2, 3, 4, 1, 0, 5]]\n",
        "\n",
        "x_one_hot = [np.eye(dic_size)[x] for x in x_data]   # np.eye : one-hot encoding\n",
        "x_one_hot # [array([[0., 1., 0., 0., 0., 0., 0., 0., 0., 0.],\n",
        "\n",
        "y_data = [sample_idx[1:]] # 처음만 제외하고 가져옴\n",
        "y_data # [[7, 9, 1, 0, 5, 6, 1, 8, 2, 3, 4, 1, 0, 5, 6]]"
      ],
      "metadata": {
        "id": "6Hj3xJ8ZzstK"
      },
      "execution_count": null,
      "outputs": []
    },
    {
      "cell_type": "code",
      "source": [
        "# 형변환 (pytorch long이나 float 형태만 연산이 가능)\n",
        "X = torch.FloatTensor(x_one_hot)   # x_one_hot 형변환\n",
        "X # tensor([[[0., 1., 0., 0., 0., 0., 0., 0., 0., 0.],\n",
        "\n",
        "Y = torch.LongTensor(y_data) # y_data 형변환\n",
        "Y # tensor([[7, 9, 1, 0, 5, 6, 1, 8, 2, 3, 4, 1, 0, 5, 6]])"
      ],
      "metadata": {
        "id": "Fwu5kSGc1WQg"
      },
      "execution_count": null,
      "outputs": []
    },
    {
      "cell_type": "markdown",
      "source": [
        "## 3. Model Implimentation\n",
        "* 참고 : https://pytorch.org/docs/stable/generated/torch.nn.RNN.html\n",
        "\n",
        "```\n",
        "rnn = torch.nn.RNN(10, 20, 2, batch_first=True)\n",
        "input = torch.randn(5, 3, 10)\n",
        "h0 = torch.randn(2, 3, 20)\n",
        "output, hn = rnn(input, h0)\n",
        "```\n",
        "\n",
        "- RNN(input_size, hidden_size)\n",
        "- input_size : 하나의 x 값이 몇 차원인지?\n",
        "- sequence_size : 한 번에 넣는 수"
      ],
      "metadata": {
        "id": "iOKexnyY2SfJ"
      }
    },
    {
      "cell_type": "code",
      "source": [
        "# RNN model\n",
        "input_size = 10   # 10\n",
        "hidden_size = 10\n",
        "rnn = torch.nn.RNN(input_size, hidden_size, batch_first=True)\n",
        "input = torch.randn(1, 5, input_size) # input : batch_size, sequence_size, dimension = (1, 5, 10)\n",
        "output, h0 = rnn(input)               # output: batch_size, seqeunce_size, hidden_size = (1, 5, 20)"
      ],
      "metadata": {
        "id": "03NudrXa2U0K"
      },
      "execution_count": 94,
      "outputs": []
    },
    {
      "cell_type": "code",
      "source": [
        "# loss\n",
        "criterion = torch.nn.CrossEntropyLoss()\n",
        "\n",
        "# optimizer\n",
        "optimizer = optim.Adam(rnn.parameters(), lr=0.001)"
      ],
      "metadata": {
        "id": "aqf-p0BI230O"
      },
      "execution_count": 95,
      "outputs": []
    },
    {
      "cell_type": "code",
      "source": [
        "# declare RNN\n",
        "rnn.train() # train mode\n",
        "optimizer.zero_grad() # initialize gradient\n",
        "output, _ = rnn(X) # input: X\n",
        "print(output.size()) # torch.Size([1, 15, 20])\n",
        "print(X.size())      # torch.Size([1, 15, 10])"
      ],
      "metadata": {
        "colab": {
          "base_uri": "https://localhost:8080/"
        },
        "id": "RngI-XA05yrK",
        "outputId": "f85f3f3d-ebdb-4ea1-87ac-421dceb6e2b4"
      },
      "execution_count": 96,
      "outputs": [
        {
          "output_type": "stream",
          "name": "stdout",
          "text": [
            "torch.Size([1, 15, 10])\n",
            "torch.Size([1, 15, 10])\n"
          ]
        }
      ]
    },
    {
      "cell_type": "code",
      "source": [
        "# start training\n",
        "for i in range(200):\n",
        "    rnn.train()                         # train mode\n",
        "    optimizer.zero_grad()               # initialize gradient\n",
        "    output, _ = rnn(X)                  # input: X\n",
        "    # print(output.size())                # torch.Size([1, 15, 10])\n",
        "    # print(Y.size())                     # torch.Size([1, 15])\n",
        "    # print(output.view(-1, 10).size())   # torch.Size([15, 10])\n",
        "    # print(Y.view(-1).size())            # torch.Size([15])\n",
        "\n",
        "    loss = criterion(output.view(-1, 10), Y.view(-1)) # prediction, correct\n",
        "    loss.backward() # calc gradient\n",
        "    optimizer.step()\n",
        "\n",
        "    result = output.data.numpy().argmax(axis=2)\n",
        "    result_str = ''.join([char_set[c] for c in np.squeeze(result)])\n",
        "    print(i, \"loss: \", loss.item(), \"prediction: \", result, \"true Y: \", y_data, \"prediction str: \", result_str)"
      ],
      "metadata": {
        "colab": {
          "base_uri": "https://localhost:8080/"
        },
        "id": "u1sw53RC5Sw0",
        "outputId": "b2ee9983-12bc-467d-e0fa-5e64481dadfa"
      },
      "execution_count": 104,
      "outputs": [
        {
          "output_type": "stream",
          "name": "stdout",
          "text": [
            "0 loss:  1.056679606437683 prediction:  [[7 9 1 0 5 6 1 8 2 3 4 1 0 5 6]] true Y:  [[7, 9, 1, 0, 5, 6, 1, 8, 2, 3, 4, 1, 0, 5, 6]] prediction str:  if you want you\n",
            "1 loss:  1.0561991930007935 prediction:  [[7 9 1 0 5 6 1 8 2 3 4 1 0 5 6]] true Y:  [[7, 9, 1, 0, 5, 6, 1, 8, 2, 3, 4, 1, 0, 5, 6]] prediction str:  if you want you\n",
            "2 loss:  1.0557199716567993 prediction:  [[7 9 1 0 5 6 1 8 2 3 4 1 0 5 6]] true Y:  [[7, 9, 1, 0, 5, 6, 1, 8, 2, 3, 4, 1, 0, 5, 6]] prediction str:  if you want you\n",
            "3 loss:  1.0552424192428589 prediction:  [[7 9 1 0 5 6 1 8 2 3 4 1 0 5 6]] true Y:  [[7, 9, 1, 0, 5, 6, 1, 8, 2, 3, 4, 1, 0, 5, 6]] prediction str:  if you want you\n",
            "4 loss:  1.0547661781311035 prediction:  [[7 9 1 0 5 6 1 8 2 3 4 1 0 5 6]] true Y:  [[7, 9, 1, 0, 5, 6, 1, 8, 2, 3, 4, 1, 0, 5, 6]] prediction str:  if you want you\n",
            "5 loss:  1.0542912483215332 prediction:  [[7 9 1 0 5 6 1 8 2 3 4 1 0 5 6]] true Y:  [[7, 9, 1, 0, 5, 6, 1, 8, 2, 3, 4, 1, 0, 5, 6]] prediction str:  if you want you\n",
            "6 loss:  1.0538179874420166 prediction:  [[7 9 1 0 5 6 1 8 2 3 4 1 0 5 6]] true Y:  [[7, 9, 1, 0, 5, 6, 1, 8, 2, 3, 4, 1, 0, 5, 6]] prediction str:  if you want you\n",
            "7 loss:  1.053346037864685 prediction:  [[7 9 1 0 5 6 1 8 2 3 4 1 0 5 6]] true Y:  [[7, 9, 1, 0, 5, 6, 1, 8, 2, 3, 4, 1, 0, 5, 6]] prediction str:  if you want you\n",
            "8 loss:  1.0528755187988281 prediction:  [[7 9 1 0 5 6 1 8 2 3 4 1 0 5 6]] true Y:  [[7, 9, 1, 0, 5, 6, 1, 8, 2, 3, 4, 1, 0, 5, 6]] prediction str:  if you want you\n",
            "9 loss:  1.0524063110351562 prediction:  [[7 9 1 0 5 6 1 8 2 3 4 1 0 5 6]] true Y:  [[7, 9, 1, 0, 5, 6, 1, 8, 2, 3, 4, 1, 0, 5, 6]] prediction str:  if you want you\n",
            "10 loss:  1.0519386529922485 prediction:  [[7 9 1 0 5 6 1 8 2 3 4 1 0 5 6]] true Y:  [[7, 9, 1, 0, 5, 6, 1, 8, 2, 3, 4, 1, 0, 5, 6]] prediction str:  if you want you\n",
            "11 loss:  1.0514720678329468 prediction:  [[7 9 1 0 5 6 1 8 2 3 4 1 0 5 6]] true Y:  [[7, 9, 1, 0, 5, 6, 1, 8, 2, 3, 4, 1, 0, 5, 6]] prediction str:  if you want you\n",
            "12 loss:  1.0510069131851196 prediction:  [[7 9 1 0 5 6 1 8 2 3 4 1 0 5 6]] true Y:  [[7, 9, 1, 0, 5, 6, 1, 8, 2, 3, 4, 1, 0, 5, 6]] prediction str:  if you want you\n",
            "13 loss:  1.0505434274673462 prediction:  [[7 9 1 0 5 6 1 8 2 3 4 1 0 5 6]] true Y:  [[7, 9, 1, 0, 5, 6, 1, 8, 2, 3, 4, 1, 0, 5, 6]] prediction str:  if you want you\n",
            "14 loss:  1.0500810146331787 prediction:  [[7 9 1 0 5 6 1 8 2 3 4 1 0 5 6]] true Y:  [[7, 9, 1, 0, 5, 6, 1, 8, 2, 3, 4, 1, 0, 5, 6]] prediction str:  if you want you\n",
            "15 loss:  1.0496199131011963 prediction:  [[7 9 1 0 5 6 1 8 2 3 4 1 0 5 6]] true Y:  [[7, 9, 1, 0, 5, 6, 1, 8, 2, 3, 4, 1, 0, 5, 6]] prediction str:  if you want you\n",
            "16 loss:  1.049160361289978 prediction:  [[7 9 1 0 5 6 1 8 2 3 4 1 0 5 6]] true Y:  [[7, 9, 1, 0, 5, 6, 1, 8, 2, 3, 4, 1, 0, 5, 6]] prediction str:  if you want you\n",
            "17 loss:  1.0487021207809448 prediction:  [[7 9 1 0 5 6 1 8 2 3 4 1 0 5 6]] true Y:  [[7, 9, 1, 0, 5, 6, 1, 8, 2, 3, 4, 1, 0, 5, 6]] prediction str:  if you want you\n",
            "18 loss:  1.0482453107833862 prediction:  [[7 9 1 0 5 6 1 8 2 3 4 1 0 5 6]] true Y:  [[7, 9, 1, 0, 5, 6, 1, 8, 2, 3, 4, 1, 0, 5, 6]] prediction str:  if you want you\n",
            "19 loss:  1.0477896928787231 prediction:  [[7 9 1 0 5 6 1 8 2 3 4 1 0 5 6]] true Y:  [[7, 9, 1, 0, 5, 6, 1, 8, 2, 3, 4, 1, 0, 5, 6]] prediction str:  if you want you\n",
            "20 loss:  1.0473352670669556 prediction:  [[7 9 1 0 5 6 1 8 2 3 4 1 0 5 6]] true Y:  [[7, 9, 1, 0, 5, 6, 1, 8, 2, 3, 4, 1, 0, 5, 6]] prediction str:  if you want you\n",
            "21 loss:  1.0468822717666626 prediction:  [[7 9 1 0 5 6 1 8 2 3 4 1 0 5 6]] true Y:  [[7, 9, 1, 0, 5, 6, 1, 8, 2, 3, 4, 1, 0, 5, 6]] prediction str:  if you want you\n",
            "22 loss:  1.0464304685592651 prediction:  [[7 9 1 0 5 6 1 8 2 3 4 1 0 5 6]] true Y:  [[7, 9, 1, 0, 5, 6, 1, 8, 2, 3, 4, 1, 0, 5, 6]] prediction str:  if you want you\n",
            "23 loss:  1.0459800958633423 prediction:  [[7 9 1 0 5 6 1 8 2 3 4 1 0 5 6]] true Y:  [[7, 9, 1, 0, 5, 6, 1, 8, 2, 3, 4, 1, 0, 5, 6]] prediction str:  if you want you\n",
            "24 loss:  1.045531153678894 prediction:  [[7 9 1 0 5 6 1 8 2 3 4 1 0 5 6]] true Y:  [[7, 9, 1, 0, 5, 6, 1, 8, 2, 3, 4, 1, 0, 5, 6]] prediction str:  if you want you\n",
            "25 loss:  1.0450834035873413 prediction:  [[7 9 1 0 5 6 1 8 2 3 4 1 0 5 6]] true Y:  [[7, 9, 1, 0, 5, 6, 1, 8, 2, 3, 4, 1, 0, 5, 6]] prediction str:  if you want you\n",
            "26 loss:  1.044636607170105 prediction:  [[7 9 1 0 5 6 1 8 2 3 4 1 0 5 6]] true Y:  [[7, 9, 1, 0, 5, 6, 1, 8, 2, 3, 4, 1, 0, 5, 6]] prediction str:  if you want you\n",
            "27 loss:  1.0441914796829224 prediction:  [[7 9 1 0 5 6 1 8 2 3 4 1 0 5 6]] true Y:  [[7, 9, 1, 0, 5, 6, 1, 8, 2, 3, 4, 1, 0, 5, 6]] prediction str:  if you want you\n",
            "28 loss:  1.0437474250793457 prediction:  [[7 9 1 0 5 6 1 8 2 3 4 1 0 5 6]] true Y:  [[7, 9, 1, 0, 5, 6, 1, 8, 2, 3, 4, 1, 0, 5, 6]] prediction str:  if you want you\n",
            "29 loss:  1.0433048009872437 prediction:  [[7 9 1 0 5 6 1 8 2 3 4 1 0 5 6]] true Y:  [[7, 9, 1, 0, 5, 6, 1, 8, 2, 3, 4, 1, 0, 5, 6]] prediction str:  if you want you\n",
            "30 loss:  1.0428632497787476 prediction:  [[7 9 1 0 5 6 1 8 2 3 4 1 0 5 6]] true Y:  [[7, 9, 1, 0, 5, 6, 1, 8, 2, 3, 4, 1, 0, 5, 6]] prediction str:  if you want you\n",
            "31 loss:  1.042423129081726 prediction:  [[7 9 1 0 5 6 1 8 2 3 4 1 0 5 6]] true Y:  [[7, 9, 1, 0, 5, 6, 1, 8, 2, 3, 4, 1, 0, 5, 6]] prediction str:  if you want you\n",
            "32 loss:  1.041983962059021 prediction:  [[7 9 1 0 5 6 1 8 2 3 4 1 0 5 6]] true Y:  [[7, 9, 1, 0, 5, 6, 1, 8, 2, 3, 4, 1, 0, 5, 6]] prediction str:  if you want you\n",
            "33 loss:  1.04154634475708 prediction:  [[7 9 1 0 5 6 1 8 2 3 4 1 0 5 6]] true Y:  [[7, 9, 1, 0, 5, 6, 1, 8, 2, 3, 4, 1, 0, 5, 6]] prediction str:  if you want you\n",
            "34 loss:  1.0411099195480347 prediction:  [[7 9 1 0 5 6 1 8 2 3 4 1 0 5 6]] true Y:  [[7, 9, 1, 0, 5, 6, 1, 8, 2, 3, 4, 1, 0, 5, 6]] prediction str:  if you want you\n",
            "35 loss:  1.0406745672225952 prediction:  [[7 9 1 0 5 6 1 8 2 3 4 1 0 5 6]] true Y:  [[7, 9, 1, 0, 5, 6, 1, 8, 2, 3, 4, 1, 0, 5, 6]] prediction str:  if you want you\n",
            "36 loss:  1.0402404069900513 prediction:  [[7 9 1 0 5 6 1 8 2 3 4 1 0 5 6]] true Y:  [[7, 9, 1, 0, 5, 6, 1, 8, 2, 3, 4, 1, 0, 5, 6]] prediction str:  if you want you\n",
            "37 loss:  1.039807677268982 prediction:  [[7 9 1 0 5 6 1 8 2 3 4 1 0 5 6]] true Y:  [[7, 9, 1, 0, 5, 6, 1, 8, 2, 3, 4, 1, 0, 5, 6]] prediction str:  if you want you\n",
            "38 loss:  1.0393760204315186 prediction:  [[7 9 1 0 5 6 1 8 2 3 4 1 0 5 6]] true Y:  [[7, 9, 1, 0, 5, 6, 1, 8, 2, 3, 4, 1, 0, 5, 6]] prediction str:  if you want you\n",
            "39 loss:  1.0389455556869507 prediction:  [[7 9 1 0 5 6 1 8 2 3 4 1 0 5 6]] true Y:  [[7, 9, 1, 0, 5, 6, 1, 8, 2, 3, 4, 1, 0, 5, 6]] prediction str:  if you want you\n",
            "40 loss:  1.0385162830352783 prediction:  [[7 9 1 0 5 6 1 8 2 3 4 1 0 5 6]] true Y:  [[7, 9, 1, 0, 5, 6, 1, 8, 2, 3, 4, 1, 0, 5, 6]] prediction str:  if you want you\n",
            "41 loss:  1.038088083267212 prediction:  [[7 9 1 0 5 6 1 8 2 3 4 1 0 5 6]] true Y:  [[7, 9, 1, 0, 5, 6, 1, 8, 2, 3, 4, 1, 0, 5, 6]] prediction str:  if you want you\n",
            "42 loss:  1.0376611948013306 prediction:  [[7 9 1 0 5 6 1 8 2 3 4 1 0 5 6]] true Y:  [[7, 9, 1, 0, 5, 6, 1, 8, 2, 3, 4, 1, 0, 5, 6]] prediction str:  if you want you\n",
            "43 loss:  1.0372357368469238 prediction:  [[7 9 1 0 5 6 1 8 2 3 4 1 0 5 6]] true Y:  [[7, 9, 1, 0, 5, 6, 1, 8, 2, 3, 4, 1, 0, 5, 6]] prediction str:  if you want you\n",
            "44 loss:  1.036811113357544 prediction:  [[7 9 1 0 5 6 1 8 2 3 4 1 0 5 6]] true Y:  [[7, 9, 1, 0, 5, 6, 1, 8, 2, 3, 4, 1, 0, 5, 6]] prediction str:  if you want you\n",
            "45 loss:  1.0363876819610596 prediction:  [[7 9 1 0 5 6 1 8 2 3 4 1 0 5 6]] true Y:  [[7, 9, 1, 0, 5, 6, 1, 8, 2, 3, 4, 1, 0, 5, 6]] prediction str:  if you want you\n",
            "46 loss:  1.0359655618667603 prediction:  [[7 9 1 0 5 6 1 8 2 3 4 1 0 5 6]] true Y:  [[7, 9, 1, 0, 5, 6, 1, 8, 2, 3, 4, 1, 0, 5, 6]] prediction str:  if you want you\n",
            "47 loss:  1.035544514656067 prediction:  [[7 9 1 0 5 6 1 8 2 3 4 1 0 5 6]] true Y:  [[7, 9, 1, 0, 5, 6, 1, 8, 2, 3, 4, 1, 0, 5, 6]] prediction str:  if you want you\n",
            "48 loss:  1.0351245403289795 prediction:  [[7 9 1 0 5 6 1 8 2 3 4 1 0 5 6]] true Y:  [[7, 9, 1, 0, 5, 6, 1, 8, 2, 3, 4, 1, 0, 5, 6]] prediction str:  if you want you\n",
            "49 loss:  1.034705638885498 prediction:  [[7 9 1 0 5 6 1 8 2 3 4 1 0 5 6]] true Y:  [[7, 9, 1, 0, 5, 6, 1, 8, 2, 3, 4, 1, 0, 5, 6]] prediction str:  if you want you\n",
            "50 loss:  1.0342881679534912 prediction:  [[7 9 1 0 5 6 1 8 2 3 4 1 0 5 6]] true Y:  [[7, 9, 1, 0, 5, 6, 1, 8, 2, 3, 4, 1, 0, 5, 6]] prediction str:  if you want you\n",
            "51 loss:  1.0338717699050903 prediction:  [[7 9 1 0 5 6 1 8 2 3 4 1 0 5 6]] true Y:  [[7, 9, 1, 0, 5, 6, 1, 8, 2, 3, 4, 1, 0, 5, 6]] prediction str:  if you want you\n",
            "52 loss:  1.0334563255310059 prediction:  [[7 9 1 0 5 6 1 8 2 3 4 1 0 5 6]] true Y:  [[7, 9, 1, 0, 5, 6, 1, 8, 2, 3, 4, 1, 0, 5, 6]] prediction str:  if you want you\n",
            "53 loss:  1.033042073249817 prediction:  [[7 9 1 0 5 6 1 8 2 3 4 1 0 5 6]] true Y:  [[7, 9, 1, 0, 5, 6, 1, 8, 2, 3, 4, 1, 0, 5, 6]] prediction str:  if you want you\n",
            "54 loss:  1.0326290130615234 prediction:  [[7 9 1 0 5 6 1 8 2 3 4 1 0 5 6]] true Y:  [[7, 9, 1, 0, 5, 6, 1, 8, 2, 3, 4, 1, 0, 5, 6]] prediction str:  if you want you\n",
            "55 loss:  1.0322169065475464 prediction:  [[7 9 1 0 5 6 1 8 2 3 4 1 0 5 6]] true Y:  [[7, 9, 1, 0, 5, 6, 1, 8, 2, 3, 4, 1, 0, 5, 6]] prediction str:  if you want you\n",
            "56 loss:  1.031806230545044 prediction:  [[7 9 1 0 5 6 1 8 2 3 4 1 0 5 6]] true Y:  [[7, 9, 1, 0, 5, 6, 1, 8, 2, 3, 4, 1, 0, 5, 6]] prediction str:  if you want you\n",
            "57 loss:  1.0313963890075684 prediction:  [[7 9 1 0 5 6 1 8 2 3 4 1 0 5 6]] true Y:  [[7, 9, 1, 0, 5, 6, 1, 8, 2, 3, 4, 1, 0, 5, 6]] prediction str:  if you want you\n",
            "58 loss:  1.0309876203536987 prediction:  [[7 9 1 0 5 6 1 8 2 3 4 1 0 5 6]] true Y:  [[7, 9, 1, 0, 5, 6, 1, 8, 2, 3, 4, 1, 0, 5, 6]] prediction str:  if you want you\n",
            "59 loss:  1.0305801630020142 prediction:  [[7 9 1 0 5 6 1 8 2 3 4 1 0 5 6]] true Y:  [[7, 9, 1, 0, 5, 6, 1, 8, 2, 3, 4, 1, 0, 5, 6]] prediction str:  if you want you\n",
            "60 loss:  1.0301735401153564 prediction:  [[7 9 1 0 5 6 1 8 2 3 4 1 0 5 6]] true Y:  [[7, 9, 1, 0, 5, 6, 1, 8, 2, 3, 4, 1, 0, 5, 6]] prediction str:  if you want you\n",
            "61 loss:  1.0297681093215942 prediction:  [[7 9 1 0 5 6 1 8 2 3 4 1 0 5 6]] true Y:  [[7, 9, 1, 0, 5, 6, 1, 8, 2, 3, 4, 1, 0, 5, 6]] prediction str:  if you want you\n",
            "62 loss:  1.0293638706207275 prediction:  [[7 9 1 0 5 6 1 8 2 3 4 1 0 5 6]] true Y:  [[7, 9, 1, 0, 5, 6, 1, 8, 2, 3, 4, 1, 0, 5, 6]] prediction str:  if you want you\n",
            "63 loss:  1.0289605855941772 prediction:  [[7 9 1 0 5 6 1 8 2 3 4 1 0 5 6]] true Y:  [[7, 9, 1, 0, 5, 6, 1, 8, 2, 3, 4, 1, 0, 5, 6]] prediction str:  if you want you\n",
            "64 loss:  1.028558373451233 prediction:  [[7 9 1 0 5 6 1 8 2 3 4 1 0 5 6]] true Y:  [[7, 9, 1, 0, 5, 6, 1, 8, 2, 3, 4, 1, 0, 5, 6]] prediction str:  if you want you\n",
            "65 loss:  1.028157114982605 prediction:  [[7 9 1 0 5 6 1 8 2 3 4 1 0 5 6]] true Y:  [[7, 9, 1, 0, 5, 6, 1, 8, 2, 3, 4, 1, 0, 5, 6]] prediction str:  if you want you\n",
            "66 loss:  1.027757167816162 prediction:  [[7 9 1 0 5 6 1 8 2 3 4 1 0 5 6]] true Y:  [[7, 9, 1, 0, 5, 6, 1, 8, 2, 3, 4, 1, 0, 5, 6]] prediction str:  if you want you\n",
            "67 loss:  1.0273581743240356 prediction:  [[7 9 1 0 5 6 1 8 2 3 4 1 0 5 6]] true Y:  [[7, 9, 1, 0, 5, 6, 1, 8, 2, 3, 4, 1, 0, 5, 6]] prediction str:  if you want you\n",
            "68 loss:  1.0269601345062256 prediction:  [[7 9 1 0 5 6 1 8 2 3 4 1 0 5 6]] true Y:  [[7, 9, 1, 0, 5, 6, 1, 8, 2, 3, 4, 1, 0, 5, 6]] prediction str:  if you want you\n",
            "69 loss:  1.026563286781311 prediction:  [[7 9 1 0 5 6 1 8 2 3 4 1 0 5 6]] true Y:  [[7, 9, 1, 0, 5, 6, 1, 8, 2, 3, 4, 1, 0, 5, 6]] prediction str:  if you want you\n",
            "70 loss:  1.0261672735214233 prediction:  [[7 9 1 0 5 6 1 8 2 3 4 1 0 5 6]] true Y:  [[7, 9, 1, 0, 5, 6, 1, 8, 2, 3, 4, 1, 0, 5, 6]] prediction str:  if you want you\n",
            "71 loss:  1.0257724523544312 prediction:  [[7 9 1 0 5 6 1 8 2 3 4 1 0 5 6]] true Y:  [[7, 9, 1, 0, 5, 6, 1, 8, 2, 3, 4, 1, 0, 5, 6]] prediction str:  if you want you\n",
            "72 loss:  1.025378704071045 prediction:  [[7 9 1 0 5 6 1 8 2 3 4 1 0 5 6]] true Y:  [[7, 9, 1, 0, 5, 6, 1, 8, 2, 3, 4, 1, 0, 5, 6]] prediction str:  if you want you\n",
            "73 loss:  1.0249857902526855 prediction:  [[7 9 1 0 5 6 1 8 2 3 4 1 0 5 6]] true Y:  [[7, 9, 1, 0, 5, 6, 1, 8, 2, 3, 4, 1, 0, 5, 6]] prediction str:  if you want you\n",
            "74 loss:  1.0245940685272217 prediction:  [[7 9 1 0 5 6 1 8 2 3 4 1 0 5 6]] true Y:  [[7, 9, 1, 0, 5, 6, 1, 8, 2, 3, 4, 1, 0, 5, 6]] prediction str:  if you want you\n",
            "75 loss:  1.0242031812667847 prediction:  [[7 9 1 0 5 6 1 8 2 3 4 1 0 5 6]] true Y:  [[7, 9, 1, 0, 5, 6, 1, 8, 2, 3, 4, 1, 0, 5, 6]] prediction str:  if you want you\n",
            "76 loss:  1.0238133668899536 prediction:  [[7 9 1 0 5 6 1 8 2 3 4 1 0 5 6]] true Y:  [[7, 9, 1, 0, 5, 6, 1, 8, 2, 3, 4, 1, 0, 5, 6]] prediction str:  if you want you\n",
            "77 loss:  1.0234246253967285 prediction:  [[7 9 1 0 5 6 1 8 2 3 4 1 0 5 6]] true Y:  [[7, 9, 1, 0, 5, 6, 1, 8, 2, 3, 4, 1, 0, 5, 6]] prediction str:  if you want you\n",
            "78 loss:  1.0230368375778198 prediction:  [[7 9 1 0 5 6 1 8 2 3 4 1 0 5 6]] true Y:  [[7, 9, 1, 0, 5, 6, 1, 8, 2, 3, 4, 1, 0, 5, 6]] prediction str:  if you want you\n",
            "79 loss:  1.022650122642517 prediction:  [[7 9 1 0 5 6 1 8 2 3 4 1 0 5 6]] true Y:  [[7, 9, 1, 0, 5, 6, 1, 8, 2, 3, 4, 1, 0, 5, 6]] prediction str:  if you want you\n",
            "80 loss:  1.0222643613815308 prediction:  [[7 9 1 0 5 6 1 8 2 3 4 1 0 5 6]] true Y:  [[7, 9, 1, 0, 5, 6, 1, 8, 2, 3, 4, 1, 0, 5, 6]] prediction str:  if you want you\n",
            "81 loss:  1.0218795537948608 prediction:  [[7 9 1 0 5 6 1 8 2 3 4 1 0 5 6]] true Y:  [[7, 9, 1, 0, 5, 6, 1, 8, 2, 3, 4, 1, 0, 5, 6]] prediction str:  if you want you\n",
            "82 loss:  1.0214958190917969 prediction:  [[7 9 1 0 5 6 1 8 2 3 4 1 0 5 6]] true Y:  [[7, 9, 1, 0, 5, 6, 1, 8, 2, 3, 4, 1, 0, 5, 6]] prediction str:  if you want you\n",
            "83 loss:  1.0211130380630493 prediction:  [[7 9 1 0 5 6 1 8 2 3 4 1 0 5 6]] true Y:  [[7, 9, 1, 0, 5, 6, 1, 8, 2, 3, 4, 1, 0, 5, 6]] prediction str:  if you want you\n",
            "84 loss:  1.0207312107086182 prediction:  [[7 9 1 0 5 6 1 8 2 3 4 1 0 5 6]] true Y:  [[7, 9, 1, 0, 5, 6, 1, 8, 2, 3, 4, 1, 0, 5, 6]] prediction str:  if you want you\n",
            "85 loss:  1.0203500986099243 prediction:  [[7 9 1 0 5 6 1 8 2 3 4 1 0 5 6]] true Y:  [[7, 9, 1, 0, 5, 6, 1, 8, 2, 3, 4, 1, 0, 5, 6]] prediction str:  if you want you\n",
            "86 loss:  1.019970178604126 prediction:  [[7 9 1 0 5 6 1 8 2 3 4 1 0 5 6]] true Y:  [[7, 9, 1, 0, 5, 6, 1, 8, 2, 3, 4, 1, 0, 5, 6]] prediction str:  if you want you\n",
            "87 loss:  1.0195914506912231 prediction:  [[7 9 1 0 5 6 1 8 2 3 4 1 0 5 6]] true Y:  [[7, 9, 1, 0, 5, 6, 1, 8, 2, 3, 4, 1, 0, 5, 6]] prediction str:  if you want you\n",
            "88 loss:  1.019213318824768 prediction:  [[7 9 1 0 5 6 1 8 2 3 4 1 0 5 6]] true Y:  [[7, 9, 1, 0, 5, 6, 1, 8, 2, 3, 4, 1, 0, 5, 6]] prediction str:  if you want you\n",
            "89 loss:  1.0188363790512085 prediction:  [[7 9 1 0 5 6 1 8 2 3 4 1 0 5 6]] true Y:  [[7, 9, 1, 0, 5, 6, 1, 8, 2, 3, 4, 1, 0, 5, 6]] prediction str:  if you want you\n",
            "90 loss:  1.0184601545333862 prediction:  [[7 9 1 0 5 6 1 8 2 3 4 1 0 5 6]] true Y:  [[7, 9, 1, 0, 5, 6, 1, 8, 2, 3, 4, 1, 0, 5, 6]] prediction str:  if you want you\n",
            "91 loss:  1.0180851221084595 prediction:  [[7 9 1 0 5 6 1 8 2 3 4 1 0 5 6]] true Y:  [[7, 9, 1, 0, 5, 6, 1, 8, 2, 3, 4, 1, 0, 5, 6]] prediction str:  if you want you\n",
            "92 loss:  1.0177109241485596 prediction:  [[7 9 1 0 5 6 1 8 2 3 4 1 0 5 6]] true Y:  [[7, 9, 1, 0, 5, 6, 1, 8, 2, 3, 4, 1, 0, 5, 6]] prediction str:  if you want you\n",
            "93 loss:  1.0173375606536865 prediction:  [[7 9 1 0 5 6 1 8 2 3 4 1 0 5 6]] true Y:  [[7, 9, 1, 0, 5, 6, 1, 8, 2, 3, 4, 1, 0, 5, 6]] prediction str:  if you want you\n",
            "94 loss:  1.0169652700424194 prediction:  [[7 9 1 0 5 6 1 8 2 3 4 1 0 5 6]] true Y:  [[7, 9, 1, 0, 5, 6, 1, 8, 2, 3, 4, 1, 0, 5, 6]] prediction str:  if you want you\n",
            "95 loss:  1.0165939331054688 prediction:  [[7 9 1 0 5 6 1 8 2 3 4 1 0 5 6]] true Y:  [[7, 9, 1, 0, 5, 6, 1, 8, 2, 3, 4, 1, 0, 5, 6]] prediction str:  if you want you\n",
            "96 loss:  1.016223430633545 prediction:  [[7 9 1 0 5 6 1 8 2 3 4 1 0 5 6]] true Y:  [[7, 9, 1, 0, 5, 6, 1, 8, 2, 3, 4, 1, 0, 5, 6]] prediction str:  if you want you\n",
            "97 loss:  1.0158538818359375 prediction:  [[7 9 1 0 5 6 1 8 2 3 4 1 0 5 6]] true Y:  [[7, 9, 1, 0, 5, 6, 1, 8, 2, 3, 4, 1, 0, 5, 6]] prediction str:  if you want you\n",
            "98 loss:  1.015485167503357 prediction:  [[7 9 1 0 5 6 1 8 2 3 4 1 0 5 6]] true Y:  [[7, 9, 1, 0, 5, 6, 1, 8, 2, 3, 4, 1, 0, 5, 6]] prediction str:  if you want you\n",
            "99 loss:  1.0151175260543823 prediction:  [[7 9 1 0 5 6 1 8 2 3 4 1 0 5 6]] true Y:  [[7, 9, 1, 0, 5, 6, 1, 8, 2, 3, 4, 1, 0, 5, 6]] prediction str:  if you want you\n",
            "100 loss:  1.0147507190704346 prediction:  [[7 9 1 0 5 6 1 8 2 3 4 1 0 5 6]] true Y:  [[7, 9, 1, 0, 5, 6, 1, 8, 2, 3, 4, 1, 0, 5, 6]] prediction str:  if you want you\n",
            "101 loss:  1.0143846273422241 prediction:  [[7 9 1 0 5 6 1 8 2 3 4 1 0 5 6]] true Y:  [[7, 9, 1, 0, 5, 6, 1, 8, 2, 3, 4, 1, 0, 5, 6]] prediction str:  if you want you\n",
            "102 loss:  1.0140197277069092 prediction:  [[7 9 1 0 5 6 1 8 2 3 4 1 0 5 6]] true Y:  [[7, 9, 1, 0, 5, 6, 1, 8, 2, 3, 4, 1, 0, 5, 6]] prediction str:  if you want you\n",
            "103 loss:  1.013655662536621 prediction:  [[7 9 1 0 5 6 1 8 2 3 4 1 0 5 6]] true Y:  [[7, 9, 1, 0, 5, 6, 1, 8, 2, 3, 4, 1, 0, 5, 6]] prediction str:  if you want you\n",
            "104 loss:  1.0132924318313599 prediction:  [[7 9 1 0 5 6 1 8 2 3 4 1 0 5 6]] true Y:  [[7, 9, 1, 0, 5, 6, 1, 8, 2, 3, 4, 1, 0, 5, 6]] prediction str:  if you want you\n",
            "105 loss:  1.012929916381836 prediction:  [[7 9 1 0 5 6 1 8 2 3 4 1 0 5 6]] true Y:  [[7, 9, 1, 0, 5, 6, 1, 8, 2, 3, 4, 1, 0, 5, 6]] prediction str:  if you want you\n",
            "106 loss:  1.0125685930252075 prediction:  [[7 9 1 0 5 6 1 8 2 3 4 1 0 5 6]] true Y:  [[7, 9, 1, 0, 5, 6, 1, 8, 2, 3, 4, 1, 0, 5, 6]] prediction str:  if you want you\n",
            "107 loss:  1.012208104133606 prediction:  [[7 9 1 0 5 6 1 8 2 3 4 1 0 5 6]] true Y:  [[7, 9, 1, 0, 5, 6, 1, 8, 2, 3, 4, 1, 0, 5, 6]] prediction str:  if you want you\n",
            "108 loss:  1.0118483304977417 prediction:  [[7 9 1 0 5 6 1 8 2 3 4 1 0 5 6]] true Y:  [[7, 9, 1, 0, 5, 6, 1, 8, 2, 3, 4, 1, 0, 5, 6]] prediction str:  if you want you\n",
            "109 loss:  1.0114895105361938 prediction:  [[7 9 1 0 5 6 1 8 2 3 4 1 0 5 6]] true Y:  [[7, 9, 1, 0, 5, 6, 1, 8, 2, 3, 4, 1, 0, 5, 6]] prediction str:  if you want you\n",
            "110 loss:  1.0111316442489624 prediction:  [[7 9 1 0 5 6 1 8 2 3 4 1 0 5 6]] true Y:  [[7, 9, 1, 0, 5, 6, 1, 8, 2, 3, 4, 1, 0, 5, 6]] prediction str:  if you want you\n",
            "111 loss:  1.0107744932174683 prediction:  [[7 9 1 0 5 6 1 8 2 3 4 1 0 5 6]] true Y:  [[7, 9, 1, 0, 5, 6, 1, 8, 2, 3, 4, 1, 0, 5, 6]] prediction str:  if you want you\n",
            "112 loss:  1.01041841506958 prediction:  [[7 9 1 0 5 6 1 8 2 3 4 1 0 5 6]] true Y:  [[7, 9, 1, 0, 5, 6, 1, 8, 2, 3, 4, 1, 0, 5, 6]] prediction str:  if you want you\n",
            "113 loss:  1.0100629329681396 prediction:  [[7 9 1 0 5 6 1 8 2 3 4 1 0 5 6]] true Y:  [[7, 9, 1, 0, 5, 6, 1, 8, 2, 3, 4, 1, 0, 5, 6]] prediction str:  if you want you\n",
            "114 loss:  1.0097086429595947 prediction:  [[7 9 1 0 5 6 1 8 2 3 4 1 0 5 6]] true Y:  [[7, 9, 1, 0, 5, 6, 1, 8, 2, 3, 4, 1, 0, 5, 6]] prediction str:  if you want you\n",
            "115 loss:  1.009354829788208 prediction:  [[7 9 1 0 5 6 1 8 2 3 4 1 0 5 6]] true Y:  [[7, 9, 1, 0, 5, 6, 1, 8, 2, 3, 4, 1, 0, 5, 6]] prediction str:  if you want you\n",
            "116 loss:  1.0090020895004272 prediction:  [[7 9 1 0 5 6 1 8 2 3 4 1 0 5 6]] true Y:  [[7, 9, 1, 0, 5, 6, 1, 8, 2, 3, 4, 1, 0, 5, 6]] prediction str:  if you want you\n",
            "117 loss:  1.008650302886963 prediction:  [[7 9 1 0 5 6 1 8 2 3 4 1 0 5 6]] true Y:  [[7, 9, 1, 0, 5, 6, 1, 8, 2, 3, 4, 1, 0, 5, 6]] prediction str:  if you want you\n",
            "118 loss:  1.0082991123199463 prediction:  [[7 9 1 0 5 6 1 8 2 3 4 1 0 5 6]] true Y:  [[7, 9, 1, 0, 5, 6, 1, 8, 2, 3, 4, 1, 0, 5, 6]] prediction str:  if you want you\n",
            "119 loss:  1.0079487562179565 prediction:  [[7 9 1 0 5 6 1 8 2 3 4 1 0 5 6]] true Y:  [[7, 9, 1, 0, 5, 6, 1, 8, 2, 3, 4, 1, 0, 5, 6]] prediction str:  if you want you\n",
            "120 loss:  1.0075993537902832 prediction:  [[7 9 1 0 5 6 1 8 2 3 4 1 0 5 6]] true Y:  [[7, 9, 1, 0, 5, 6, 1, 8, 2, 3, 4, 1, 0, 5, 6]] prediction str:  if you want you\n",
            "121 loss:  1.0072509050369263 prediction:  [[7 9 1 0 5 6 1 8 2 3 4 1 0 5 6]] true Y:  [[7, 9, 1, 0, 5, 6, 1, 8, 2, 3, 4, 1, 0, 5, 6]] prediction str:  if you want you\n",
            "122 loss:  1.0069031715393066 prediction:  [[7 9 1 0 5 6 1 8 2 3 4 1 0 5 6]] true Y:  [[7, 9, 1, 0, 5, 6, 1, 8, 2, 3, 4, 1, 0, 5, 6]] prediction str:  if you want you\n",
            "123 loss:  1.0065561532974243 prediction:  [[7 9 1 0 5 6 1 8 2 3 4 1 0 5 6]] true Y:  [[7, 9, 1, 0, 5, 6, 1, 8, 2, 3, 4, 1, 0, 5, 6]] prediction str:  if you want you\n",
            "124 loss:  1.0062099695205688 prediction:  [[7 9 1 0 5 6 1 8 2 3 4 1 0 5 6]] true Y:  [[7, 9, 1, 0, 5, 6, 1, 8, 2, 3, 4, 1, 0, 5, 6]] prediction str:  if you want you\n",
            "125 loss:  1.0058648586273193 prediction:  [[7 9 1 0 5 6 1 8 2 3 4 1 0 5 6]] true Y:  [[7, 9, 1, 0, 5, 6, 1, 8, 2, 3, 4, 1, 0, 5, 6]] prediction str:  if you want you\n",
            "126 loss:  1.005520224571228 prediction:  [[7 9 1 0 5 6 1 8 2 3 4 1 0 5 6]] true Y:  [[7, 9, 1, 0, 5, 6, 1, 8, 2, 3, 4, 1, 0, 5, 6]] prediction str:  if you want you\n",
            "127 loss:  1.0051766633987427 prediction:  [[7 9 1 0 5 6 1 8 2 3 4 1 0 5 6]] true Y:  [[7, 9, 1, 0, 5, 6, 1, 8, 2, 3, 4, 1, 0, 5, 6]] prediction str:  if you want you\n",
            "128 loss:  1.004833698272705 prediction:  [[7 9 1 0 5 6 1 8 2 3 4 1 0 5 6]] true Y:  [[7, 9, 1, 0, 5, 6, 1, 8, 2, 3, 4, 1, 0, 5, 6]] prediction str:  if you want you\n",
            "129 loss:  1.0044916868209839 prediction:  [[7 9 1 0 5 6 1 8 2 3 4 1 0 5 6]] true Y:  [[7, 9, 1, 0, 5, 6, 1, 8, 2, 3, 4, 1, 0, 5, 6]] prediction str:  if you want you\n",
            "130 loss:  1.0041505098342896 prediction:  [[7 9 1 0 5 6 1 8 2 3 4 1 0 5 6]] true Y:  [[7, 9, 1, 0, 5, 6, 1, 8, 2, 3, 4, 1, 0, 5, 6]] prediction str:  if you want you\n",
            "131 loss:  1.0038100481033325 prediction:  [[7 9 1 0 5 6 1 8 2 3 4 1 0 5 6]] true Y:  [[7, 9, 1, 0, 5, 6, 1, 8, 2, 3, 4, 1, 0, 5, 6]] prediction str:  if you want you\n",
            "132 loss:  1.0034703016281128 prediction:  [[7 9 1 0 5 6 1 8 2 3 4 1 0 5 6]] true Y:  [[7, 9, 1, 0, 5, 6, 1, 8, 2, 3, 4, 1, 0, 5, 6]] prediction str:  if you want you\n",
            "133 loss:  1.0031315088272095 prediction:  [[7 9 1 0 5 6 1 8 2 3 4 1 0 5 6]] true Y:  [[7, 9, 1, 0, 5, 6, 1, 8, 2, 3, 4, 1, 0, 5, 6]] prediction str:  if you want you\n",
            "134 loss:  1.002793550491333 prediction:  [[7 9 1 0 5 6 1 8 2 3 4 1 0 5 6]] true Y:  [[7, 9, 1, 0, 5, 6, 1, 8, 2, 3, 4, 1, 0, 5, 6]] prediction str:  if you want you\n",
            "135 loss:  1.0024561882019043 prediction:  [[7 9 1 0 5 6 1 8 2 3 4 1 0 5 6]] true Y:  [[7, 9, 1, 0, 5, 6, 1, 8, 2, 3, 4, 1, 0, 5, 6]] prediction str:  if you want you\n",
            "136 loss:  1.0021196603775024 prediction:  [[7 9 1 0 5 6 1 8 2 3 4 1 0 5 6]] true Y:  [[7, 9, 1, 0, 5, 6, 1, 8, 2, 3, 4, 1, 0, 5, 6]] prediction str:  if you want you\n",
            "137 loss:  1.0017839670181274 prediction:  [[7 9 1 0 5 6 1 8 2 3 4 1 0 5 6]] true Y:  [[7, 9, 1, 0, 5, 6, 1, 8, 2, 3, 4, 1, 0, 5, 6]] prediction str:  if you want you\n",
            "138 loss:  1.0014489889144897 prediction:  [[7 9 1 0 5 6 1 8 2 3 4 1 0 5 6]] true Y:  [[7, 9, 1, 0, 5, 6, 1, 8, 2, 3, 4, 1, 0, 5, 6]] prediction str:  if you want you\n",
            "139 loss:  1.001114845275879 prediction:  [[7 9 1 0 5 6 1 8 2 3 4 1 0 5 6]] true Y:  [[7, 9, 1, 0, 5, 6, 1, 8, 2, 3, 4, 1, 0, 5, 6]] prediction str:  if you want you\n",
            "140 loss:  1.000781536102295 prediction:  [[7 9 1 0 5 6 1 8 2 3 4 1 0 5 6]] true Y:  [[7, 9, 1, 0, 5, 6, 1, 8, 2, 3, 4, 1, 0, 5, 6]] prediction str:  if you want you\n",
            "141 loss:  1.0004488229751587 prediction:  [[7 9 1 0 5 6 1 8 2 3 4 1 0 5 6]] true Y:  [[7, 9, 1, 0, 5, 6, 1, 8, 2, 3, 4, 1, 0, 5, 6]] prediction str:  if you want you\n",
            "142 loss:  1.0001169443130493 prediction:  [[7 9 1 0 5 6 1 8 2 3 4 1 0 5 6]] true Y:  [[7, 9, 1, 0, 5, 6, 1, 8, 2, 3, 4, 1, 0, 5, 6]] prediction str:  if you want you\n",
            "143 loss:  0.9997859597206116 prediction:  [[7 9 1 0 5 6 1 8 2 3 4 1 0 5 6]] true Y:  [[7, 9, 1, 0, 5, 6, 1, 8, 2, 3, 4, 1, 0, 5, 6]] prediction str:  if you want you\n",
            "144 loss:  0.9994556307792664 prediction:  [[7 9 1 0 5 6 1 8 2 3 4 1 0 5 6]] true Y:  [[7, 9, 1, 0, 5, 6, 1, 8, 2, 3, 4, 1, 0, 5, 6]] prediction str:  if you want you\n",
            "145 loss:  0.9991260766983032 prediction:  [[7 9 1 0 5 6 1 8 2 3 4 1 0 5 6]] true Y:  [[7, 9, 1, 0, 5, 6, 1, 8, 2, 3, 4, 1, 0, 5, 6]] prediction str:  if you want you\n",
            "146 loss:  0.9987972378730774 prediction:  [[7 9 1 0 5 6 1 8 2 3 4 1 0 5 6]] true Y:  [[7, 9, 1, 0, 5, 6, 1, 8, 2, 3, 4, 1, 0, 5, 6]] prediction str:  if you want you\n",
            "147 loss:  0.9984691143035889 prediction:  [[7 9 1 0 5 6 1 8 2 3 4 1 0 5 6]] true Y:  [[7, 9, 1, 0, 5, 6, 1, 8, 2, 3, 4, 1, 0, 5, 6]] prediction str:  if you want you\n",
            "148 loss:  0.998141884803772 prediction:  [[7 9 1 0 5 6 1 8 2 3 4 1 0 5 6]] true Y:  [[7, 9, 1, 0, 5, 6, 1, 8, 2, 3, 4, 1, 0, 5, 6]] prediction str:  if you want you\n",
            "149 loss:  0.9978153109550476 prediction:  [[7 9 1 0 5 6 1 8 2 3 4 1 0 5 6]] true Y:  [[7, 9, 1, 0, 5, 6, 1, 8, 2, 3, 4, 1, 0, 5, 6]] prediction str:  if you want you\n",
            "150 loss:  0.9974895715713501 prediction:  [[7 9 1 0 5 6 1 8 2 3 4 1 0 5 6]] true Y:  [[7, 9, 1, 0, 5, 6, 1, 8, 2, 3, 4, 1, 0, 5, 6]] prediction str:  if you want you\n",
            "151 loss:  0.9971643686294556 prediction:  [[7 9 1 0 5 6 1 8 2 3 4 1 0 5 6]] true Y:  [[7, 9, 1, 0, 5, 6, 1, 8, 2, 3, 4, 1, 0, 5, 6]] prediction str:  if you want you\n",
            "152 loss:  0.9968399405479431 prediction:  [[7 9 1 0 5 6 1 8 2 3 4 1 0 5 6]] true Y:  [[7, 9, 1, 0, 5, 6, 1, 8, 2, 3, 4, 1, 0, 5, 6]] prediction str:  if you want you\n",
            "153 loss:  0.9965163469314575 prediction:  [[7 9 1 0 5 6 1 8 2 3 4 1 0 5 6]] true Y:  [[7, 9, 1, 0, 5, 6, 1, 8, 2, 3, 4, 1, 0, 5, 6]] prediction str:  if you want you\n",
            "154 loss:  0.996193528175354 prediction:  [[7 9 1 0 5 6 1 8 2 3 4 1 0 5 6]] true Y:  [[7, 9, 1, 0, 5, 6, 1, 8, 2, 3, 4, 1, 0, 5, 6]] prediction str:  if you want you\n",
            "155 loss:  0.995871365070343 prediction:  [[7 9 1 0 5 6 1 8 2 3 4 1 0 5 6]] true Y:  [[7, 9, 1, 0, 5, 6, 1, 8, 2, 3, 4, 1, 0, 5, 6]] prediction str:  if you want you\n",
            "156 loss:  0.9955499768257141 prediction:  [[7 9 1 0 5 6 1 8 2 3 4 1 0 5 6]] true Y:  [[7, 9, 1, 0, 5, 6, 1, 8, 2, 3, 4, 1, 0, 5, 6]] prediction str:  if you want you\n",
            "157 loss:  0.9952291250228882 prediction:  [[7 9 1 0 5 6 1 8 2 3 4 1 0 5 6]] true Y:  [[7, 9, 1, 0, 5, 6, 1, 8, 2, 3, 4, 1, 0, 5, 6]] prediction str:  if you want you\n",
            "158 loss:  0.9949091672897339 prediction:  [[7 9 1 0 5 6 1 8 2 3 4 1 0 5 6]] true Y:  [[7, 9, 1, 0, 5, 6, 1, 8, 2, 3, 4, 1, 0, 5, 6]] prediction str:  if you want you\n",
            "159 loss:  0.9945900440216064 prediction:  [[7 9 1 0 5 6 1 8 2 3 4 1 0 5 6]] true Y:  [[7, 9, 1, 0, 5, 6, 1, 8, 2, 3, 4, 1, 0, 5, 6]] prediction str:  if you want you\n",
            "160 loss:  0.9942713379859924 prediction:  [[7 9 1 0 5 6 1 8 2 3 4 1 0 5 6]] true Y:  [[7, 9, 1, 0, 5, 6, 1, 8, 2, 3, 4, 1, 0, 5, 6]] prediction str:  if you want you\n",
            "161 loss:  0.9939534664154053 prediction:  [[7 9 1 0 5 6 1 8 2 3 4 1 0 5 6]] true Y:  [[7, 9, 1, 0, 5, 6, 1, 8, 2, 3, 4, 1, 0, 5, 6]] prediction str:  if you want you\n",
            "162 loss:  0.9936363697052002 prediction:  [[7 9 1 0 5 6 1 8 2 3 4 1 0 5 6]] true Y:  [[7, 9, 1, 0, 5, 6, 1, 8, 2, 3, 4, 1, 0, 5, 6]] prediction str:  if you want you\n",
            "163 loss:  0.9933198690414429 prediction:  [[7 9 1 0 5 6 1 8 2 3 4 1 0 5 6]] true Y:  [[7, 9, 1, 0, 5, 6, 1, 8, 2, 3, 4, 1, 0, 5, 6]] prediction str:  if you want you\n",
            "164 loss:  0.9930043816566467 prediction:  [[7 9 1 0 5 6 1 8 2 3 4 1 0 5 6]] true Y:  [[7, 9, 1, 0, 5, 6, 1, 8, 2, 3, 4, 1, 0, 5, 6]] prediction str:  if you want you\n",
            "165 loss:  0.9926892518997192 prediction:  [[7 9 1 0 5 6 1 8 2 3 4 1 0 5 6]] true Y:  [[7, 9, 1, 0, 5, 6, 1, 8, 2, 3, 4, 1, 0, 5, 6]] prediction str:  if you want you\n",
            "166 loss:  0.9923749566078186 prediction:  [[7 9 1 0 5 6 1 8 2 3 4 1 0 5 6]] true Y:  [[7, 9, 1, 0, 5, 6, 1, 8, 2, 3, 4, 1, 0, 5, 6]] prediction str:  if you want you\n",
            "167 loss:  0.9920613765716553 prediction:  [[7 9 1 0 5 6 1 8 2 3 4 1 0 5 6]] true Y:  [[7, 9, 1, 0, 5, 6, 1, 8, 2, 3, 4, 1, 0, 5, 6]] prediction str:  if you want you\n",
            "168 loss:  0.9917482733726501 prediction:  [[7 9 1 0 5 6 1 8 2 3 4 1 0 5 6]] true Y:  [[7, 9, 1, 0, 5, 6, 1, 8, 2, 3, 4, 1, 0, 5, 6]] prediction str:  if you want you\n",
            "169 loss:  0.9914361238479614 prediction:  [[7 9 1 0 5 6 1 8 2 3 4 1 0 5 6]] true Y:  [[7, 9, 1, 0, 5, 6, 1, 8, 2, 3, 4, 1, 0, 5, 6]] prediction str:  if you want you\n",
            "170 loss:  0.9911245703697205 prediction:  [[7 9 1 0 5 6 1 8 2 3 4 1 0 5 6]] true Y:  [[7, 9, 1, 0, 5, 6, 1, 8, 2, 3, 4, 1, 0, 5, 6]] prediction str:  if you want you\n",
            "171 loss:  0.9908138513565063 prediction:  [[7 9 1 0 5 6 1 8 2 3 4 1 0 5 6]] true Y:  [[7, 9, 1, 0, 5, 6, 1, 8, 2, 3, 4, 1, 0, 5, 6]] prediction str:  if you want you\n",
            "172 loss:  0.9905035495758057 prediction:  [[7 9 1 0 5 6 1 8 2 3 4 1 0 5 6]] true Y:  [[7, 9, 1, 0, 5, 6, 1, 8, 2, 3, 4, 1, 0, 5, 6]] prediction str:  if you want you\n",
            "173 loss:  0.9901941418647766 prediction:  [[7 9 1 0 5 6 1 8 2 3 4 1 0 5 6]] true Y:  [[7, 9, 1, 0, 5, 6, 1, 8, 2, 3, 4, 1, 0, 5, 6]] prediction str:  if you want you\n",
            "174 loss:  0.9898853898048401 prediction:  [[7 9 1 0 5 6 1 8 2 3 4 1 0 5 6]] true Y:  [[7, 9, 1, 0, 5, 6, 1, 8, 2, 3, 4, 1, 0, 5, 6]] prediction str:  if you want you\n",
            "175 loss:  0.989577054977417 prediction:  [[7 9 1 0 5 6 1 8 2 3 4 1 0 5 6]] true Y:  [[7, 9, 1, 0, 5, 6, 1, 8, 2, 3, 4, 1, 0, 5, 6]] prediction str:  if you want you\n",
            "176 loss:  0.9892696142196655 prediction:  [[7 9 1 0 5 6 1 8 2 3 4 1 0 5 6]] true Y:  [[7, 9, 1, 0, 5, 6, 1, 8, 2, 3, 4, 1, 0, 5, 6]] prediction str:  if you want you\n",
            "177 loss:  0.9889629483222961 prediction:  [[7 9 1 0 5 6 1 8 2 3 4 1 0 5 6]] true Y:  [[7, 9, 1, 0, 5, 6, 1, 8, 2, 3, 4, 1, 0, 5, 6]] prediction str:  if you want you\n",
            "178 loss:  0.9886568188667297 prediction:  [[7 9 1 0 5 6 1 8 2 3 4 1 0 5 6]] true Y:  [[7, 9, 1, 0, 5, 6, 1, 8, 2, 3, 4, 1, 0, 5, 6]] prediction str:  if you want you\n",
            "179 loss:  0.9883514046669006 prediction:  [[7 9 1 0 5 6 1 8 2 3 4 1 0 5 6]] true Y:  [[7, 9, 1, 0, 5, 6, 1, 8, 2, 3, 4, 1, 0, 5, 6]] prediction str:  if you want you\n",
            "180 loss:  0.9880467057228088 prediction:  [[7 9 1 0 5 6 1 8 2 3 4 1 0 5 6]] true Y:  [[7, 9, 1, 0, 5, 6, 1, 8, 2, 3, 4, 1, 0, 5, 6]] prediction str:  if you want you\n",
            "181 loss:  0.98774254322052 prediction:  [[7 9 1 0 5 6 1 8 2 3 4 1 0 5 6]] true Y:  [[7, 9, 1, 0, 5, 6, 1, 8, 2, 3, 4, 1, 0, 5, 6]] prediction str:  if you want you\n",
            "182 loss:  0.9874390363693237 prediction:  [[7 9 1 0 5 6 1 8 2 3 4 1 0 5 6]] true Y:  [[7, 9, 1, 0, 5, 6, 1, 8, 2, 3, 4, 1, 0, 5, 6]] prediction str:  if you want you\n",
            "183 loss:  0.9871362447738647 prediction:  [[7 9 1 0 5 6 1 8 2 3 4 1 0 5 6]] true Y:  [[7, 9, 1, 0, 5, 6, 1, 8, 2, 3, 4, 1, 0, 5, 6]] prediction str:  if you want you\n",
            "184 loss:  0.9868342280387878 prediction:  [[7 9 1 0 5 6 1 8 2 3 4 1 0 5 6]] true Y:  [[7, 9, 1, 0, 5, 6, 1, 8, 2, 3, 4, 1, 0, 5, 6]] prediction str:  if you want you\n",
            "185 loss:  0.9865326285362244 prediction:  [[7 9 1 0 5 6 1 8 2 3 4 1 0 5 6]] true Y:  [[7, 9, 1, 0, 5, 6, 1, 8, 2, 3, 4, 1, 0, 5, 6]] prediction str:  if you want you\n",
            "186 loss:  0.9862318634986877 prediction:  [[7 9 1 0 5 6 1 8 2 3 4 1 0 5 6]] true Y:  [[7, 9, 1, 0, 5, 6, 1, 8, 2, 3, 4, 1, 0, 5, 6]] prediction str:  if you want you\n",
            "187 loss:  0.9859316945075989 prediction:  [[7 9 1 0 5 6 1 8 2 3 4 1 0 5 6]] true Y:  [[7, 9, 1, 0, 5, 6, 1, 8, 2, 3, 4, 1, 0, 5, 6]] prediction str:  if you want you\n",
            "188 loss:  0.9856321811676025 prediction:  [[7 9 1 0 5 6 1 8 2 3 4 1 0 5 6]] true Y:  [[7, 9, 1, 0, 5, 6, 1, 8, 2, 3, 4, 1, 0, 5, 6]] prediction str:  if you want you\n",
            "189 loss:  0.9853332042694092 prediction:  [[7 9 1 0 5 6 1 8 2 3 4 1 0 5 6]] true Y:  [[7, 9, 1, 0, 5, 6, 1, 8, 2, 3, 4, 1, 0, 5, 6]] prediction str:  if you want you\n",
            "190 loss:  0.9850350022315979 prediction:  [[7 9 1 0 5 6 1 8 2 3 4 1 0 5 6]] true Y:  [[7, 9, 1, 0, 5, 6, 1, 8, 2, 3, 4, 1, 0, 5, 6]] prediction str:  if you want you\n",
            "191 loss:  0.9847374558448792 prediction:  [[7 9 1 0 5 6 1 8 2 3 4 1 0 5 6]] true Y:  [[7, 9, 1, 0, 5, 6, 1, 8, 2, 3, 4, 1, 0, 5, 6]] prediction str:  if you want you\n",
            "192 loss:  0.9844405651092529 prediction:  [[7 9 1 0 5 6 1 8 2 3 4 1 0 5 6]] true Y:  [[7, 9, 1, 0, 5, 6, 1, 8, 2, 3, 4, 1, 0, 5, 6]] prediction str:  if you want you\n",
            "193 loss:  0.9841440916061401 prediction:  [[7 9 1 0 5 6 1 8 2 3 4 1 0 5 6]] true Y:  [[7, 9, 1, 0, 5, 6, 1, 8, 2, 3, 4, 1, 0, 5, 6]] prediction str:  if you want you\n",
            "194 loss:  0.9838483929634094 prediction:  [[7 9 1 0 5 6 1 8 2 3 4 1 0 5 6]] true Y:  [[7, 9, 1, 0, 5, 6, 1, 8, 2, 3, 4, 1, 0, 5, 6]] prediction str:  if you want you\n",
            "195 loss:  0.9835532903671265 prediction:  [[7 9 1 0 5 6 1 8 2 3 4 1 0 5 6]] true Y:  [[7, 9, 1, 0, 5, 6, 1, 8, 2, 3, 4, 1, 0, 5, 6]] prediction str:  if you want you\n",
            "196 loss:  0.9832590222358704 prediction:  [[7 9 1 0 5 6 1 8 2 3 4 1 0 5 6]] true Y:  [[7, 9, 1, 0, 5, 6, 1, 8, 2, 3, 4, 1, 0, 5, 6]] prediction str:  if you want you\n",
            "197 loss:  0.9829652905464172 prediction:  [[7 9 1 0 5 6 1 8 2 3 4 1 0 5 6]] true Y:  [[7, 9, 1, 0, 5, 6, 1, 8, 2, 3, 4, 1, 0, 5, 6]] prediction str:  if you want you\n",
            "198 loss:  0.9826720952987671 prediction:  [[7 9 1 0 5 6 1 8 2 3 4 1 0 5 6]] true Y:  [[7, 9, 1, 0, 5, 6, 1, 8, 2, 3, 4, 1, 0, 5, 6]] prediction str:  if you want you\n",
            "199 loss:  0.9823794960975647 prediction:  [[7 9 1 0 5 6 1 8 2 3 4 1 0 5 6]] true Y:  [[7, 9, 1, 0, 5, 6, 1, 8, 2, 3, 4, 1, 0, 5, 6]] prediction str:  if you want you\n"
          ]
        }
      ]
    },
    {
      "cell_type": "code",
      "source": [
        ""
      ],
      "metadata": {
        "id": "uGC0wfNX6ikz"
      },
      "execution_count": null,
      "outputs": []
    }
  ]
}